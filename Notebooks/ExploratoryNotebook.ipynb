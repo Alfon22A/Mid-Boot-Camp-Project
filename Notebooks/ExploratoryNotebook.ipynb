{
 "cells": [
  {
   "cell_type": "code",
   "execution_count": 6,
   "id": "f3729bde-2ed9-46f3-8ff0-701770df2b29",
   "metadata": {},
   "outputs": [],
   "source": [
    "import pandas as pd\n",
    "import numpy as np\n",
    "\n",
    "import pickle\n",
    "\n",
    "import seaborn as sns\n",
    "import matplotlib.pyplot as plt\n",
    "%matplotlib inline\n",
    "\n",
    "from sklearn.model_selection import train_test_split\n",
    "from sklearn.preprocessing import MinMaxScaler, PowerTransformer\n",
    "from sklearn.linear_model import LinearRegression, LogisticRegression\n",
    "from sklearn.metrics import r2_score, confusion_matrix, ConfusionMatrixDisplay, cohen_kappa_score"
   ]
  },
  {
   "cell_type": "markdown",
   "id": "43ccc853-c082-474b-a998-fc5150eb373d",
   "metadata": {},
   "source": [
    "Let's explore a bit the dataset"
   ]
  },
  {
   "cell_type": "code",
   "execution_count": null,
   "id": "34e225d8-f1b5-4fc4-bdbd-7bd8ef3a3009",
   "metadata": {},
   "outputs": [],
   "source": [
    "mvp_2022 = pd.read_csv(\"../Data/Raw/MVP2022.csv\", header = 1)\n",
    "mvp_2022.head()"
   ]
  },
  {
   "cell_type": "markdown",
   "id": "76b5dc7e-5e72-4d39-af71-e4b95d3bcc04",
   "metadata": {},
   "source": [
    "Now we will create some code to clean all the datasets, save them individually, and also concatenate them in one to save it as well"
   ]
  },
  {
   "cell_type": "markdown",
   "id": "4485faa0-ab14-4567-b06c-bfc9569b3d22",
   "metadata": {},
   "source": [
    "First we create two empty lists to store keys and values, and an empty dictionary where we will link the previous lists.\n",
    "\n",
    "Then we do a for loop to create key names and extract the datasets."
   ]
  },
  {
   "cell_type": "code",
   "execution_count": null,
   "id": "32f03aa9-5920-4b8d-bb05-ed2d0065d5a2",
   "metadata": {},
   "outputs": [],
   "source": [
    "df_name = []\n",
    "df_data = []\n",
    "mvps = {}\n",
    "\n",
    "for x in range(23):\n",
    "    df_name.append(\"mvp_\"+str(2000+x))\n",
    "    df_data.append(pd.read_csv(\"../Data/Raw/MVP{}.csv\".format(2000+x), header = 1))"
   ]
  },
  {
   "cell_type": "markdown",
   "id": "6117f1c3-88b4-44a2-a4c3-fde979e8f091",
   "metadata": {},
   "source": [
    "Now we link the keys yo the values, and also do another for loop to clean the data:\n",
    "\n",
    "- Drop a useless column\n",
    "- Create columns with PTS, AST, TRB, STL and BLK per minute, in order to not give the edge to players with higher minutes per game.\n",
    "- A column with all stats combined per minute.\n",
    "- Create another column with the year of the MVP to differentiate it with the others once we concatenate them all.\n",
    "- Clean some values from the Rank column.\n",
    "- Fill in some missing values."
   ]
  },
  {
   "cell_type": "code",
   "execution_count": null,
   "id": "471c3567-5b79-45c4-939e-46d1eccbfc11",
   "metadata": {},
   "outputs": [],
   "source": [
    "mvps = dict(zip(df_name, df_data))\n",
    "    \n",
    "for key, x in zip(mvps, range(23)):\n",
    "    mvps[key] = mvps[key].drop(columns = mvps[key].columns[-1])\n",
    "    mvps[key][\"PTS/M\"] = mvps[key][\"PTS\"]/mvps[key][\"MP\"]\n",
    "    mvps[key][\"TRB/M\"] = mvps[key][\"TRB\"]/mvps[key][\"MP\"]\n",
    "    mvps[key][\"AST/M\"] = mvps[key][\"AST\"]/mvps[key][\"MP\"]\n",
    "    mvps[key][\"STL/M\"] = mvps[key][\"STL\"]/mvps[key][\"MP\"]\n",
    "    mvps[key][\"BLK/M\"] = mvps[key][\"BLK\"]/mvps[key][\"MP\"]\n",
    "    mvps[key][\"Stats/M\"] = mvps[key][\"PTS/M\"]+mvps[key][\"TRB/M\"]+mvps[key][\"AST/M\"]+mvps[key][\"STL/M\"]+mvps[key][\"BLK/M\"]\n",
    "    mvps[key][\"Year\"] = (2000+x)\n",
    "    mvps[key] = mvps[key].fillna(0)\n",
    "    mvps[key][\"Rank\"] = mvps[key][\"Rank\"].replace(\"T\",'',regex=True).astype(int)\n",
    "    mvps[key].to_csv(\"../Data/Cleaned/CleanMVP{}.csv\".format(2000+x), index = False)"
   ]
  },
  {
   "cell_type": "markdown",
   "id": "49fa4b4f-3d2a-4506-93aa-ea7eb7ccb133",
   "metadata": {},
   "source": [
    "Now we concatenate all."
   ]
  },
  {
   "cell_type": "code",
   "execution_count": null,
   "id": "c793ffb9-eec0-46fe-9a39-4d654b7b7b07",
   "metadata": {},
   "outputs": [],
   "source": [
    "data = pd.concat(mvps.values(), ignore_index = True)\n",
    "data.shape"
   ]
  },
  {
   "cell_type": "code",
   "execution_count": null,
   "id": "9f83c5be-2706-44d8-82db-026de394952d",
   "metadata": {},
   "outputs": [],
   "source": [
    "data.head()"
   ]
  },
  {
   "cell_type": "markdown",
   "id": "eb5c0b83-9c3f-4f46-8a59-58d37185aff8",
   "metadata": {},
   "source": [
    "And save the dataset."
   ]
  },
  {
   "cell_type": "code",
   "execution_count": null,
   "id": "635db720-6126-40f4-9c3c-65a6dce30758",
   "metadata": {},
   "outputs": [],
   "source": [
    "data.to_csv(\"../Data/Cleaned/CleanMVPs.csv\", index = False)"
   ]
  },
  {
   "cell_type": "markdown",
   "id": "4462229d-7ab0-418f-845a-d0a0775edbb7",
   "metadata": {},
   "source": [
    "Now we are going to split the dataset into two, one to predict Rank and another to predict Share, we are going to also drop Player, Tm, First, Pts Won, Pts Max and Year, as this are columns that are either not useful or directly correlated to the MVP."
   ]
  },
  {
   "cell_type": "code",
   "execution_count": null,
   "id": "f93219b8-c4a3-4217-ae60-d693896d2b19",
   "metadata": {},
   "outputs": [],
   "source": [
    "data_rank = data.drop(columns = [\"Player\", \"Tm\", \"Share\", \"First\", \"Pts Won\", \"Pts Max\", \"Year\"])\n",
    "data_share = data.drop(columns = [\"Player\", \"Tm\", \"Rank\", \"First\", \"Pts Won\", \"Pts Max\", \"Year\"])"
   ]
  },
  {
   "cell_type": "markdown",
   "id": "0598e5c2-a885-46df-9718-85bd60f82e97",
   "metadata": {},
   "source": [
    "Now we define a function to get rid of all the columns that don't reach a threshold of correlation with our target column."
   ]
  },
  {
   "cell_type": "code",
   "execution_count": null,
   "id": "23073631-82cf-4cc1-8cb8-66fbcbe53cb6",
   "metadata": {},
   "outputs": [],
   "source": [
    "def correlation(df, target = -1, threshold=0.75):\n",
    "    df2 = df.copy()\n",
    "    corr_matrix = df2.corr().abs()\n",
    "    for i in range(len(corr_matrix.columns)):\n",
    "        if (corr_matrix.iloc[i,target] < threshold):\n",
    "            df2 = df2.drop(columns = corr_matrix.columns[i])\n",
    "    display(sns.heatmap(df2.corr(), annot=True))\n",
    "    return df2"
   ]
  },
  {
   "cell_type": "code",
   "execution_count": null,
   "id": "02690fb8-618d-41a9-bae2-e32d451cbb7e",
   "metadata": {},
   "outputs": [],
   "source": [
    "data_rank = correlation(data_rank,0,0.4)"
   ]
  },
  {
   "cell_type": "code",
   "execution_count": null,
   "id": "0e663c75-93a9-478e-9845-ab5868b5e1cd",
   "metadata": {},
   "outputs": [],
   "source": [
    "data_share = correlation(data_share,1,0.4)"
   ]
  },
  {
   "cell_type": "markdown",
   "id": "a97b4eff-339e-4fc9-b118-34e74b45fed9",
   "metadata": {},
   "source": [
    "Well, we are left with very few columns, and the ones we have are highly related to each other in some cases: WS with WS/48, PTS and PTS/M, and PTS/M with Stats/M, which was expected.\n",
    "\n",
    "We are going to drop WS in both datasets, as well as PTS and PTS/M for the Rank dataset based on multicollinearity."
   ]
  },
  {
   "cell_type": "code",
   "execution_count": null,
   "id": "465e6637-70b4-425a-b75d-8fef594e177d",
   "metadata": {
    "tags": []
   },
   "outputs": [],
   "source": [
    "data_rank = data_rank.drop(columns = [\"WS\", \"PTS\", \"PTS/M\"])\n",
    "data_share = data_share.drop(columns = \"WS\")"
   ]
  },
  {
   "cell_type": "markdown",
   "id": "e5757f0b-f578-4ef1-8119-53b0f0191b16",
   "metadata": {},
   "source": [
    "Now we can do our X/y splits"
   ]
  },
  {
   "cell_type": "code",
   "execution_count": null,
   "id": "d219f500-2bae-4480-92ad-6a91f588b775",
   "metadata": {},
   "outputs": [],
   "source": [
    "rank_X = data_rank.drop(columns = \"Rank\")\n",
    "rank_y = data_rank[\"Rank\"]\n",
    "share_X = data_share.drop(columns = \"Share\")\n",
    "share_y = data_share[\"Share\"]"
   ]
  },
  {
   "cell_type": "markdown",
   "id": "b2fa1dc1-fd28-4602-b46a-fe98ac51e113",
   "metadata": {},
   "source": [
    "And the Train/Test splits"
   ]
  },
  {
   "cell_type": "code",
   "execution_count": null,
   "id": "4907b3f3-8510-4755-a0cb-761cd0e0a846",
   "metadata": {},
   "outputs": [],
   "source": [
    "rank_X_train, rank_X_test, rank_y_train, rank_y_test = train_test_split(rank_X, rank_y, test_size = 0.22, random_state = 22)\n",
    "share_X_train, share_X_test, share_y_train, share_y_test = train_test_split(share_X, share_y, test_size = 0.22, random_state = 22)"
   ]
  },
  {
   "cell_type": "code",
   "execution_count": null,
   "id": "771e3731-0576-48c5-b913-0651dc4cb9d2",
   "metadata": {},
   "outputs": [],
   "source": [
    "def hist_maker(df):\n",
    "    '''Returns histplots in a single fig for each column of a given DataFrame\n",
    "    \n",
    "    Input: DataFrame\n",
    "    Output: Histplots of all the columns'''\n",
    "    \n",
    "    cols = list(df.columns)\n",
    "    x = len(cols)\n",
    "    fig, ax = plt.subplots(1,x, figsize=(20,10))\n",
    "\n",
    "    for col in cols:\n",
    "        y = cols.index(col)\n",
    "        sns.histplot(data=df, x=col, ax = ax[y])\n",
    "        ax[y].set_title(col)\n",
    "        \n",
    "    return"
   ]
  },
  {
   "cell_type": "code",
   "execution_count": null,
   "id": "c90acdac-4481-4eb5-bd53-95bb3d47c57f",
   "metadata": {},
   "outputs": [],
   "source": [
    "hist_maker(rank_X_train)"
   ]
  },
  {
   "cell_type": "code",
   "execution_count": null,
   "id": "b28cb0f9-53c1-4127-9f5e-764bce5a53bf",
   "metadata": {},
   "outputs": [],
   "source": [
    "hist_maker(share_X_train)"
   ]
  },
  {
   "cell_type": "markdown",
   "id": "f564525a-2b97-4309-ad28-ad0a96bde62b",
   "metadata": {},
   "source": [
    "Let's apply a logarithmic transformation to the Stats/M columns to make it closer to  a normal distribution."
   ]
  },
  {
   "cell_type": "code",
   "execution_count": null,
   "id": "c9fa0f59-d128-4d1f-aead-2f57b1f583e5",
   "metadata": {},
   "outputs": [],
   "source": [
    "rank_pt = PowerTransformer().fit(rank_X_train)\n",
    "\n",
    "with open(\"../Transformers/rank_pt.pkl\", \"wb\") as file:\n",
    "    pickle.dump(rank_pt, file)\n",
    "\n",
    "rank_X_train_pt = rank_pt.transform(rank_X_train)\n",
    "rank_X_train_pt = pd.DataFrame(rank_X_train_pt, columns = rank_X_train.columns, index = rank_X_train.index)\n",
    "\n",
    "rank_X_test_pt = rank_pt.transform(rank_X_test)\n",
    "rank_X_test_pt = pd.DataFrame(rank_X_test_pt, columns = rank_X_test.columns, index = rank_X_test.index)\n",
    "\n",
    "\n",
    "share_pt = PowerTransformer().fit(share_X_train)\n",
    "\n",
    "with open(\"../Transformers/share_pt.pkl\", \"wb\") as file:\n",
    "    pickle.dump(share_pt, file)\n",
    "\n",
    "share_X_train_pt = share_pt.transform(share_X_train)\n",
    "share_X_train_pt = pd.DataFrame(share_X_train_pt, columns = share_X_train.columns, index = share_X_train.index)\n",
    "\n",
    "share_X_test_pt = share_pt.transform(share_X_test)\n",
    "share_X_test_pt = pd.DataFrame(share_X_test_pt, columns = share_X_test.columns, index = share_X_test.index)"
   ]
  },
  {
   "cell_type": "code",
   "execution_count": null,
   "id": "3b4b37ee-81f9-4df6-813b-7780312e1d03",
   "metadata": {},
   "outputs": [],
   "source": [
    "# rank_X_train[\"Stats/M\"] = rank_X_train[\"Stats/M\"].apply(log_transf)\n",
    "# rank_X_test[\"Stats/M\"] = rank_X_test[\"Stats/M\"].apply(log_transf)\n",
    "# share_X_train[\"Stats/M\"] = share_X_train[\"Stats/M\"].apply(log_transf)\n",
    "# share_X_test[\"Stats/M\"] = share_X_test[\"Stats/M\"].apply(log_transf)"
   ]
  },
  {
   "cell_type": "code",
   "execution_count": null,
   "id": "8a860f4d-717c-44dd-b1f1-2265c4643ff5",
   "metadata": {},
   "outputs": [],
   "source": [
    "hist_maker(rank_X_train)"
   ]
  },
  {
   "cell_type": "markdown",
   "id": "c9d3ffab-83a3-4346-965a-e4ea112804c3",
   "metadata": {},
   "source": [
    "Now we scale everythin with a MinMaxScaler."
   ]
  },
  {
   "cell_type": "code",
   "execution_count": null,
   "id": "d5cd83e0-4713-4c85-a7b8-22600802370b",
   "metadata": {},
   "outputs": [],
   "source": [
    "rank_scaler = MinMaxScaler().fit(rank_X_train_pt)\n",
    "\n",
    "with open(\"../Scalers/rank_scaler.pkl\", \"wb\") as file:\n",
    "    pickle.dump(rank_scaler, file)\n",
    "\n",
    "rank_X_train_pt_mm = rank_scaler.transform(rank_X_train_pt)\n",
    "rank_X_train_pt_mm = pd.DataFrame(rank_X_train_pt_mm, columns = rank_X_train_pt.columns, index = rank_X_train_pt.index)\n",
    "\n",
    "rank_X_test_pt_mm = rank_scaler.transform(rank_X_test_pt)\n",
    "rank_X_test_pt_mm = pd.DataFrame(rank_X_test_pt_mm, columns = rank_X_test_pt.columns, index = rank_X_test_pt.index)\n",
    "\n",
    "\n",
    "share_scaler = MinMaxScaler().fit(share_X_train_pt)\n",
    "\n",
    "with open(\"../Scalers/share_scaler.pkl\", \"wb\") as file:\n",
    "    pickle.dump(share_scaler, file)\n",
    "\n",
    "share_X_train_pt_mm = share_scaler.transform(share_X_train_pt)\n",
    "share_X_train_pt_mm = pd.DataFrame(share_X_train_pt_mm, columns = share_X_train_pt.columns, index = share_X_train_pt.index)\n",
    "\n",
    "share_X_test_pt_mm = share_scaler.transform(share_X_test_pt)\n",
    "share_X_test_pt_mm = pd.DataFrame(share_X_test_pt_mm, columns = share_X_test_pt.columns, index = share_X_test_pt.index)"
   ]
  },
  {
   "cell_type": "code",
   "execution_count": null,
   "id": "2c3457bc-c658-4d1e-aa5f-2ad7ea41f61a",
   "metadata": {},
   "outputs": [],
   "source": [
    "rank_lr = LinearRegression().fit(rank_X_train_pt_mm, rank_y_train)\n",
    "\n",
    "with open(\"../Models/rank_lr.pkl\",\"wb\") as file:\n",
    "    pickle.dump(rank_lr, file)\n",
    "\n",
    "rank_train_y_pred = rank_lr.predict(rank_X_train_pt_mm)\n",
    "rank_test_y_pred = rank_lr.predict(rank_X_test_pt_mm)\n",
    " \n",
    "print(round(r2_score(rank_y_train, rank_train_y_pred),2))\n",
    "print(round(r2_score(rank_y_test, rank_test_y_pred),2))\n",
    "\n",
    "\n",
    "share_lr = LinearRegression().fit(share_X_train_pt_mm, share_y_train)\n",
    "\n",
    "with open(\"../Models/share_lr.pkl\", \"wb\") as file:\n",
    "    pickle.dump(share_lr, file)\n",
    "\n",
    "share_train_y_pred = share_lr.predict(share_X_train_pt_mm)\n",
    "share_test_y_pred = share_lr.predict(share_X_test_pt_mm)\n",
    "\n",
    "print(round(r2_score(share_y_train, share_train_y_pred),2))\n",
    "print(round(r2_score(share_y_test, share_test_y_pred),2))"
   ]
  },
  {
   "cell_type": "code",
   "execution_count": null,
   "id": "64ba6710-0739-4ac0-87ef-338e5cd287c0",
   "metadata": {},
   "outputs": [],
   "source": [
    "print(rank_lr.coef_)\n",
    "print(rank_lr.intercept_)\n",
    "print(share_lr.coef_)\n",
    "print(share_lr.intercept_)"
   ]
  },
  {
   "cell_type": "code",
   "execution_count": null,
   "id": "9b80ccf8-0be0-4688-b81f-27fc394525ab",
   "metadata": {},
   "outputs": [],
   "source": [
    "sns.regplot(x = rank_y_train, y = rank_train_y_pred).set(title='Rank Train')\n",
    "plt.xlabel(\"Real Rank\")\n",
    "plt.ylabel(\"Predicted Rank\")\n",
    "plt.savefig(\"../Slides/Images/RankTrain.png\") "
   ]
  },
  {
   "cell_type": "code",
   "execution_count": null,
   "id": "044aed0e-334f-4348-a029-f778c3ca3fc1",
   "metadata": {},
   "outputs": [],
   "source": [
    "sns.regplot(x = rank_y_test, y = rank_test_y_pred).set(title='Rank Test')\n",
    "plt.xlabel(\"Real Rank\")\n",
    "plt.ylabel(\"Predicted Rank\")\n",
    "plt.savefig(\"../Slides/Images/RankTest.png\") "
   ]
  },
  {
   "cell_type": "code",
   "execution_count": null,
   "id": "6479b3a6-0168-40bd-8b11-26ef27a5c004",
   "metadata": {},
   "outputs": [],
   "source": [
    "sns.regplot(x = share_y_train, y = share_train_y_pred).set(title=\"Share Train\")\n",
    "plt.xlabel(\"Real Share\")\n",
    "plt.ylabel(\"Predicted Share\")\n",
    "plt.savefig(\"../Slides/Images/ShareTrain.png\") "
   ]
  },
  {
   "cell_type": "code",
   "execution_count": null,
   "id": "9a9010c2-863d-4dd0-bbb2-f2947f9c6fa1",
   "metadata": {},
   "outputs": [],
   "source": [
    "sns.regplot(x = share_y_test, y = share_test_y_pred).set(title=\"Share Test\")\n",
    "plt.xlabel(\"Real Share\")\n",
    "plt.ylabel(\"Predicted Share\")\n",
    "plt.savefig(\"../Slides/Images/ShareTest.png\") "
   ]
  },
  {
   "cell_type": "code",
   "execution_count": null,
   "id": "88a0986b-0d29-43e9-bc5b-628b74f0c1c2",
   "metadata": {},
   "outputs": [],
   "source": [
    "data.head()"
   ]
  },
  {
   "cell_type": "code",
   "execution_count": null,
   "id": "b516d5ce-979d-4221-8254-a3ada5c0c2d4",
   "metadata": {},
   "outputs": [],
   "source": [
    "data[\"Top3\"] = data[\"Rank\"] <= 3\n",
    "data.head()"
   ]
  },
  {
   "cell_type": "code",
   "execution_count": null,
   "id": "93e5e33e-4ae3-4773-ba31-1d7825f6ccbc",
   "metadata": {},
   "outputs": [],
   "source": [
    "top3_X = data[[\"WS/48\", \"Stats/M\"]]\n",
    "top3_y = data[\"Top3\"]"
   ]
  },
  {
   "cell_type": "code",
   "execution_count": null,
   "id": "bfa748da-e5a8-4d08-a2c5-66b3ee923ba5",
   "metadata": {},
   "outputs": [],
   "source": [
    "top3_X"
   ]
  },
  {
   "cell_type": "code",
   "execution_count": null,
   "id": "67d911f7-3226-410e-8357-2d230d8cbde6",
   "metadata": {},
   "outputs": [],
   "source": [
    "top3_X_train, top3_X_test, top3_y_train, top3_y_test = train_test_split(top3_X, top3_y, test_size = 0.22, random_state = 22)"
   ]
  },
  {
   "cell_type": "code",
   "execution_count": null,
   "id": "10b3d44b-4ec3-4243-bfc3-46868c6f621b",
   "metadata": {},
   "outputs": [],
   "source": [
    "hist_maker(top3_X_train)"
   ]
  },
  {
   "cell_type": "code",
   "execution_count": null,
   "id": "0cc09e8b-8b99-42cb-a7ba-8902e8f303dd",
   "metadata": {},
   "outputs": [],
   "source": [
    "top3_pt = PowerTransformer().fit(top3_X_train)\n",
    "\n",
    "with open(\"../Transformers/top3_pt.pkl\",\"wb\") as file:\n",
    "    pickle.dump(top3_pt, file)\n",
    "\n",
    "top3_X_train_pt = top3_pt.transform(top3_X_train)\n",
    "top3_X_train_pt = pd.DataFrame(top3_X_train_pt, columns = top3_X_train.columns, index = top3_X_train.index)\n",
    "\n",
    "top3_X_test_pt = top3_pt.transform(top3_X_test)\n",
    "top3_X_test_pt = pd.DataFrame(top3_X_test_pt, columns = top3_X_test.columns, index = top3_X_test.index)"
   ]
  },
  {
   "cell_type": "code",
   "execution_count": null,
   "id": "2cc8506e-e251-43c8-8a89-d7ebe0a3cdcb",
   "metadata": {},
   "outputs": [],
   "source": [
    "hist_maker(top3_X_train_pt)"
   ]
  },
  {
   "cell_type": "code",
   "execution_count": null,
   "id": "0eaee6ed-31cb-4838-b2cb-cda09c19906c",
   "metadata": {},
   "outputs": [],
   "source": [
    "top3_scaler = MinMaxScaler().fit(top3_X_train_pt)\n",
    "\n",
    "with open(\"../Scalers/top3_scaler.pkl\",\"wb\") as file:\n",
    "    pickle.dump(top3_scaler, file)\n",
    "\n",
    "top3_X_train_pt_mm = top3_scaler.transform(top3_X_train_pt)\n",
    "top3_X_train_pt_mm = pd.DataFrame(top3_X_train_pt_mm, columns = top3_X_train_pt.columns, index = top3_X_train_pt.index)\n",
    "\n",
    "top3_X_test_pt_mm = top3_scaler.transform(top3_X_test_pt)\n",
    "top3_X_test_pt_mm = pd.DataFrame(top3_X_test_pt_mm, columns = top3_X_test_pt.columns, index = top3_X_test_pt.index)"
   ]
  },
  {
   "cell_type": "code",
   "execution_count": null,
   "id": "d3371135-0b64-45e1-9ab6-ce74588ad616",
   "metadata": {},
   "outputs": [],
   "source": [
    "top3_lr = LogisticRegression(random_state = 22, solver = \"lbfgs\").fit(top3_X_train_pt_mm, top3_y_train)\n",
    "\n",
    "with open(\"../Models/top3_lr.pkl\",\"wb\") as file:\n",
    "    pickle.dump(top3_lr, file)\n",
    "\n",
    "top3_lr_y_train_pred = top3_lr.predict(top3_X_train_pt_mm)\n",
    "print(round(cohen_kappa_score(top3_y_train, top3_lr_y_train_pred),2))\n",
    "\n",
    "top3_lr_y_test_pred = top3_lr.predict(top3_X_test_pt_mm)\n",
    "print(round(cohen_kappa_score(top3_y_test, top3_lr_y_test_pred),2))"
   ]
  },
  {
   "cell_type": "code",
   "execution_count": null,
   "id": "5beb3288-07ef-40ff-9ebd-033ce9e79be1",
   "metadata": {},
   "outputs": [],
   "source": [
    "top3_cm_train = confusion_matrix(top3_y_train, top3_lr_y_train_pred)\n",
    "disp = ConfusionMatrixDisplay(top3_cm_train,display_labels=top3_lr.classes_);\n",
    "disp.plot()\n",
    "plt.title(\"Top3 Train\")\n",
    "plt.savefig(\"../Slides/Images/Top3Train.png\")"
   ]
  },
  {
   "cell_type": "code",
   "execution_count": null,
   "id": "0332f09b-ed38-4138-98c8-8eaf306bfe59",
   "metadata": {},
   "outputs": [],
   "source": [
    "top3_cm_test = confusion_matrix(top3_y_test, top3_lr_y_test_pred)\n",
    "disp = ConfusionMatrixDisplay(top3_cm_test,display_labels=top3_lr.classes_);\n",
    "disp.plot()\n",
    "plt.title(\"Top3 Test\")\n",
    "plt.savefig(\"../Slides/Images/Top3Test.png\")"
   ]
  },
  {
   "cell_type": "code",
   "execution_count": null,
   "id": "2ca132e7-a386-4e49-ba54-952aa79d47e2",
   "metadata": {},
   "outputs": [],
   "source": [
    "data[\"Top3\"].value_counts()"
   ]
  },
  {
   "cell_type": "code",
   "execution_count": null,
   "id": "f6a5b82b-41c2-46e2-badd-c55ec54786b5",
   "metadata": {
    "tags": []
   },
   "outputs": [],
   "source": [
    "data[\"Rank\"].value_counts()"
   ]
  },
  {
   "cell_type": "code",
   "execution_count": null,
   "id": "42a4fd88-1e47-458b-a12d-d3a556968067",
   "metadata": {},
   "outputs": [],
   "source": [
    "data[\"Top5\"] = data[\"Rank\"] <=5\n",
    "data.head()"
   ]
  },
  {
   "cell_type": "code",
   "execution_count": null,
   "id": "1b260770-f19e-43e7-9161-0f2a2e5c40eb",
   "metadata": {},
   "outputs": [],
   "source": [
    "top5_X = data[[\"WS/48\", \"Stats/M\"]]\n",
    "top5_y = data[\"Top5\"]"
   ]
  },
  {
   "cell_type": "code",
   "execution_count": null,
   "id": "50ca2a1f-7474-40e3-83f7-47a248e7a368",
   "metadata": {},
   "outputs": [],
   "source": [
    "top5_X_train, top5_X_test, top5_y_train, top5_y_test = train_test_split(top5_X, top5_y, test_size = 0.22, random_state = 22)"
   ]
  },
  {
   "cell_type": "code",
   "execution_count": null,
   "id": "f1ae5d8f-770c-4d42-bb51-d8f3c4b50dbd",
   "metadata": {},
   "outputs": [],
   "source": [
    "top5_pt = PowerTransformer().fit(top5_X_train)\n",
    "\n",
    "with open(\"../Transformers/top5_pt.pkl\",\"wb\") as file:\n",
    "    pickle.dump(top5_pt, file)\n",
    "\n",
    "top5_X_train_pt = top5_pt.transform(top5_X_train)\n",
    "top5_X_train_pt = pd.DataFrame(top5_X_train_pt, columns = top5_X_train.columns, index = top5_X_train.index)\n",
    "\n",
    "top5_X_test_pt = top5_pt.transform(top5_X_test)\n",
    "top5_X_test_pt = pd.DataFrame(top5_X_test_pt, columns = top5_X_test.columns, index = top5_X_test.index)"
   ]
  },
  {
   "cell_type": "code",
   "execution_count": null,
   "id": "4927682c-ea0b-4cbc-84c2-eac1d85c0899",
   "metadata": {
    "tags": []
   },
   "outputs": [],
   "source": [
    "top5_scaler = MinMaxScaler().fit(top5_X_train_pt)\n",
    "\n",
    "with open(\"../Scalers/top5_scaler.pkl\",\"wb\") as file:\n",
    "    pickle.dump(top5_scaler, file)\n",
    "\n",
    "top5_X_train_pt_mm = top5_scaler.transform(top5_X_train_pt)\n",
    "top5_X_train_pt_mm = pd.DataFrame(top5_X_train_pt_mm, columns = top5_X_train_pt.columns, index = top5_X_train_pt.index)\n",
    "\n",
    "top5_X_test_pt_mm = top5_scaler.transform(top5_X_test_pt)\n",
    "top5_X_test_pt_mm = pd.DataFrame(top5_X_test_pt_mm, columns = top5_X_test_pt.columns, index = top5_X_test_pt.index)"
   ]
  },
  {
   "cell_type": "code",
   "execution_count": null,
   "id": "e5c3d398-b25a-4375-9c99-86b436dc0b9f",
   "metadata": {},
   "outputs": [],
   "source": [
    "top5_lr = LogisticRegression(random_state = 22, solver = \"lbfgs\").fit(top5_X_train_pt_mm, top5_y_train)\n",
    "\n",
    "with open(\"../Models/top5_lr.pkl\",\"wb\") as file:\n",
    "    pickle.dump(top5_lr, file)\n",
    "\n",
    "top5_lr_y_train_pred = top5_lr.predict(top5_X_train_pt_mm)\n",
    "print(round(cohen_kappa_score(top5_y_train, top5_lr_y_train_pred),2))\n",
    "\n",
    "top5_lr_y_test_pred = top5_lr.predict(top5_X_test_pt_mm)\n",
    "print(round(cohen_kappa_score(top5_y_test, top5_lr_y_test_pred),2))"
   ]
  },
  {
   "cell_type": "code",
   "execution_count": null,
   "id": "1cefacc2-08bc-4aa9-98ff-3325c4abe188",
   "metadata": {},
   "outputs": [],
   "source": [
    "top5_cm_train = confusion_matrix(top5_y_train, top5_lr_y_train_pred)\n",
    "disp = ConfusionMatrixDisplay(top5_cm_train,display_labels=top5_lr.classes_);\n",
    "disp.plot()\n",
    "plt.title(\"Top5 Train\")\n",
    "plt.savefig(\"../Slides/Images/Top5Train.png\")"
   ]
  },
  {
   "cell_type": "code",
   "execution_count": null,
   "id": "19bd9e62-1fa2-4c63-a29e-5f9353138537",
   "metadata": {},
   "outputs": [],
   "source": [
    "top5_cm_test = confusion_matrix(top5_y_test, top5_lr_y_test_pred)\n",
    "disp = ConfusionMatrixDisplay(top5_cm_test,display_labels=top5_lr.classes_);\n",
    "disp.plot()\n",
    "plt.title(\"Top5 Test\")\n",
    "plt.savefig(\"../Slides/Images/Top5Test.png\")"
   ]
  },
  {
   "cell_type": "code",
   "execution_count": null,
   "id": "367cdfe5-1a02-4fb9-8e6f-faea4931bb98",
   "metadata": {},
   "outputs": [],
   "source": [
    "for x in range(23):\n",
    "    pd.read_csv(\"../Data/Cleaned/CleanMVP20{}.csv\".format(x))\n",
    "\n",
    "data2000 = pd.read_csv(\"../Data/Cleaned/CleanMVP2000.csv\")\n",
    "data2000.head()"
   ]
  }
 ],
 "metadata": {
  "kernelspec": {
   "display_name": "Python 3 (ipykernel)",
   "language": "python",
   "name": "python3"
  },
  "language_info": {
   "codemirror_mode": {
    "name": "ipython",
    "version": 3
   },
   "file_extension": ".py",
   "mimetype": "text/x-python",
   "name": "python",
   "nbconvert_exporter": "python",
   "pygments_lexer": "ipython3",
   "version": "3.9.12"
  }
 },
 "nbformat": 4,
 "nbformat_minor": 5
}
