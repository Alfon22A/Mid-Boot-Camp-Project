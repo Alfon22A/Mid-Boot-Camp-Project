{
 "cells": [
  {
   "cell_type": "code",
   "execution_count": 213,
   "id": "f3729bde-2ed9-46f3-8ff0-701770df2b29",
   "metadata": {},
   "outputs": [],
   "source": [
    "import pandas as pd\n",
    "import numpy as np\n",
    "\n",
    "import seaborn as sns\n",
    "import matplotlib.pyplot as plt\n",
    "%matplotlib inline\n",
    "\n",
    "from sklearn.model_selection import train_test_split\n",
    "from sklearn.preprocessing import MinMaxScaler, PowerTransformer\n",
    "from sklearn.linear_model import LinearRegression, LogisticRegression\n",
    "from sklearn.metrics import r2_score, confusion_matrix, ConfusionMatrixDisplay, cohen_kappa_score"
   ]
  },
  {
   "cell_type": "markdown",
   "id": "43ccc853-c082-474b-a998-fc5150eb373d",
   "metadata": {},
   "source": [
    "Let's explore a bit the dataset"
   ]
  },
  {
   "cell_type": "code",
   "execution_count": 85,
   "id": "34e225d8-f1b5-4fc4-bdbd-7bd8ef3a3009",
   "metadata": {},
   "outputs": [
    {
     "data": {
      "text/html": [
       "<div>\n",
       "<style scoped>\n",
       "    .dataframe tbody tr th:only-of-type {\n",
       "        vertical-align: middle;\n",
       "    }\n",
       "\n",
       "    .dataframe tbody tr th {\n",
       "        vertical-align: top;\n",
       "    }\n",
       "\n",
       "    .dataframe thead th {\n",
       "        text-align: right;\n",
       "    }\n",
       "</style>\n",
       "<table border=\"1\" class=\"dataframe\">\n",
       "  <thead>\n",
       "    <tr style=\"text-align: right;\">\n",
       "      <th></th>\n",
       "      <th>Rank</th>\n",
       "      <th>Player</th>\n",
       "      <th>Age</th>\n",
       "      <th>Tm</th>\n",
       "      <th>First</th>\n",
       "      <th>Pts Won</th>\n",
       "      <th>Pts Max</th>\n",
       "      <th>Share</th>\n",
       "      <th>G</th>\n",
       "      <th>MP</th>\n",
       "      <th>...</th>\n",
       "      <th>TRB</th>\n",
       "      <th>AST</th>\n",
       "      <th>STL</th>\n",
       "      <th>BLK</th>\n",
       "      <th>FG%</th>\n",
       "      <th>3P%</th>\n",
       "      <th>FT%</th>\n",
       "      <th>WS</th>\n",
       "      <th>WS/48</th>\n",
       "      <th>-9999</th>\n",
       "    </tr>\n",
       "  </thead>\n",
       "  <tbody>\n",
       "    <tr>\n",
       "      <th>0</th>\n",
       "      <td>1</td>\n",
       "      <td>Nikola Jokić</td>\n",
       "      <td>26</td>\n",
       "      <td>DEN</td>\n",
       "      <td>65.0</td>\n",
       "      <td>875.0</td>\n",
       "      <td>1000</td>\n",
       "      <td>0.875</td>\n",
       "      <td>74</td>\n",
       "      <td>33.5</td>\n",
       "      <td>...</td>\n",
       "      <td>13.8</td>\n",
       "      <td>7.9</td>\n",
       "      <td>1.5</td>\n",
       "      <td>0.9</td>\n",
       "      <td>0.583</td>\n",
       "      <td>0.337</td>\n",
       "      <td>0.810</td>\n",
       "      <td>15.2</td>\n",
       "      <td>0.296</td>\n",
       "      <td>jokicni01</td>\n",
       "    </tr>\n",
       "    <tr>\n",
       "      <th>1</th>\n",
       "      <td>2</td>\n",
       "      <td>Joel Embiid</td>\n",
       "      <td>27</td>\n",
       "      <td>PHI</td>\n",
       "      <td>26.0</td>\n",
       "      <td>706.0</td>\n",
       "      <td>1000</td>\n",
       "      <td>0.706</td>\n",
       "      <td>68</td>\n",
       "      <td>33.8</td>\n",
       "      <td>...</td>\n",
       "      <td>11.7</td>\n",
       "      <td>4.2</td>\n",
       "      <td>1.1</td>\n",
       "      <td>1.5</td>\n",
       "      <td>0.499</td>\n",
       "      <td>0.371</td>\n",
       "      <td>0.814</td>\n",
       "      <td>12.0</td>\n",
       "      <td>0.252</td>\n",
       "      <td>embiijo01</td>\n",
       "    </tr>\n",
       "    <tr>\n",
       "      <th>2</th>\n",
       "      <td>3</td>\n",
       "      <td>Giannis Antetokounmpo</td>\n",
       "      <td>27</td>\n",
       "      <td>MIL</td>\n",
       "      <td>9.0</td>\n",
       "      <td>595.0</td>\n",
       "      <td>1000</td>\n",
       "      <td>0.595</td>\n",
       "      <td>67</td>\n",
       "      <td>32.9</td>\n",
       "      <td>...</td>\n",
       "      <td>11.6</td>\n",
       "      <td>5.8</td>\n",
       "      <td>1.1</td>\n",
       "      <td>1.4</td>\n",
       "      <td>0.553</td>\n",
       "      <td>0.293</td>\n",
       "      <td>0.722</td>\n",
       "      <td>12.9</td>\n",
       "      <td>0.281</td>\n",
       "      <td>antetgi01</td>\n",
       "    </tr>\n",
       "    <tr>\n",
       "      <th>3</th>\n",
       "      <td>4</td>\n",
       "      <td>Devin Booker</td>\n",
       "      <td>25</td>\n",
       "      <td>PHO</td>\n",
       "      <td>0.0</td>\n",
       "      <td>216.0</td>\n",
       "      <td>1000</td>\n",
       "      <td>0.216</td>\n",
       "      <td>68</td>\n",
       "      <td>34.5</td>\n",
       "      <td>...</td>\n",
       "      <td>5.0</td>\n",
       "      <td>4.8</td>\n",
       "      <td>1.1</td>\n",
       "      <td>0.4</td>\n",
       "      <td>0.466</td>\n",
       "      <td>0.383</td>\n",
       "      <td>0.868</td>\n",
       "      <td>7.6</td>\n",
       "      <td>0.156</td>\n",
       "      <td>bookede01</td>\n",
       "    </tr>\n",
       "    <tr>\n",
       "      <th>4</th>\n",
       "      <td>5</td>\n",
       "      <td>Luka Dončić</td>\n",
       "      <td>22</td>\n",
       "      <td>DAL</td>\n",
       "      <td>0.0</td>\n",
       "      <td>146.0</td>\n",
       "      <td>1000</td>\n",
       "      <td>0.146</td>\n",
       "      <td>65</td>\n",
       "      <td>35.4</td>\n",
       "      <td>...</td>\n",
       "      <td>9.1</td>\n",
       "      <td>8.7</td>\n",
       "      <td>1.2</td>\n",
       "      <td>0.6</td>\n",
       "      <td>0.457</td>\n",
       "      <td>0.353</td>\n",
       "      <td>0.744</td>\n",
       "      <td>7.6</td>\n",
       "      <td>0.159</td>\n",
       "      <td>doncilu01</td>\n",
       "    </tr>\n",
       "  </tbody>\n",
       "</table>\n",
       "<p>5 rows × 21 columns</p>\n",
       "</div>"
      ],
      "text/plain": [
       "  Rank                 Player  Age   Tm  First  Pts Won  Pts Max  Share   G  \\\n",
       "0    1           Nikola Jokić   26  DEN   65.0    875.0     1000  0.875  74   \n",
       "1    2            Joel Embiid   27  PHI   26.0    706.0     1000  0.706  68   \n",
       "2    3  Giannis Antetokounmpo   27  MIL    9.0    595.0     1000  0.595  67   \n",
       "3    4           Devin Booker   25  PHO    0.0    216.0     1000  0.216  68   \n",
       "4    5            Luka Dončić   22  DAL    0.0    146.0     1000  0.146  65   \n",
       "\n",
       "     MP  ...   TRB  AST  STL  BLK    FG%    3P%    FT%    WS  WS/48      -9999  \n",
       "0  33.5  ...  13.8  7.9  1.5  0.9  0.583  0.337  0.810  15.2  0.296  jokicni01  \n",
       "1  33.8  ...  11.7  4.2  1.1  1.5  0.499  0.371  0.814  12.0  0.252  embiijo01  \n",
       "2  32.9  ...  11.6  5.8  1.1  1.4  0.553  0.293  0.722  12.9  0.281  antetgi01  \n",
       "3  34.5  ...   5.0  4.8  1.1  0.4  0.466  0.383  0.868   7.6  0.156  bookede01  \n",
       "4  35.4  ...   9.1  8.7  1.2  0.6  0.457  0.353  0.744   7.6  0.159  doncilu01  \n",
       "\n",
       "[5 rows x 21 columns]"
      ]
     },
     "execution_count": 85,
     "metadata": {},
     "output_type": "execute_result"
    }
   ],
   "source": [
    "mvp_2022 = pd.read_csv(\"../Data/Raw/MVP2022.csv\", header = 1)\n",
    "mvp_2022.head()"
   ]
  },
  {
   "cell_type": "markdown",
   "id": "76b5dc7e-5e72-4d39-af71-e4b95d3bcc04",
   "metadata": {},
   "source": [
    "Now we will create some code to clean all the datasets, save them individually, and also concatenate them in one to save it as well"
   ]
  },
  {
   "cell_type": "markdown",
   "id": "4485faa0-ab14-4567-b06c-bfc9569b3d22",
   "metadata": {},
   "source": [
    "First we create two empty lists to store keys and values, and an empty dictionary where we will link the previous lists.\n",
    "\n",
    "Then we do a for loop to create key names and extract the datasets."
   ]
  },
  {
   "cell_type": "code",
   "execution_count": 90,
   "id": "32f03aa9-5920-4b8d-bb05-ed2d0065d5a2",
   "metadata": {},
   "outputs": [],
   "source": [
    "df_name = []\n",
    "df_data = []\n",
    "mvps = {}\n",
    "\n",
    "for x in range(23):\n",
    "    df_name.append(\"mvp_\"+str(2000+x))\n",
    "    df_data.append(pd.read_csv(\"../Data/Raw/MVP{}.csv\".format(2000+x), header = 1))"
   ]
  },
  {
   "cell_type": "markdown",
   "id": "6117f1c3-88b4-44a2-a4c3-fde979e8f091",
   "metadata": {},
   "source": [
    "Now we link the keys yo the values, and also do another for loop to clean the data:\n",
    "\n",
    "- Drop a useless column\n",
    "- Create columns with PTS, AST, TRB, STL and BLK per minute, in order to not give the edge to players with higher minutes per game.\n",
    "- A column with all stats combined per minute.\n",
    "- Create another column with the year of the MVP to differentiate it with the others once we concatenate them all.\n",
    "- Clean some values from the Rank column.\n",
    "- Fill in some missing values."
   ]
  },
  {
   "cell_type": "code",
   "execution_count": 143,
   "id": "471c3567-5b79-45c4-939e-46d1eccbfc11",
   "metadata": {},
   "outputs": [],
   "source": [
    "mvps = dict(zip(df_name, df_data))\n",
    "    \n",
    "for key, x in zip(mvps, range(23)):\n",
    "    mvps[key] = mvps[key].drop(columns = mvps[key].columns[-1])\n",
    "    mvps[key][\"PTS/M\"] = mvps[key][\"PTS\"]/mvps[key][\"MP\"]\n",
    "    mvps[key][\"TRB/M\"] = mvps[key][\"TRB\"]/mvps[key][\"MP\"]\n",
    "    mvps[key][\"AST/M\"] = mvps[key][\"AST\"]/mvps[key][\"MP\"]\n",
    "    mvps[key][\"STL/M\"] = mvps[key][\"STL\"]/mvps[key][\"MP\"]\n",
    "    mvps[key][\"BLK/M\"] = mvps[key][\"BLK\"]/mvps[key][\"MP\"]\n",
    "    mvps[key][\"Stats/M\"] = mvps[key][\"PTS/M\"]+mvps[key][\"TRB/M\"]+mvps[key][\"AST/M\"]+mvps[key][\"STL/M\"]+mvps[key][\"BLK/M\"]\n",
    "    mvps[key][\"Year\"] = (2000+x)\n",
    "    mvps[key] = mvps[key].fillna(0)\n",
    "    mvps[key][\"Rank\"] = mvps[key][\"Rank\"].replace(\"T\",'',regex=True).astype(int)\n",
    "    mvps[key].to_csv(\"../Data/Cleaned/CleanMVP{}.csv\".format(2000+x))"
   ]
  },
  {
   "cell_type": "markdown",
   "id": "49fa4b4f-3d2a-4506-93aa-ea7eb7ccb133",
   "metadata": {},
   "source": [
    "Now we concatenate all."
   ]
  },
  {
   "cell_type": "code",
   "execution_count": 96,
   "id": "c793ffb9-eec0-46fe-9a39-4d654b7b7b07",
   "metadata": {},
   "outputs": [
    {
     "data": {
      "text/plain": [
       "(326, 27)"
      ]
     },
     "execution_count": 96,
     "metadata": {},
     "output_type": "execute_result"
    }
   ],
   "source": [
    "data = pd.concat(mvps.values(), ignore_index = True)\n",
    "data.shape"
   ]
  },
  {
   "cell_type": "code",
   "execution_count": 97,
   "id": "9f83c5be-2706-44d8-82db-026de394952d",
   "metadata": {},
   "outputs": [
    {
     "data": {
      "text/html": [
       "<div>\n",
       "<style scoped>\n",
       "    .dataframe tbody tr th:only-of-type {\n",
       "        vertical-align: middle;\n",
       "    }\n",
       "\n",
       "    .dataframe tbody tr th {\n",
       "        vertical-align: top;\n",
       "    }\n",
       "\n",
       "    .dataframe thead th {\n",
       "        text-align: right;\n",
       "    }\n",
       "</style>\n",
       "<table border=\"1\" class=\"dataframe\">\n",
       "  <thead>\n",
       "    <tr style=\"text-align: right;\">\n",
       "      <th></th>\n",
       "      <th>Rank</th>\n",
       "      <th>Player</th>\n",
       "      <th>Age</th>\n",
       "      <th>Tm</th>\n",
       "      <th>First</th>\n",
       "      <th>Pts Won</th>\n",
       "      <th>Pts Max</th>\n",
       "      <th>Share</th>\n",
       "      <th>G</th>\n",
       "      <th>MP</th>\n",
       "      <th>...</th>\n",
       "      <th>FT%</th>\n",
       "      <th>WS</th>\n",
       "      <th>WS/48</th>\n",
       "      <th>PTS/M</th>\n",
       "      <th>TRB/M</th>\n",
       "      <th>AST/M</th>\n",
       "      <th>STL/M</th>\n",
       "      <th>BLK/M</th>\n",
       "      <th>Stats/M</th>\n",
       "      <th>Year</th>\n",
       "    </tr>\n",
       "  </thead>\n",
       "  <tbody>\n",
       "    <tr>\n",
       "      <th>0</th>\n",
       "      <td>1</td>\n",
       "      <td>Shaquille O'Neal</td>\n",
       "      <td>27</td>\n",
       "      <td>LAL</td>\n",
       "      <td>120.0</td>\n",
       "      <td>1207.0</td>\n",
       "      <td>1210</td>\n",
       "      <td>0.998</td>\n",
       "      <td>79</td>\n",
       "      <td>40.0</td>\n",
       "      <td>...</td>\n",
       "      <td>0.524</td>\n",
       "      <td>18.6</td>\n",
       "      <td>0.283</td>\n",
       "      <td>0.742500</td>\n",
       "      <td>0.340000</td>\n",
       "      <td>0.095000</td>\n",
       "      <td>0.012500</td>\n",
       "      <td>0.075000</td>\n",
       "      <td>1.265000</td>\n",
       "      <td>2000</td>\n",
       "    </tr>\n",
       "    <tr>\n",
       "      <th>1</th>\n",
       "      <td>2</td>\n",
       "      <td>Kevin Garnett</td>\n",
       "      <td>23</td>\n",
       "      <td>MIN</td>\n",
       "      <td>0.0</td>\n",
       "      <td>408.0</td>\n",
       "      <td>1210</td>\n",
       "      <td>0.337</td>\n",
       "      <td>81</td>\n",
       "      <td>40.0</td>\n",
       "      <td>...</td>\n",
       "      <td>0.765</td>\n",
       "      <td>11.6</td>\n",
       "      <td>0.172</td>\n",
       "      <td>0.572500</td>\n",
       "      <td>0.295000</td>\n",
       "      <td>0.125000</td>\n",
       "      <td>0.037500</td>\n",
       "      <td>0.040000</td>\n",
       "      <td>1.070000</td>\n",
       "      <td>2000</td>\n",
       "    </tr>\n",
       "    <tr>\n",
       "      <th>2</th>\n",
       "      <td>3</td>\n",
       "      <td>Alonzo Mourning</td>\n",
       "      <td>29</td>\n",
       "      <td>MIA</td>\n",
       "      <td>0.0</td>\n",
       "      <td>367.0</td>\n",
       "      <td>1210</td>\n",
       "      <td>0.303</td>\n",
       "      <td>79</td>\n",
       "      <td>34.8</td>\n",
       "      <td>...</td>\n",
       "      <td>0.711</td>\n",
       "      <td>12.9</td>\n",
       "      <td>0.226</td>\n",
       "      <td>0.623563</td>\n",
       "      <td>0.272989</td>\n",
       "      <td>0.045977</td>\n",
       "      <td>0.014368</td>\n",
       "      <td>0.106322</td>\n",
       "      <td>1.063218</td>\n",
       "      <td>2000</td>\n",
       "    </tr>\n",
       "    <tr>\n",
       "      <th>3</th>\n",
       "      <td>4</td>\n",
       "      <td>Karl Malone</td>\n",
       "      <td>36</td>\n",
       "      <td>UTA</td>\n",
       "      <td>0.0</td>\n",
       "      <td>312.0</td>\n",
       "      <td>1210</td>\n",
       "      <td>0.258</td>\n",
       "      <td>82</td>\n",
       "      <td>35.9</td>\n",
       "      <td>...</td>\n",
       "      <td>0.797</td>\n",
       "      <td>15.3</td>\n",
       "      <td>0.249</td>\n",
       "      <td>0.710306</td>\n",
       "      <td>0.264624</td>\n",
       "      <td>0.103064</td>\n",
       "      <td>0.027855</td>\n",
       "      <td>0.025070</td>\n",
       "      <td>1.130919</td>\n",
       "      <td>2000</td>\n",
       "    </tr>\n",
       "    <tr>\n",
       "      <th>4</th>\n",
       "      <td>5</td>\n",
       "      <td>Tim Duncan</td>\n",
       "      <td>23</td>\n",
       "      <td>SAS</td>\n",
       "      <td>0.0</td>\n",
       "      <td>248.0</td>\n",
       "      <td>1210</td>\n",
       "      <td>0.205</td>\n",
       "      <td>74</td>\n",
       "      <td>38.9</td>\n",
       "      <td>...</td>\n",
       "      <td>0.761</td>\n",
       "      <td>13.0</td>\n",
       "      <td>0.218</td>\n",
       "      <td>0.596401</td>\n",
       "      <td>0.318766</td>\n",
       "      <td>0.082262</td>\n",
       "      <td>0.023136</td>\n",
       "      <td>0.056555</td>\n",
       "      <td>1.077121</td>\n",
       "      <td>2000</td>\n",
       "    </tr>\n",
       "  </tbody>\n",
       "</table>\n",
       "<p>5 rows × 27 columns</p>\n",
       "</div>"
      ],
      "text/plain": [
       "   Rank            Player  Age   Tm  First  Pts Won  Pts Max  Share   G    MP  \\\n",
       "0     1  Shaquille O'Neal   27  LAL  120.0   1207.0     1210  0.998  79  40.0   \n",
       "1     2     Kevin Garnett   23  MIN    0.0    408.0     1210  0.337  81  40.0   \n",
       "2     3   Alonzo Mourning   29  MIA    0.0    367.0     1210  0.303  79  34.8   \n",
       "3     4       Karl Malone   36  UTA    0.0    312.0     1210  0.258  82  35.9   \n",
       "4     5        Tim Duncan   23  SAS    0.0    248.0     1210  0.205  74  38.9   \n",
       "\n",
       "   ...    FT%    WS  WS/48     PTS/M     TRB/M     AST/M     STL/M     BLK/M  \\\n",
       "0  ...  0.524  18.6  0.283  0.742500  0.340000  0.095000  0.012500  0.075000   \n",
       "1  ...  0.765  11.6  0.172  0.572500  0.295000  0.125000  0.037500  0.040000   \n",
       "2  ...  0.711  12.9  0.226  0.623563  0.272989  0.045977  0.014368  0.106322   \n",
       "3  ...  0.797  15.3  0.249  0.710306  0.264624  0.103064  0.027855  0.025070   \n",
       "4  ...  0.761  13.0  0.218  0.596401  0.318766  0.082262  0.023136  0.056555   \n",
       "\n",
       "    Stats/M  Year  \n",
       "0  1.265000  2000  \n",
       "1  1.070000  2000  \n",
       "2  1.063218  2000  \n",
       "3  1.130919  2000  \n",
       "4  1.077121  2000  \n",
       "\n",
       "[5 rows x 27 columns]"
      ]
     },
     "execution_count": 97,
     "metadata": {},
     "output_type": "execute_result"
    }
   ],
   "source": [
    "data.head()"
   ]
  },
  {
   "cell_type": "markdown",
   "id": "eb5c0b83-9c3f-4f46-8a59-58d37185aff8",
   "metadata": {},
   "source": [
    "And save the dataset."
   ]
  },
  {
   "cell_type": "code",
   "execution_count": 9,
   "id": "635db720-6126-40f4-9c3c-65a6dce30758",
   "metadata": {},
   "outputs": [],
   "source": [
    "# data.to_csv(\"../Data/Cleaned/CleanMVPs.csv\")"
   ]
  },
  {
   "cell_type": "markdown",
   "id": "4462229d-7ab0-418f-845a-d0a0775edbb7",
   "metadata": {},
   "source": [
    "Now we are going to split the dataset into two, one to predict Rank and another to predict Share, we are going to also drop Player, Tm, First, Pts Won, Pts Max and Year, as this are columns that are either not useful or directly correlated to the MVP."
   ]
  },
  {
   "cell_type": "code",
   "execution_count": 108,
   "id": "f93219b8-c4a3-4217-ae60-d693896d2b19",
   "metadata": {},
   "outputs": [],
   "source": [
    "data_rank = data.drop(columns = [\"Player\", \"Tm\", \"Share\", \"First\", \"Pts Won\", \"Pts Max\", \"Year\"])\n",
    "data_share = data.drop(columns = [\"Player\", \"Tm\", \"Rank\", \"First\", \"Pts Won\", \"Pts Max\", \"Year\"])"
   ]
  },
  {
   "cell_type": "markdown",
   "id": "0598e5c2-a885-46df-9718-85bd60f82e97",
   "metadata": {},
   "source": [
    "Now we define a function to get rid of all the columns that don't reach a threshold of correlation with our target column."
   ]
  },
  {
   "cell_type": "code",
   "execution_count": 100,
   "id": "23073631-82cf-4cc1-8cb8-66fbcbe53cb6",
   "metadata": {},
   "outputs": [],
   "source": [
    "def correlation(df, target = -1, threshold=0.75):\n",
    "    df2 = df.copy()\n",
    "    corr_matrix = df2.corr().abs()\n",
    "    for i in range(len(corr_matrix.columns)):\n",
    "        if (corr_matrix.iloc[i,target] < threshold):\n",
    "            df2 = df2.drop(columns = corr_matrix.columns[i])\n",
    "    display(sns.heatmap(df2.corr(), annot=True))\n",
    "    return df2"
   ]
  },
  {
   "cell_type": "code",
   "execution_count": 109,
   "id": "02690fb8-618d-41a9-bae2-e32d451cbb7e",
   "metadata": {},
   "outputs": [
    {
     "data": {
      "text/plain": [
       "<AxesSubplot:>"
      ]
     },
     "metadata": {},
     "output_type": "display_data"
    },
    {
     "data": {
      "image/png": "[encoded data removed]",
      "text/plain": [
       "<Figure size 432x288 with 2 Axes>"
      ]
     },
     "metadata": {
      "needs_background": "light"
     },
     "output_type": "display_data"
    }
   ],
   "source": [
    "data_rank = correlation(data_rank,0,0.4)"
   ]
  },
  {
   "cell_type": "code",
   "execution_count": 110,
   "id": "0e663c75-93a9-478e-9845-ab5868b5e1cd",
   "metadata": {},
   "outputs": [
    {
     "data": {
      "text/plain": [
       "<AxesSubplot:>"
      ]
     },
     "metadata": {},
     "output_type": "display_data"
    },
    {
     "data": {
      "image/png": "[encoded data removed]",
      "text/plain": [
       "<Figure size 432x288 with 2 Axes>"
      ]
     },
     "metadata": {
      "needs_background": "light"
     },
     "output_type": "display_data"
    }
   ],
   "source": [
    "data_share = correlation(data_share,1,0.4)"
   ]
  },
  {
   "cell_type": "markdown",
   "id": "a97b4eff-339e-4fc9-b118-34e74b45fed9",
   "metadata": {},
   "source": [
    "Well, we are left with very few columns, and the ones we have are highly related to each other in some cases: WS with WS/48, PTS and PTS/M, and PTS/M with Stats/M, which was expected.\n",
    "\n",
    "We are going to drop WS in both datasets, as well as PTS and PTS/M for the Rank dataset based on multicollinearity."
   ]
  },
  {
   "cell_type": "code",
   "execution_count": 111,
   "id": "465e6637-70b4-425a-b75d-8fef594e177d",
   "metadata": {
    "tags": []
   },
   "outputs": [],
   "source": [
    "data_rank = data_rank.drop(columns = [\"WS\", \"PTS\", \"PTS/M\"])\n",
    "data_share = data_share.drop(columns = \"WS\")"
   ]
  },
  {
   "cell_type": "markdown",
   "id": "e5757f0b-f578-4ef1-8119-53b0f0191b16",
   "metadata": {},
   "source": [
    "Now we can do our X/y splits"
   ]
  },
  {
   "cell_type": "code",
   "execution_count": 112,
   "id": "d219f500-2bae-4480-92ad-6a91f588b775",
   "metadata": {},
   "outputs": [],
   "source": [
    "rank_X = data_rank.drop(columns = \"Rank\")\n",
    "rank_y = data_rank[\"Rank\"]\n",
    "share_X = data_share.drop(columns = \"Share\")\n",
    "share_y = data_share[\"Share\"]"
   ]
  },
  {
   "cell_type": "markdown",
   "id": "b2fa1dc1-fd28-4602-b46a-fe98ac51e113",
   "metadata": {},
   "source": [
    "And the Train/Test splits"
   ]
  },
  {
   "cell_type": "code",
   "execution_count": 122,
   "id": "4907b3f3-8510-4755-a0cb-761cd0e0a846",
   "metadata": {},
   "outputs": [],
   "source": [
    "rank_X_train, rank_X_test, rank_y_train, rank_y_test = train_test_split(rank_X, rank_y, test_size = 0.22, random_state = 22)\n",
    "share_X_train, share_X_test, share_y_train, share_y_test = train_test_split(share_X, share_y, test_size = 0.22, random_state = 22)"
   ]
  },
  {
   "cell_type": "code",
   "execution_count": 123,
   "id": "771e3731-0576-48c5-b913-0651dc4cb9d2",
   "metadata": {},
   "outputs": [],
   "source": [
    "def hist_maker(df):\n",
    "    '''Returns histplots in a single fig for each column of a given DataFrame\n",
    "    \n",
    "    Input: DataFrame\n",
    "    Output: Histplots of all the columns'''\n",
    "    \n",
    "    cols = list(df.columns)\n",
    "    x = len(cols)\n",
    "    fig, ax = plt.subplots(1,x, figsize=(20,10))\n",
    "\n",
    "    for col in cols:\n",
    "        y = cols.index(col)\n",
    "        sns.histplot(data=df, x=col, ax = ax[y])\n",
    "        ax[y].set_title(col)\n",
    "        \n",
    "    return"
   ]
  },
  {
   "cell_type": "code",
   "execution_count": 124,
   "id": "c90acdac-4481-4eb5-bd53-95bb3d47c57f",
   "metadata": {},
   "outputs": [
    {
     "data": {
      "image/png": "[encoded data removed]",
      "text/plain": [
       "<Figure size 1440x720 with 2 Axes>"
      ]
     },
     "metadata": {
      "needs_background": "light"
     },
     "output_type": "display_data"
    }
   ],
   "source": [
    "hist_maker(rank_X_train)"
   ]
  },
  {
   "cell_type": "code",
   "execution_count": 125,
   "id": "b28cb0f9-53c1-4127-9f5e-764bce5a53bf",
   "metadata": {},
   "outputs": [
    {
     "data": {
      "image/png": "[encoded data removed]",
      "text/plain": [
       "<Figure size 1440x720 with 2 Axes>"
      ]
     },
     "metadata": {
      "needs_background": "light"
     },
     "output_type": "display_data"
    }
   ],
   "source": [
    "hist_maker(share_X_train)"
   ]
  },
  {
   "cell_type": "markdown",
   "id": "f564525a-2b97-4309-ad28-ad0a96bde62b",
   "metadata": {},
   "source": [
    "Let's apply a logarithmic transformation to the Stats/M columns to make it closer to  a normal distribution."
   ]
  },
  {
   "cell_type": "code",
   "execution_count": 126,
   "id": "c9fa0f59-d128-4d1f-aead-2f57b1f583e5",
   "metadata": {},
   "outputs": [],
   "source": [
    "def log_transf(x):\n",
    "    if (np.isfinite(x)) and x != 0:\n",
    "        return np.log(x)\n",
    "    else:\n",
    "        return x"
   ]
  },
  {
   "cell_type": "code",
   "execution_count": 127,
   "id": "3b4b37ee-81f9-4df6-813b-7780312e1d03",
   "metadata": {},
   "outputs": [],
   "source": [
    "rank_X_train[\"Stats/M\"] = rank_X_train[\"Stats/M\"].apply(log_transf)\n",
    "rank_X_test[\"Stats/M\"] = rank_X_test[\"Stats/M\"].apply(log_transf)\n",
    "share_X_train[\"Stats/M\"] = share_X_train[\"Stats/M\"].apply(log_transf)\n",
    "share_X_test[\"Stats/M\"] = share_X_test[\"Stats/M\"].apply(log_transf)"
   ]
  },
  {
   "cell_type": "code",
   "execution_count": 119,
   "id": "8a860f4d-717c-44dd-b1f1-2265c4643ff5",
   "metadata": {},
   "outputs": [
    {
     "data": {
      "image/png": "[encoded data removed]",
      "text/plain": [
       "<Figure size 1440x720 with 2 Axes>"
      ]
     },
     "metadata": {
      "needs_background": "light"
     },
     "output_type": "display_data"
    }
   ],
   "source": [
    "hist_maker(rank_X_train)"
   ]
  },
  {
   "cell_type": "markdown",
   "id": "c9d3ffab-83a3-4346-965a-e4ea112804c3",
   "metadata": {},
   "source": [
    "Now we scale everythin with a MinMaxScaler."
   ]
  },
  {
   "cell_type": "code",
   "execution_count": 188,
   "id": "d5cd83e0-4713-4c85-a7b8-22600802370b",
   "metadata": {},
   "outputs": [],
   "source": [
    "rank_scaler = MinMaxScaler().fit(rank_X_train)\n",
    "\n",
    "rank_X_train_mm = rank_scaler.transform(rank_X_train)\n",
    "rank_X_train_mm = pd.DataFrame(rank_X_train_mm, columns = rank_X_train.columns, index = rank_X_train.index)\n",
    "\n",
    "rank_X_test_mm = rank_scaler.transform(rank_X_test)\n",
    "rank_X_test_mm = pd.DataFrame(rank_X_test_mm, columns = rank_X_test.columns, index = rank_X_test.index)\n",
    "\n",
    "\n",
    "share_scaler = MinMaxScaler().fit(share_X_train)\n",
    "\n",
    "share_X_train_mm = rank_scaler.transform(share_X_train)\n",
    "share_X_train_mm = pd.DataFrame(share_X_train_mm, columns = share_X_train.columns, index = share_X_train.index)\n",
    "\n",
    "share_X_test_mm = rank_scaler.transform(share_X_test)\n",
    "share_X_test_mm = pd.DataFrame(share_X_test_mm, columns = share_X_test.columns, index = share_X_test.index)"
   ]
  },
  {
   "cell_type": "code",
   "execution_count": 253,
   "id": "2c3457bc-c658-4d1e-aa5f-2ad7ea41f61a",
   "metadata": {},
   "outputs": [
    {
     "name": "stdout",
     "output_type": "stream",
     "text": [
      "0.46\n",
      "0.33\n",
      "0.39\n",
      "0.35\n"
     ]
    }
   ],
   "source": [
    "rank_lr = LinearRegression().fit(rank_X_train_mm, rank_y_train)\n",
    "\n",
    "rank_train_y_pred = rank_lr.predict(rank_X_train_mm)\n",
    "rank_test_y_pred = rank_lr.predict(rank_X_test_mm)\n",
    "\n",
    "print(round(r2_score(rank_y_train, rank_train_y_pred),2))\n",
    "print(round(r2_score(rank_y_test, rank_test_y_pred),2))\n",
    "\n",
    "\n",
    "share_lr = LinearRegression().fit(share_X_train_mm, share_y_train)\n",
    "\n",
    "share_train_y_pred = share_lr.predict(share_X_train_mm)\n",
    "share_test_y_pred = share_lr.predict(share_X_test_mm)\n",
    "\n",
    "print(round(r2_score(share_y_train, share_train_y_pred),2))\n",
    "print(round(r2_score(share_y_test, share_test_y_pred),2))"
   ]
  },
  {
   "cell_type": "code",
   "execution_count": 130,
   "id": "64ba6710-0739-4ac0-87ef-338e5cd287c0",
   "metadata": {},
   "outputs": [
    {
     "name": "stdout",
     "output_type": "stream",
     "text": [
      "[-9.31545826 -8.50418154]\n",
      "16.30427067069765\n",
      "[0.70403559 0.40368561]\n",
      "-0.35502478572752416\n"
     ]
    }
   ],
   "source": [
    "print(rank_lr.coef_)\n",
    "print(rank_lr.intercept_)\n",
    "print(share_lr.coef_)\n",
    "print(share_lr.intercept_)"
   ]
  },
  {
   "cell_type": "code",
   "execution_count": 243,
   "id": "9b80ccf8-0be0-4688-b81f-27fc394525ab",
   "metadata": {},
   "outputs": [
    {
     "data": {
      "image/png": "[encoded data removed]",
      "text/plain": [
       "<Figure size 432x288 with 1 Axes>"
      ]
     },
     "metadata": {
      "needs_background": "light"
     },
     "output_type": "display_data"
    }
   ],
   "source": [
    "sns.regplot(x = rank_y_train, y = rank_train_y_pred).set(title='Rank Train')\n",
    "plt.xlabel(\"Real Rank\")\n",
    "plt.ylabel(\"Predicted Rank\")\n",
    "plt.savefig(\"../Slides/Images/RankTrain.png\") "
   ]
  },
  {
   "cell_type": "code",
   "execution_count": 242,
   "id": "044aed0e-334f-4348-a029-f778c3ca3fc1",
   "metadata": {},
   "outputs": [
    {
     "data": {
      "image/png": "[encoded data removed]",
      "text/plain": [
       "<Figure size 432x288 with 1 Axes>"
      ]
     },
     "metadata": {
      "needs_background": "light"
     },
     "output_type": "display_data"
    }
   ],
   "source": [
    "sns.regplot(x = rank_y_test, y = rank_test_y_pred).set(title='Rank Test')\n",
    "plt.xlabel(\"Real Rank\")\n",
    "plt.ylabel(\"Predicted Rank\")\n",
    "plt.savefig(\"../Slides/Images/RankTest.png\") "
   ]
  },
  {
   "cell_type": "code",
   "execution_count": 244,
   "id": "6479b3a6-0168-40bd-8b11-26ef27a5c004",
   "metadata": {},
   "outputs": [
    {
     "data": {
      "image/png": "[encoded data removed]",
      "text/plain": [
       "<Figure size 432x288 with 1 Axes>"
      ]
     },
     "metadata": {
      "needs_background": "light"
     },
     "output_type": "display_data"
    }
   ],
   "source": [
    "sns.regplot(x = share_y_train, y = share_train_y_pred).set(title=\"Share Train\")\n",
    "plt.xlabel(\"Real Share\")\n",
    "plt.ylabel(\"Predicted Share\")\n",
    "plt.savefig(\"../Slides/Images/ShareTrain.png\") "
   ]
  },
  {
   "cell_type": "code",
   "execution_count": 245,
   "id": "9a9010c2-863d-4dd0-bbb2-f2947f9c6fa1",
   "metadata": {},
   "outputs": [
    {
     "data": {
      "image/png": "[encoded data removed]",
      "text/plain": [
       "<Figure size 432x288 with 1 Axes>"
      ]
     },
     "metadata": {
      "needs_background": "light"
     },
     "output_type": "display_data"
    }
   ],
   "source": [
    "sns.regplot(x = share_y_test, y = share_test_y_pred).set(title=\"Share Test\")\n",
    "plt.xlabel(\"Real Share\")\n",
    "plt.ylabel(\"Predicted Share\")\n",
    "plt.savefig(\"../Slides/Images/ShareTest.png\") "
   ]
  },
  {
   "cell_type": "code",
   "execution_count": 147,
   "id": "88a0986b-0d29-43e9-bc5b-628b74f0c1c2",
   "metadata": {},
   "outputs": [
    {
     "data": {
      "text/html": [
       "<div>\n",
       "<style scoped>\n",
       "    .dataframe tbody tr th:only-of-type {\n",
       "        vertical-align: middle;\n",
       "    }\n",
       "\n",
       "    .dataframe tbody tr th {\n",
       "        vertical-align: top;\n",
       "    }\n",
       "\n",
       "    .dataframe thead th {\n",
       "        text-align: right;\n",
       "    }\n",
       "</style>\n",
       "<table border=\"1\" class=\"dataframe\">\n",
       "  <thead>\n",
       "    <tr style=\"text-align: right;\">\n",
       "      <th></th>\n",
       "      <th>Rank</th>\n",
       "      <th>Player</th>\n",
       "      <th>Age</th>\n",
       "      <th>Tm</th>\n",
       "      <th>First</th>\n",
       "      <th>Pts Won</th>\n",
       "      <th>Pts Max</th>\n",
       "      <th>Share</th>\n",
       "      <th>G</th>\n",
       "      <th>MP</th>\n",
       "      <th>...</th>\n",
       "      <th>WS</th>\n",
       "      <th>WS/48</th>\n",
       "      <th>PTS/M</th>\n",
       "      <th>TRB/M</th>\n",
       "      <th>AST/M</th>\n",
       "      <th>STL/M</th>\n",
       "      <th>BLK/M</th>\n",
       "      <th>Stats/M</th>\n",
       "      <th>Year</th>\n",
       "      <th>Top3</th>\n",
       "    </tr>\n",
       "  </thead>\n",
       "  <tbody>\n",
       "    <tr>\n",
       "      <th>0</th>\n",
       "      <td>1</td>\n",
       "      <td>Shaquille O'Neal</td>\n",
       "      <td>27</td>\n",
       "      <td>LAL</td>\n",
       "      <td>120.0</td>\n",
       "      <td>1207.0</td>\n",
       "      <td>1210</td>\n",
       "      <td>0.998</td>\n",
       "      <td>79</td>\n",
       "      <td>40.0</td>\n",
       "      <td>...</td>\n",
       "      <td>18.6</td>\n",
       "      <td>0.283</td>\n",
       "      <td>0.742500</td>\n",
       "      <td>0.340000</td>\n",
       "      <td>0.095000</td>\n",
       "      <td>0.012500</td>\n",
       "      <td>0.075000</td>\n",
       "      <td>1.265000</td>\n",
       "      <td>2000</td>\n",
       "      <td>True</td>\n",
       "    </tr>\n",
       "    <tr>\n",
       "      <th>1</th>\n",
       "      <td>2</td>\n",
       "      <td>Kevin Garnett</td>\n",
       "      <td>23</td>\n",
       "      <td>MIN</td>\n",
       "      <td>0.0</td>\n",
       "      <td>408.0</td>\n",
       "      <td>1210</td>\n",
       "      <td>0.337</td>\n",
       "      <td>81</td>\n",
       "      <td>40.0</td>\n",
       "      <td>...</td>\n",
       "      <td>11.6</td>\n",
       "      <td>0.172</td>\n",
       "      <td>0.572500</td>\n",
       "      <td>0.295000</td>\n",
       "      <td>0.125000</td>\n",
       "      <td>0.037500</td>\n",
       "      <td>0.040000</td>\n",
       "      <td>1.070000</td>\n",
       "      <td>2000</td>\n",
       "      <td>True</td>\n",
       "    </tr>\n",
       "    <tr>\n",
       "      <th>2</th>\n",
       "      <td>3</td>\n",
       "      <td>Alonzo Mourning</td>\n",
       "      <td>29</td>\n",
       "      <td>MIA</td>\n",
       "      <td>0.0</td>\n",
       "      <td>367.0</td>\n",
       "      <td>1210</td>\n",
       "      <td>0.303</td>\n",
       "      <td>79</td>\n",
       "      <td>34.8</td>\n",
       "      <td>...</td>\n",
       "      <td>12.9</td>\n",
       "      <td>0.226</td>\n",
       "      <td>0.623563</td>\n",
       "      <td>0.272989</td>\n",
       "      <td>0.045977</td>\n",
       "      <td>0.014368</td>\n",
       "      <td>0.106322</td>\n",
       "      <td>1.063218</td>\n",
       "      <td>2000</td>\n",
       "      <td>True</td>\n",
       "    </tr>\n",
       "    <tr>\n",
       "      <th>3</th>\n",
       "      <td>4</td>\n",
       "      <td>Karl Malone</td>\n",
       "      <td>36</td>\n",
       "      <td>UTA</td>\n",
       "      <td>0.0</td>\n",
       "      <td>312.0</td>\n",
       "      <td>1210</td>\n",
       "      <td>0.258</td>\n",
       "      <td>82</td>\n",
       "      <td>35.9</td>\n",
       "      <td>...</td>\n",
       "      <td>15.3</td>\n",
       "      <td>0.249</td>\n",
       "      <td>0.710306</td>\n",
       "      <td>0.264624</td>\n",
       "      <td>0.103064</td>\n",
       "      <td>0.027855</td>\n",
       "      <td>0.025070</td>\n",
       "      <td>1.130919</td>\n",
       "      <td>2000</td>\n",
       "      <td>False</td>\n",
       "    </tr>\n",
       "    <tr>\n",
       "      <th>4</th>\n",
       "      <td>5</td>\n",
       "      <td>Tim Duncan</td>\n",
       "      <td>23</td>\n",
       "      <td>SAS</td>\n",
       "      <td>0.0</td>\n",
       "      <td>248.0</td>\n",
       "      <td>1210</td>\n",
       "      <td>0.205</td>\n",
       "      <td>74</td>\n",
       "      <td>38.9</td>\n",
       "      <td>...</td>\n",
       "      <td>13.0</td>\n",
       "      <td>0.218</td>\n",
       "      <td>0.596401</td>\n",
       "      <td>0.318766</td>\n",
       "      <td>0.082262</td>\n",
       "      <td>0.023136</td>\n",
       "      <td>0.056555</td>\n",
       "      <td>1.077121</td>\n",
       "      <td>2000</td>\n",
       "      <td>False</td>\n",
       "    </tr>\n",
       "  </tbody>\n",
       "</table>\n",
       "<p>5 rows × 28 columns</p>\n",
       "</div>"
      ],
      "text/plain": [
       "   Rank            Player  Age   Tm  First  Pts Won  Pts Max  Share   G    MP  \\\n",
       "0     1  Shaquille O'Neal   27  LAL  120.0   1207.0     1210  0.998  79  40.0   \n",
       "1     2     Kevin Garnett   23  MIN    0.0    408.0     1210  0.337  81  40.0   \n",
       "2     3   Alonzo Mourning   29  MIA    0.0    367.0     1210  0.303  79  34.8   \n",
       "3     4       Karl Malone   36  UTA    0.0    312.0     1210  0.258  82  35.9   \n",
       "4     5        Tim Duncan   23  SAS    0.0    248.0     1210  0.205  74  38.9   \n",
       "\n",
       "   ...    WS  WS/48     PTS/M     TRB/M     AST/M     STL/M     BLK/M  \\\n",
       "0  ...  18.6  0.283  0.742500  0.340000  0.095000  0.012500  0.075000   \n",
       "1  ...  11.6  0.172  0.572500  0.295000  0.125000  0.037500  0.040000   \n",
       "2  ...  12.9  0.226  0.623563  0.272989  0.045977  0.014368  0.106322   \n",
       "3  ...  15.3  0.249  0.710306  0.264624  0.103064  0.027855  0.025070   \n",
       "4  ...  13.0  0.218  0.596401  0.318766  0.082262  0.023136  0.056555   \n",
       "\n",
       "    Stats/M  Year   Top3  \n",
       "0  1.265000  2000   True  \n",
       "1  1.070000  2000   True  \n",
       "2  1.063218  2000   True  \n",
       "3  1.130919  2000  False  \n",
       "4  1.077121  2000  False  \n",
       "\n",
       "[5 rows x 28 columns]"
      ]
     },
     "execution_count": 147,
     "metadata": {},
     "output_type": "execute_result"
    }
   ],
   "source": [
    "data.head()"
   ]
  },
  {
   "cell_type": "code",
   "execution_count": 148,
   "id": "b516d5ce-979d-4221-8254-a3ada5c0c2d4",
   "metadata": {},
   "outputs": [
    {
     "data": {
      "text/html": [
       "<div>\n",
       "<style scoped>\n",
       "    .dataframe tbody tr th:only-of-type {\n",
       "        vertical-align: middle;\n",
       "    }\n",
       "\n",
       "    .dataframe tbody tr th {\n",
       "        vertical-align: top;\n",
       "    }\n",
       "\n",
       "    .dataframe thead th {\n",
       "        text-align: right;\n",
       "    }\n",
       "</style>\n",
       "<table border=\"1\" class=\"dataframe\">\n",
       "  <thead>\n",
       "    <tr style=\"text-align: right;\">\n",
       "      <th></th>\n",
       "      <th>Rank</th>\n",
       "      <th>Player</th>\n",
       "      <th>Age</th>\n",
       "      <th>Tm</th>\n",
       "      <th>First</th>\n",
       "      <th>Pts Won</th>\n",
       "      <th>Pts Max</th>\n",
       "      <th>Share</th>\n",
       "      <th>G</th>\n",
       "      <th>MP</th>\n",
       "      <th>...</th>\n",
       "      <th>WS</th>\n",
       "      <th>WS/48</th>\n",
       "      <th>PTS/M</th>\n",
       "      <th>TRB/M</th>\n",
       "      <th>AST/M</th>\n",
       "      <th>STL/M</th>\n",
       "      <th>BLK/M</th>\n",
       "      <th>Stats/M</th>\n",
       "      <th>Year</th>\n",
       "      <th>Top3</th>\n",
       "    </tr>\n",
       "  </thead>\n",
       "  <tbody>\n",
       "    <tr>\n",
       "      <th>0</th>\n",
       "      <td>1</td>\n",
       "      <td>Shaquille O'Neal</td>\n",
       "      <td>27</td>\n",
       "      <td>LAL</td>\n",
       "      <td>120.0</td>\n",
       "      <td>1207.0</td>\n",
       "      <td>1210</td>\n",
       "      <td>0.998</td>\n",
       "      <td>79</td>\n",
       "      <td>40.0</td>\n",
       "      <td>...</td>\n",
       "      <td>18.6</td>\n",
       "      <td>0.283</td>\n",
       "      <td>0.742500</td>\n",
       "      <td>0.340000</td>\n",
       "      <td>0.095000</td>\n",
       "      <td>0.012500</td>\n",
       "      <td>0.075000</td>\n",
       "      <td>1.265000</td>\n",
       "      <td>2000</td>\n",
       "      <td>True</td>\n",
       "    </tr>\n",
       "    <tr>\n",
       "      <th>1</th>\n",
       "      <td>2</td>\n",
       "      <td>Kevin Garnett</td>\n",
       "      <td>23</td>\n",
       "      <td>MIN</td>\n",
       "      <td>0.0</td>\n",
       "      <td>408.0</td>\n",
       "      <td>1210</td>\n",
       "      <td>0.337</td>\n",
       "      <td>81</td>\n",
       "      <td>40.0</td>\n",
       "      <td>...</td>\n",
       "      <td>11.6</td>\n",
       "      <td>0.172</td>\n",
       "      <td>0.572500</td>\n",
       "      <td>0.295000</td>\n",
       "      <td>0.125000</td>\n",
       "      <td>0.037500</td>\n",
       "      <td>0.040000</td>\n",
       "      <td>1.070000</td>\n",
       "      <td>2000</td>\n",
       "      <td>True</td>\n",
       "    </tr>\n",
       "    <tr>\n",
       "      <th>2</th>\n",
       "      <td>3</td>\n",
       "      <td>Alonzo Mourning</td>\n",
       "      <td>29</td>\n",
       "      <td>MIA</td>\n",
       "      <td>0.0</td>\n",
       "      <td>367.0</td>\n",
       "      <td>1210</td>\n",
       "      <td>0.303</td>\n",
       "      <td>79</td>\n",
       "      <td>34.8</td>\n",
       "      <td>...</td>\n",
       "      <td>12.9</td>\n",
       "      <td>0.226</td>\n",
       "      <td>0.623563</td>\n",
       "      <td>0.272989</td>\n",
       "      <td>0.045977</td>\n",
       "      <td>0.014368</td>\n",
       "      <td>0.106322</td>\n",
       "      <td>1.063218</td>\n",
       "      <td>2000</td>\n",
       "      <td>True</td>\n",
       "    </tr>\n",
       "    <tr>\n",
       "      <th>3</th>\n",
       "      <td>4</td>\n",
       "      <td>Karl Malone</td>\n",
       "      <td>36</td>\n",
       "      <td>UTA</td>\n",
       "      <td>0.0</td>\n",
       "      <td>312.0</td>\n",
       "      <td>1210</td>\n",
       "      <td>0.258</td>\n",
       "      <td>82</td>\n",
       "      <td>35.9</td>\n",
       "      <td>...</td>\n",
       "      <td>15.3</td>\n",
       "      <td>0.249</td>\n",
       "      <td>0.710306</td>\n",
       "      <td>0.264624</td>\n",
       "      <td>0.103064</td>\n",
       "      <td>0.027855</td>\n",
       "      <td>0.025070</td>\n",
       "      <td>1.130919</td>\n",
       "      <td>2000</td>\n",
       "      <td>False</td>\n",
       "    </tr>\n",
       "    <tr>\n",
       "      <th>4</th>\n",
       "      <td>5</td>\n",
       "      <td>Tim Duncan</td>\n",
       "      <td>23</td>\n",
       "      <td>SAS</td>\n",
       "      <td>0.0</td>\n",
       "      <td>248.0</td>\n",
       "      <td>1210</td>\n",
       "      <td>0.205</td>\n",
       "      <td>74</td>\n",
       "      <td>38.9</td>\n",
       "      <td>...</td>\n",
       "      <td>13.0</td>\n",
       "      <td>0.218</td>\n",
       "      <td>0.596401</td>\n",
       "      <td>0.318766</td>\n",
       "      <td>0.082262</td>\n",
       "      <td>0.023136</td>\n",
       "      <td>0.056555</td>\n",
       "      <td>1.077121</td>\n",
       "      <td>2000</td>\n",
       "      <td>False</td>\n",
       "    </tr>\n",
       "  </tbody>\n",
       "</table>\n",
       "<p>5 rows × 28 columns</p>\n",
       "</div>"
      ],
      "text/plain": [
       "   Rank            Player  Age   Tm  First  Pts Won  Pts Max  Share   G    MP  \\\n",
       "0     1  Shaquille O'Neal   27  LAL  120.0   1207.0     1210  0.998  79  40.0   \n",
       "1     2     Kevin Garnett   23  MIN    0.0    408.0     1210  0.337  81  40.0   \n",
       "2     3   Alonzo Mourning   29  MIA    0.0    367.0     1210  0.303  79  34.8   \n",
       "3     4       Karl Malone   36  UTA    0.0    312.0     1210  0.258  82  35.9   \n",
       "4     5        Tim Duncan   23  SAS    0.0    248.0     1210  0.205  74  38.9   \n",
       "\n",
       "   ...    WS  WS/48     PTS/M     TRB/M     AST/M     STL/M     BLK/M  \\\n",
       "0  ...  18.6  0.283  0.742500  0.340000  0.095000  0.012500  0.075000   \n",
       "1  ...  11.6  0.172  0.572500  0.295000  0.125000  0.037500  0.040000   \n",
       "2  ...  12.9  0.226  0.623563  0.272989  0.045977  0.014368  0.106322   \n",
       "3  ...  15.3  0.249  0.710306  0.264624  0.103064  0.027855  0.025070   \n",
       "4  ...  13.0  0.218  0.596401  0.318766  0.082262  0.023136  0.056555   \n",
       "\n",
       "    Stats/M  Year   Top3  \n",
       "0  1.265000  2000   True  \n",
       "1  1.070000  2000   True  \n",
       "2  1.063218  2000   True  \n",
       "3  1.130919  2000  False  \n",
       "4  1.077121  2000  False  \n",
       "\n",
       "[5 rows x 28 columns]"
      ]
     },
     "execution_count": 148,
     "metadata": {},
     "output_type": "execute_result"
    }
   ],
   "source": [
    "data[\"Top3\"] = data[\"Rank\"] <= 3\n",
    "data.head()"
   ]
  },
  {
   "cell_type": "code",
   "execution_count": 203,
   "id": "93e5e33e-4ae3-4773-ba31-1d7825f6ccbc",
   "metadata": {},
   "outputs": [],
   "source": [
    "top3_X = data[[\"WS/48\", \"Stats/M\"]]\n",
    "top3_y = data[\"Top3\"]"
   ]
  },
  {
   "cell_type": "code",
   "execution_count": 204,
   "id": "bfa748da-e5a8-4d08-a2c5-66b3ee923ba5",
   "metadata": {},
   "outputs": [
    {
     "data": {
      "text/html": [
       "<div>\n",
       "<style scoped>\n",
       "    .dataframe tbody tr th:only-of-type {\n",
       "        vertical-align: middle;\n",
       "    }\n",
       "\n",
       "    .dataframe tbody tr th {\n",
       "        vertical-align: top;\n",
       "    }\n",
       "\n",
       "    .dataframe thead th {\n",
       "        text-align: right;\n",
       "    }\n",
       "</style>\n",
       "<table border=\"1\" class=\"dataframe\">\n",
       "  <thead>\n",
       "    <tr style=\"text-align: right;\">\n",
       "      <th></th>\n",
       "      <th>WS/48</th>\n",
       "      <th>Stats/M</th>\n",
       "    </tr>\n",
       "  </thead>\n",
       "  <tbody>\n",
       "    <tr>\n",
       "      <th>0</th>\n",
       "      <td>0.283</td>\n",
       "      <td>1.265000</td>\n",
       "    </tr>\n",
       "    <tr>\n",
       "      <th>1</th>\n",
       "      <td>0.172</td>\n",
       "      <td>1.070000</td>\n",
       "    </tr>\n",
       "    <tr>\n",
       "      <th>2</th>\n",
       "      <td>0.226</td>\n",
       "      <td>1.063218</td>\n",
       "    </tr>\n",
       "    <tr>\n",
       "      <th>3</th>\n",
       "      <td>0.249</td>\n",
       "      <td>1.130919</td>\n",
       "    </tr>\n",
       "    <tr>\n",
       "      <th>4</th>\n",
       "      <td>0.218</td>\n",
       "      <td>1.077121</td>\n",
       "    </tr>\n",
       "    <tr>\n",
       "      <th>...</th>\n",
       "      <td>...</td>\n",
       "      <td>...</td>\n",
       "    </tr>\n",
       "    <tr>\n",
       "      <th>321</th>\n",
       "      <td>0.173</td>\n",
       "      <td>1.121739</td>\n",
       "    </tr>\n",
       "    <tr>\n",
       "      <th>322</th>\n",
       "      <td>0.210</td>\n",
       "      <td>0.975684</td>\n",
       "    </tr>\n",
       "    <tr>\n",
       "      <th>323</th>\n",
       "      <td>0.154</td>\n",
       "      <td>1.085873</td>\n",
       "    </tr>\n",
       "    <tr>\n",
       "      <th>324</th>\n",
       "      <td>0.198</td>\n",
       "      <td>1.223118</td>\n",
       "    </tr>\n",
       "    <tr>\n",
       "      <th>325</th>\n",
       "      <td>0.172</td>\n",
       "      <td>1.266129</td>\n",
       "    </tr>\n",
       "  </tbody>\n",
       "</table>\n",
       "<p>326 rows × 2 columns</p>\n",
       "</div>"
      ],
      "text/plain": [
       "     WS/48   Stats/M\n",
       "0    0.283  1.265000\n",
       "1    0.172  1.070000\n",
       "2    0.226  1.063218\n",
       "3    0.249  1.130919\n",
       "4    0.218  1.077121\n",
       "..     ...       ...\n",
       "321  0.173  1.121739\n",
       "322  0.210  0.975684\n",
       "323  0.154  1.085873\n",
       "324  0.198  1.223118\n",
       "325  0.172  1.266129\n",
       "\n",
       "[326 rows x 2 columns]"
      ]
     },
     "execution_count": 204,
     "metadata": {},
     "output_type": "execute_result"
    }
   ],
   "source": [
    "top3_X"
   ]
  },
  {
   "cell_type": "code",
   "execution_count": 205,
   "id": "67d911f7-3226-410e-8357-2d230d8cbde6",
   "metadata": {},
   "outputs": [],
   "source": [
    "top3_X_train, top3_X_test, top3_y_train, top3_y_test = train_test_split(top3_X, top3_y, test_size = 0.22, random_state = 22)"
   ]
  },
  {
   "cell_type": "code",
   "execution_count": 206,
   "id": "10b3d44b-4ec3-4243-bfc3-46868c6f621b",
   "metadata": {},
   "outputs": [
    {
     "data": {
      "image/png": "[encoded data removed]",
      "text/plain": [
       "<Figure size 1440x720 with 2 Axes>"
      ]
     },
     "metadata": {
      "needs_background": "light"
     },
     "output_type": "display_data"
    }
   ],
   "source": [
    "hist_maker(top3_X_train)"
   ]
  },
  {
   "cell_type": "code",
   "execution_count": 207,
   "id": "0cc09e8b-8b99-42cb-a7ba-8902e8f303dd",
   "metadata": {},
   "outputs": [],
   "source": [
    "top3_pt = PowerTransformer().fit(top3_X_train)\n",
    "\n",
    "top3_X_train_pt = top3_pt.transform(top3_X_train)\n",
    "top3_X_train_pt = pd.DataFrame(top3_X_train_pt, columns = top3_X_train.columns, index = top3_X_train.index)\n",
    "\n",
    "top3_X_test_pt = top3_pt.transform(top3_X_test)\n",
    "top3_X_test_pt = pd.DataFrame(top3_X_test_pt, columns = top3_X_test.columns, index = top3_X_test.index)"
   ]
  },
  {
   "cell_type": "code",
   "execution_count": 208,
   "id": "2cc8506e-e251-43c8-8a89-d7ebe0a3cdcb",
   "metadata": {},
   "outputs": [
    {
     "data": {
      "image/png": "[encoded data removed]",
      "text/plain": [
       "<Figure size 1440x720 with 2 Axes>"
      ]
     },
     "metadata": {
      "needs_background": "light"
     },
     "output_type": "display_data"
    }
   ],
   "source": [
    "hist_maker(top3_X_train_pt)"
   ]
  },
  {
   "cell_type": "code",
   "execution_count": 209,
   "id": "0eaee6ed-31cb-4838-b2cb-cda09c19906c",
   "metadata": {},
   "outputs": [],
   "source": [
    "top3_scaler = MinMaxScaler().fit(top3_X_train_pt)\n",
    "\n",
    "top3_X_train_pt_mm = top3_scaler.transform(top3_X_train_pt)\n",
    "top3_X_train_pt_mm = pd.DataFrame(top3_X_train_pt_mm, columns = top3_X_train_pt.columns, index = top3_X_train_pt.index)\n",
    "\n",
    "top3_X_test_pt_mm = top3_scaler.transform(top3_X_test_pt)\n",
    "top3_X_test_pt_mm = pd.DataFrame(top3_X_test_pt_mm, columns = top3_X_test_pt.columns, index = top3_X_test_pt.index)"
   ]
  },
  {
   "cell_type": "code",
   "execution_count": 257,
   "id": "d3371135-0b64-45e1-9ab6-ce74588ad616",
   "metadata": {},
   "outputs": [
    {
     "name": "stdout",
     "output_type": "stream",
     "text": [
      "0.4\n",
      "0.24\n"
     ]
    }
   ],
   "source": [
    "top3_lr = LogisticRegression(random_state = 22, solver = \"lbfgs\").fit(top3_X_train_pt_mm, top3_y_train)\n",
    "\n",
    "top3_lr_y_train_pred = top3_lr.predict(top3_X_train_pt_mm)\n",
    "print(round(cohen_kappa_score(top3_y_train, top3_lr_y_train_pred),2))\n",
    "\n",
    "top3_lr_y_test_pred = top3_lr.predict(top3_X_test_pt_mm)\n",
    "print(round(cohen_kappa_score(top3_y_test, top3_lr_y_test_pred),2))"
   ]
  },
  {
   "cell_type": "code",
   "execution_count": 247,
   "id": "5beb3288-07ef-40ff-9ebd-033ce9e79be1",
   "metadata": {},
   "outputs": [
    {
     "data": {
      "image/png": "[encoded data removed]",
      "text/plain": [
       "<Figure size 432x288 with 2 Axes>"
      ]
     },
     "metadata": {
      "needs_background": "light"
     },
     "output_type": "display_data"
    }
   ],
   "source": [
    "top3_cm_train = confusion_matrix(top3_y_train, top3_lr_y_train_pred)\n",
    "disp = ConfusionMatrixDisplay(top3_cm_train,display_labels=top3_lr.classes_);\n",
    "disp.plot()\n",
    "plt.title(\"Top3 Train\")\n",
    "plt.savefig(\"../Slides/Images/Top3Train.png\")"
   ]
  },
  {
   "cell_type": "code",
   "execution_count": 248,
   "id": "0332f09b-ed38-4138-98c8-8eaf306bfe59",
   "metadata": {},
   "outputs": [
    {
     "data": {
      "image/png": "[encoded data removed]",
      "text/plain": [
       "<Figure size 432x288 with 2 Axes>"
      ]
     },
     "metadata": {
      "needs_background": "light"
     },
     "output_type": "display_data"
    }
   ],
   "source": [
    "top3_cm_test = confusion_matrix(top3_y_test, top3_lr_y_test_pred)\n",
    "disp = ConfusionMatrixDisplay(top3_cm_test,display_labels=top3_lr.classes_);\n",
    "disp.plot()\n",
    "plt.title(\"Top3 Test\")\n",
    "plt.savefig(\"../Slides/Images/Top3Test.png\")"
   ]
  },
  {
   "cell_type": "code",
   "execution_count": 219,
   "id": "2ca132e7-a386-4e49-ba54-952aa79d47e2",
   "metadata": {},
   "outputs": [
    {
     "data": {
      "text/plain": [
       "False    257\n",
       "True      69\n",
       "Name: Top3, dtype: int64"
      ]
     },
     "execution_count": 219,
     "metadata": {},
     "output_type": "execute_result"
    }
   ],
   "source": [
    "data[\"Top3\"].value_counts()"
   ]
  },
  {
   "cell_type": "code",
   "execution_count": 218,
   "id": "f6a5b82b-41c2-46e2-badd-c55ec54786b5",
   "metadata": {
    "tags": []
   },
   "outputs": [
    {
     "data": {
      "text/plain": [
       "10    29\n",
       "9     25\n",
       "7     24\n",
       "12    24\n",
       "2     23\n",
       "8     23\n",
       "1     23\n",
       "6     23\n",
       "5     23\n",
       "4     23\n",
       "3     23\n",
       "11    20\n",
       "14    15\n",
       "13    14\n",
       "15     9\n",
       "16     4\n",
       "17     1\n",
       "Name: Rank, dtype: int64"
      ]
     },
     "execution_count": 218,
     "metadata": {},
     "output_type": "execute_result"
    }
   ],
   "source": [
    "data[\"Rank\"].value_counts()"
   ]
  },
  {
   "cell_type": "code",
   "execution_count": 220,
   "id": "42a4fd88-1e47-458b-a12d-d3a556968067",
   "metadata": {},
   "outputs": [
    {
     "data": {
      "text/html": [
       "<div>\n",
       "<style scoped>\n",
       "    .dataframe tbody tr th:only-of-type {\n",
       "        vertical-align: middle;\n",
       "    }\n",
       "\n",
       "    .dataframe tbody tr th {\n",
       "        vertical-align: top;\n",
       "    }\n",
       "\n",
       "    .dataframe thead th {\n",
       "        text-align: right;\n",
       "    }\n",
       "</style>\n",
       "<table border=\"1\" class=\"dataframe\">\n",
       "  <thead>\n",
       "    <tr style=\"text-align: right;\">\n",
       "      <th></th>\n",
       "      <th>Rank</th>\n",
       "      <th>Player</th>\n",
       "      <th>Age</th>\n",
       "      <th>Tm</th>\n",
       "      <th>First</th>\n",
       "      <th>Pts Won</th>\n",
       "      <th>Pts Max</th>\n",
       "      <th>Share</th>\n",
       "      <th>G</th>\n",
       "      <th>MP</th>\n",
       "      <th>...</th>\n",
       "      <th>WS/48</th>\n",
       "      <th>PTS/M</th>\n",
       "      <th>TRB/M</th>\n",
       "      <th>AST/M</th>\n",
       "      <th>STL/M</th>\n",
       "      <th>BLK/M</th>\n",
       "      <th>Stats/M</th>\n",
       "      <th>Year</th>\n",
       "      <th>Top3</th>\n",
       "      <th>Top5</th>\n",
       "    </tr>\n",
       "  </thead>\n",
       "  <tbody>\n",
       "    <tr>\n",
       "      <th>0</th>\n",
       "      <td>1</td>\n",
       "      <td>Shaquille O'Neal</td>\n",
       "      <td>27</td>\n",
       "      <td>LAL</td>\n",
       "      <td>120.0</td>\n",
       "      <td>1207.0</td>\n",
       "      <td>1210</td>\n",
       "      <td>0.998</td>\n",
       "      <td>79</td>\n",
       "      <td>40.0</td>\n",
       "      <td>...</td>\n",
       "      <td>0.283</td>\n",
       "      <td>0.742500</td>\n",
       "      <td>0.340000</td>\n",
       "      <td>0.095000</td>\n",
       "      <td>0.012500</td>\n",
       "      <td>0.075000</td>\n",
       "      <td>1.265000</td>\n",
       "      <td>2000</td>\n",
       "      <td>True</td>\n",
       "      <td>True</td>\n",
       "    </tr>\n",
       "    <tr>\n",
       "      <th>1</th>\n",
       "      <td>2</td>\n",
       "      <td>Kevin Garnett</td>\n",
       "      <td>23</td>\n",
       "      <td>MIN</td>\n",
       "      <td>0.0</td>\n",
       "      <td>408.0</td>\n",
       "      <td>1210</td>\n",
       "      <td>0.337</td>\n",
       "      <td>81</td>\n",
       "      <td>40.0</td>\n",
       "      <td>...</td>\n",
       "      <td>0.172</td>\n",
       "      <td>0.572500</td>\n",
       "      <td>0.295000</td>\n",
       "      <td>0.125000</td>\n",
       "      <td>0.037500</td>\n",
       "      <td>0.040000</td>\n",
       "      <td>1.070000</td>\n",
       "      <td>2000</td>\n",
       "      <td>True</td>\n",
       "      <td>True</td>\n",
       "    </tr>\n",
       "    <tr>\n",
       "      <th>2</th>\n",
       "      <td>3</td>\n",
       "      <td>Alonzo Mourning</td>\n",
       "      <td>29</td>\n",
       "      <td>MIA</td>\n",
       "      <td>0.0</td>\n",
       "      <td>367.0</td>\n",
       "      <td>1210</td>\n",
       "      <td>0.303</td>\n",
       "      <td>79</td>\n",
       "      <td>34.8</td>\n",
       "      <td>...</td>\n",
       "      <td>0.226</td>\n",
       "      <td>0.623563</td>\n",
       "      <td>0.272989</td>\n",
       "      <td>0.045977</td>\n",
       "      <td>0.014368</td>\n",
       "      <td>0.106322</td>\n",
       "      <td>1.063218</td>\n",
       "      <td>2000</td>\n",
       "      <td>True</td>\n",
       "      <td>True</td>\n",
       "    </tr>\n",
       "    <tr>\n",
       "      <th>3</th>\n",
       "      <td>4</td>\n",
       "      <td>Karl Malone</td>\n",
       "      <td>36</td>\n",
       "      <td>UTA</td>\n",
       "      <td>0.0</td>\n",
       "      <td>312.0</td>\n",
       "      <td>1210</td>\n",
       "      <td>0.258</td>\n",
       "      <td>82</td>\n",
       "      <td>35.9</td>\n",
       "      <td>...</td>\n",
       "      <td>0.249</td>\n",
       "      <td>0.710306</td>\n",
       "      <td>0.264624</td>\n",
       "      <td>0.103064</td>\n",
       "      <td>0.027855</td>\n",
       "      <td>0.025070</td>\n",
       "      <td>1.130919</td>\n",
       "      <td>2000</td>\n",
       "      <td>False</td>\n",
       "      <td>True</td>\n",
       "    </tr>\n",
       "    <tr>\n",
       "      <th>4</th>\n",
       "      <td>5</td>\n",
       "      <td>Tim Duncan</td>\n",
       "      <td>23</td>\n",
       "      <td>SAS</td>\n",
       "      <td>0.0</td>\n",
       "      <td>248.0</td>\n",
       "      <td>1210</td>\n",
       "      <td>0.205</td>\n",
       "      <td>74</td>\n",
       "      <td>38.9</td>\n",
       "      <td>...</td>\n",
       "      <td>0.218</td>\n",
       "      <td>0.596401</td>\n",
       "      <td>0.318766</td>\n",
       "      <td>0.082262</td>\n",
       "      <td>0.023136</td>\n",
       "      <td>0.056555</td>\n",
       "      <td>1.077121</td>\n",
       "      <td>2000</td>\n",
       "      <td>False</td>\n",
       "      <td>True</td>\n",
       "    </tr>\n",
       "  </tbody>\n",
       "</table>\n",
       "<p>5 rows × 29 columns</p>\n",
       "</div>"
      ],
      "text/plain": [
       "   Rank            Player  Age   Tm  First  Pts Won  Pts Max  Share   G    MP  \\\n",
       "0     1  Shaquille O'Neal   27  LAL  120.0   1207.0     1210  0.998  79  40.0   \n",
       "1     2     Kevin Garnett   23  MIN    0.0    408.0     1210  0.337  81  40.0   \n",
       "2     3   Alonzo Mourning   29  MIA    0.0    367.0     1210  0.303  79  34.8   \n",
       "3     4       Karl Malone   36  UTA    0.0    312.0     1210  0.258  82  35.9   \n",
       "4     5        Tim Duncan   23  SAS    0.0    248.0     1210  0.205  74  38.9   \n",
       "\n",
       "   ...  WS/48     PTS/M     TRB/M     AST/M     STL/M     BLK/M   Stats/M  \\\n",
       "0  ...  0.283  0.742500  0.340000  0.095000  0.012500  0.075000  1.265000   \n",
       "1  ...  0.172  0.572500  0.295000  0.125000  0.037500  0.040000  1.070000   \n",
       "2  ...  0.226  0.623563  0.272989  0.045977  0.014368  0.106322  1.063218   \n",
       "3  ...  0.249  0.710306  0.264624  0.103064  0.027855  0.025070  1.130919   \n",
       "4  ...  0.218  0.596401  0.318766  0.082262  0.023136  0.056555  1.077121   \n",
       "\n",
       "   Year   Top3  Top5  \n",
       "0  2000   True  True  \n",
       "1  2000   True  True  \n",
       "2  2000   True  True  \n",
       "3  2000  False  True  \n",
       "4  2000  False  True  \n",
       "\n",
       "[5 rows x 29 columns]"
      ]
     },
     "execution_count": 220,
     "metadata": {},
     "output_type": "execute_result"
    }
   ],
   "source": [
    "data[\"Top5\"] = data[\"Rank\"] <=5\n",
    "data.head()"
   ]
  },
  {
   "cell_type": "code",
   "execution_count": 221,
   "id": "1b260770-f19e-43e7-9161-0f2a2e5c40eb",
   "metadata": {},
   "outputs": [],
   "source": [
    "top5_X = data[[\"WS/48\", \"Stats/M\"]]\n",
    "top5_y = data[\"Top5\"]"
   ]
  },
  {
   "cell_type": "code",
   "execution_count": 222,
   "id": "50ca2a1f-7474-40e3-83f7-47a248e7a368",
   "metadata": {},
   "outputs": [],
   "source": [
    "top5_X_train, top5_X_test, top5_y_train, top5_y_test = train_test_split(top5_X, top5_y, test_size = 0.22, random_state = 22)"
   ]
  },
  {
   "cell_type": "code",
   "execution_count": 223,
   "id": "f1ae5d8f-770c-4d42-bb51-d8f3c4b50dbd",
   "metadata": {},
   "outputs": [],
   "source": [
    "top5_pt = PowerTransformer().fit(top5_X_train)\n",
    "\n",
    "top5_X_train_pt = top5_pt.transform(top5_X_train)\n",
    "top5_X_train_pt = pd.DataFrame(top5_X_train_pt, columns = top5_X_train.columns, index = top5_X_train.index)\n",
    "\n",
    "top5_X_test_pt = top5_pt.transform(top5_X_test)\n",
    "top5_X_test_pt = pd.DataFrame(top5_X_test_pt, columns = top5_X_test.columns, index = top5_X_test.index)"
   ]
  },
  {
   "cell_type": "code",
   "execution_count": 224,
   "id": "4927682c-ea0b-4cbc-84c2-eac1d85c0899",
   "metadata": {
    "tags": []
   },
   "outputs": [],
   "source": [
    "top5_scaler = MinMaxScaler().fit(top5_X_train_pt)\n",
    "\n",
    "top5_X_train_pt_mm = top5_scaler.transform(top5_X_train_pt)\n",
    "top5_X_train_pt_mm = pd.DataFrame(top5_X_train_pt_mm, columns = top5_X_train_pt.columns, index = top5_X_train_pt.index)\n",
    "\n",
    "top5_X_test_pt_mm = top5_scaler.transform(top5_X_test_pt)\n",
    "top5_X_test_pt_mm = pd.DataFrame(top5_X_test_pt_mm, columns = top5_X_test_pt.columns, index = top5_X_test_pt.index)"
   ]
  },
  {
   "cell_type": "code",
   "execution_count": 259,
   "id": "e5c3d398-b25a-4375-9c99-86b436dc0b9f",
   "metadata": {},
   "outputs": [
    {
     "name": "stdout",
     "output_type": "stream",
     "text": [
      "0.54\n",
      "0.36\n"
     ]
    }
   ],
   "source": [
    "top5_lr = LogisticRegression(random_state = 22, solver = \"lbfgs\").fit(top5_X_train_pt_mm, top5_y_train)\n",
    "\n",
    "top5_lr_y_train_pred = top5_lr.predict(top5_X_train_pt_mm)\n",
    "print(round(cohen_kappa_score(top5_y_train, top5_lr_y_train_pred),2))\n",
    "\n",
    "top5_lr_y_test_pred = top5_lr.predict(top5_X_test_pt_mm)\n",
    "print(round(cohen_kappa_score(top5_y_test, top5_lr_y_test_pred),2))"
   ]
  },
  {
   "cell_type": "code",
   "execution_count": 249,
   "id": "1cefacc2-08bc-4aa9-98ff-3325c4abe188",
   "metadata": {},
   "outputs": [
    {
     "data": {
      "image/png": "[encoded data removed]",
      "text/plain": [
       "<Figure size 432x288 with 2 Axes>"
      ]
     },
     "metadata": {
      "needs_background": "light"
     },
     "output_type": "display_data"
    }
   ],
   "source": [
    "top5_cm_train = confusion_matrix(top5_y_train, top5_lr_y_train_pred)\n",
    "disp = ConfusionMatrixDisplay(top5_cm_train,display_labels=top5_lr.classes_);\n",
    "disp.plot()\n",
    "plt.title(\"Top5 Train\")\n",
    "plt.savefig(\"../Slides/Images/Top5Train.png\")"
   ]
  },
  {
   "cell_type": "code",
   "execution_count": 250,
   "id": "19bd9e62-1fa2-4c63-a29e-5f9353138537",
   "metadata": {},
   "outputs": [
    {
     "data": {
      "image/png": "[encoded data removed]",
      "text/plain": [
       "<Figure size 432x288 with 2 Axes>"
      ]
     },
     "metadata": {
      "needs_background": "light"
     },
     "output_type": "display_data"
    }
   ],
   "source": [
    "top5_cm_test = confusion_matrix(top5_y_test, top5_lr_y_test_pred)\n",
    "disp = ConfusionMatrixDisplay(top5_cm_test,display_labels=top5_lr.classes_);\n",
    "disp.plot()\n",
    "plt.title(\"Top5 Test\")\n",
    "plt.savefig(\"../Slides/Images/Top5Test.png\")"
   ]
  }
 ],
 "metadata": {
  "kernelspec": {
   "display_name": "Python 3 (ipykernel)",
   "language": "python",
   "name": "python3"
  },
  "language_info": {
   "codemirror_mode": {
    "name": "ipython",
    "version": 3
   },
   "file_extension": ".py",
   "mimetype": "text/x-python",
   "name": "python",
   "nbconvert_exporter": "python",
   "pygments_lexer": "ipython3",
   "version": "3.9.12"
  }
 },
 "nbformat": 4,
 "nbformat_minor": 5
}
