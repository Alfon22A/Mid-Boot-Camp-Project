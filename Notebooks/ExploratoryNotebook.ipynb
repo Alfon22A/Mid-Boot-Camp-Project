{
 "cells": [
  {
   "cell_type": "code",
   "execution_count": 1,
   "id": "f3729bde-2ed9-46f3-8ff0-701770df2b29",
   "metadata": {},
   "outputs": [],
   "source": [
    "import pandas as pd\n",
    "import numpy as np\n",
    "\n",
    "import seaborn as sns\n",
    "import matplotlib.pyplot as plt\n",
    "%matplotlib inline\n",
    "\n",
    "from sklearn.model_selection import train_test_split"
   ]
  },
  {
   "cell_type": "markdown",
   "id": "43ccc853-c082-474b-a998-fc5150eb373d",
   "metadata": {},
   "source": [
    "Let's explore a bit the dataset"
   ]
  },
  {
   "cell_type": "code",
   "execution_count": 2,
   "id": "34e225d8-f1b5-4fc4-bdbd-7bd8ef3a3009",
   "metadata": {},
   "outputs": [
    {
     "data": {
      "text/html": [
       "<div>\n",
       "<style scoped>\n",
       "    .dataframe tbody tr th:only-of-type {\n",
       "        vertical-align: middle;\n",
       "    }\n",
       "\n",
       "    .dataframe tbody tr th {\n",
       "        vertical-align: top;\n",
       "    }\n",
       "\n",
       "    .dataframe thead th {\n",
       "        text-align: right;\n",
       "    }\n",
       "</style>\n",
       "<table border=\"1\" class=\"dataframe\">\n",
       "  <thead>\n",
       "    <tr style=\"text-align: right;\">\n",
       "      <th></th>\n",
       "      <th>Rank</th>\n",
       "      <th>Player</th>\n",
       "      <th>Age</th>\n",
       "      <th>Tm</th>\n",
       "      <th>First</th>\n",
       "      <th>Pts Won</th>\n",
       "      <th>Pts Max</th>\n",
       "      <th>Share</th>\n",
       "      <th>G</th>\n",
       "      <th>MP</th>\n",
       "      <th>...</th>\n",
       "      <th>TRB</th>\n",
       "      <th>AST</th>\n",
       "      <th>STL</th>\n",
       "      <th>BLK</th>\n",
       "      <th>FG%</th>\n",
       "      <th>3P%</th>\n",
       "      <th>FT%</th>\n",
       "      <th>WS</th>\n",
       "      <th>WS/48</th>\n",
       "      <th>Year</th>\n",
       "    </tr>\n",
       "  </thead>\n",
       "  <tbody>\n",
       "    <tr>\n",
       "      <th>0</th>\n",
       "      <td>1</td>\n",
       "      <td>Nikola Jokić</td>\n",
       "      <td>26</td>\n",
       "      <td>DEN</td>\n",
       "      <td>65.0</td>\n",
       "      <td>875.0</td>\n",
       "      <td>1000</td>\n",
       "      <td>0.875</td>\n",
       "      <td>74</td>\n",
       "      <td>33.5</td>\n",
       "      <td>...</td>\n",
       "      <td>13.8</td>\n",
       "      <td>7.9</td>\n",
       "      <td>1.5</td>\n",
       "      <td>0.9</td>\n",
       "      <td>0.583</td>\n",
       "      <td>0.337</td>\n",
       "      <td>0.810</td>\n",
       "      <td>15.2</td>\n",
       "      <td>0.296</td>\n",
       "      <td>2022</td>\n",
       "    </tr>\n",
       "    <tr>\n",
       "      <th>1</th>\n",
       "      <td>2</td>\n",
       "      <td>Joel Embiid</td>\n",
       "      <td>27</td>\n",
       "      <td>PHI</td>\n",
       "      <td>26.0</td>\n",
       "      <td>706.0</td>\n",
       "      <td>1000</td>\n",
       "      <td>0.706</td>\n",
       "      <td>68</td>\n",
       "      <td>33.8</td>\n",
       "      <td>...</td>\n",
       "      <td>11.7</td>\n",
       "      <td>4.2</td>\n",
       "      <td>1.1</td>\n",
       "      <td>1.5</td>\n",
       "      <td>0.499</td>\n",
       "      <td>0.371</td>\n",
       "      <td>0.814</td>\n",
       "      <td>12.0</td>\n",
       "      <td>0.252</td>\n",
       "      <td>2022</td>\n",
       "    </tr>\n",
       "    <tr>\n",
       "      <th>2</th>\n",
       "      <td>3</td>\n",
       "      <td>Giannis Antetokounmpo</td>\n",
       "      <td>27</td>\n",
       "      <td>MIL</td>\n",
       "      <td>9.0</td>\n",
       "      <td>595.0</td>\n",
       "      <td>1000</td>\n",
       "      <td>0.595</td>\n",
       "      <td>67</td>\n",
       "      <td>32.9</td>\n",
       "      <td>...</td>\n",
       "      <td>11.6</td>\n",
       "      <td>5.8</td>\n",
       "      <td>1.1</td>\n",
       "      <td>1.4</td>\n",
       "      <td>0.553</td>\n",
       "      <td>0.293</td>\n",
       "      <td>0.722</td>\n",
       "      <td>12.9</td>\n",
       "      <td>0.281</td>\n",
       "      <td>2022</td>\n",
       "    </tr>\n",
       "    <tr>\n",
       "      <th>3</th>\n",
       "      <td>4</td>\n",
       "      <td>Devin Booker</td>\n",
       "      <td>25</td>\n",
       "      <td>PHO</td>\n",
       "      <td>0.0</td>\n",
       "      <td>216.0</td>\n",
       "      <td>1000</td>\n",
       "      <td>0.216</td>\n",
       "      <td>68</td>\n",
       "      <td>34.5</td>\n",
       "      <td>...</td>\n",
       "      <td>5.0</td>\n",
       "      <td>4.8</td>\n",
       "      <td>1.1</td>\n",
       "      <td>0.4</td>\n",
       "      <td>0.466</td>\n",
       "      <td>0.383</td>\n",
       "      <td>0.868</td>\n",
       "      <td>7.6</td>\n",
       "      <td>0.156</td>\n",
       "      <td>2022</td>\n",
       "    </tr>\n",
       "    <tr>\n",
       "      <th>4</th>\n",
       "      <td>5</td>\n",
       "      <td>Luka Dončić</td>\n",
       "      <td>22</td>\n",
       "      <td>DAL</td>\n",
       "      <td>0.0</td>\n",
       "      <td>146.0</td>\n",
       "      <td>1000</td>\n",
       "      <td>0.146</td>\n",
       "      <td>65</td>\n",
       "      <td>35.4</td>\n",
       "      <td>...</td>\n",
       "      <td>9.1</td>\n",
       "      <td>8.7</td>\n",
       "      <td>1.2</td>\n",
       "      <td>0.6</td>\n",
       "      <td>0.457</td>\n",
       "      <td>0.353</td>\n",
       "      <td>0.744</td>\n",
       "      <td>7.6</td>\n",
       "      <td>0.159</td>\n",
       "      <td>2022</td>\n",
       "    </tr>\n",
       "  </tbody>\n",
       "</table>\n",
       "<p>5 rows × 21 columns</p>\n",
       "</div>"
      ],
      "text/plain": [
       "  Rank                 Player  Age   Tm  First  Pts Won  Pts Max  Share   G  \\\n",
       "0    1           Nikola Jokić   26  DEN   65.0    875.0     1000  0.875  74   \n",
       "1    2            Joel Embiid   27  PHI   26.0    706.0     1000  0.706  68   \n",
       "2    3  Giannis Antetokounmpo   27  MIL    9.0    595.0     1000  0.595  67   \n",
       "3    4           Devin Booker   25  PHO    0.0    216.0     1000  0.216  68   \n",
       "4    5            Luka Dončić   22  DAL    0.0    146.0     1000  0.146  65   \n",
       "\n",
       "     MP  ...   TRB  AST  STL  BLK    FG%    3P%    FT%    WS  WS/48  Year  \n",
       "0  33.5  ...  13.8  7.9  1.5  0.9  0.583  0.337  0.810  15.2  0.296  2022  \n",
       "1  33.8  ...  11.7  4.2  1.1  1.5  0.499  0.371  0.814  12.0  0.252  2022  \n",
       "2  32.9  ...  11.6  5.8  1.1  1.4  0.553  0.293  0.722  12.9  0.281  2022  \n",
       "3  34.5  ...   5.0  4.8  1.1  0.4  0.466  0.383  0.868   7.6  0.156  2022  \n",
       "4  35.4  ...   9.1  8.7  1.2  0.6  0.457  0.353  0.744   7.6  0.159  2022  \n",
       "\n",
       "[5 rows x 21 columns]"
      ]
     },
     "execution_count": 2,
     "metadata": {},
     "output_type": "execute_result"
    }
   ],
   "source": [
    "mvp_2022 = pd.read_csv(\"../Data/Raw/MVP2022.csv\", header = 1)\n",
    "mvp_2022 = mvp_2022.drop(columns = mvp_2022.columns[-1])\n",
    "mvp_2022[\"Year\"] = 2022\n",
    "mvp_2022.head()"
   ]
  },
  {
   "cell_type": "markdown",
   "id": "76b5dc7e-5e72-4d39-af71-e4b95d3bcc04",
   "metadata": {},
   "source": [
    "Now we will create some code to clean all the datasets, save them individually, and also concatenate them in one to save it as well"
   ]
  },
  {
   "cell_type": "markdown",
   "id": "4485faa0-ab14-4567-b06c-bfc9569b3d22",
   "metadata": {},
   "source": [
    "First we create two empty lists to store keys and values, and an empty dictionary where we will link the previous lists.\n",
    "\n",
    "Then we do a for loop to create key names and extract the datasets."
   ]
  },
  {
   "cell_type": "code",
   "execution_count": 165,
   "id": "32f03aa9-5920-4b8d-bb05-ed2d0065d5a2",
   "metadata": {},
   "outputs": [],
   "source": [
    "df_name = []\n",
    "df_data = []\n",
    "mvps = {}\n",
    "\n",
    "for x in range(10):\n",
    "    df_name.append(\"mvp_\"+str(2013+x))\n",
    "    df_data.append(pd.read_csv(\"../Data/Raw/MVP{}.csv\".format(2013+x), header = 1))"
   ]
  },
  {
   "cell_type": "markdown",
   "id": "6117f1c3-88b4-44a2-a4c3-fde979e8f091",
   "metadata": {},
   "source": [
    "Now we link the keys yo the values, and also do another for loop to clean the data:\n",
    "\n",
    "- Drop a useless column\n",
    "- Create columns with PTS, AST, TRB, STL and BLK per minute, in order to not give the edge to players with high minutes per game.\n",
    "- A column with all stats combined per minute.\n",
    "- Create another column with the year of the MVP to differentiate it with the others once we concatenate them all."
   ]
  },
  {
   "cell_type": "code",
   "execution_count": 167,
   "id": "471c3567-5b79-45c4-939e-46d1eccbfc11",
   "metadata": {},
   "outputs": [],
   "source": [
    "mvps = dict(zip(df_name, df_data))\n",
    "    \n",
    "for key, x in zip(mvps, range(10)):\n",
    "    mvps[key] = mvps[key].drop(columns = mvps[key].columns[-1])\n",
    "    mvps[key][\"PTS/M\"] = mvps[key][\"PTS\"]/mvps[key][\"MP\"]\n",
    "    mvps[key][\"TRB/M\"] = mvps[key][\"TRB\"]/mvps[key][\"MP\"]\n",
    "    mvps[key][\"AST/M\"] = mvps[key][\"AST\"]/mvps[key][\"MP\"]\n",
    "    mvps[key][\"STL/M\"] = mvps[key][\"STL\"]/mvps[key][\"MP\"]\n",
    "    mvps[key][\"BLK/M\"] = mvps[key][\"BLK\"]/mvps[key][\"MP\"]\n",
    "    mvps[key][\"Stats/M\"] = mvps[key][\"PTS/M\"]+mvps[key][\"TRB/M\"]+mvps[key][\"AST/M\"]+mvps[key][\"STL/M\"]+mvps[key][\"BLK/M\"]\n",
    "    mvps[key][\"Year\"] = (2013+x)\n",
    "    mvps[key].to_csv(\"../Data/Cleaned/CleanMVP{}.csv\".format(2013+x))"
   ]
  },
  {
   "cell_type": "markdown",
   "id": "49fa4b4f-3d2a-4506-93aa-ea7eb7ccb133",
   "metadata": {},
   "source": [
    "Now we concatenate all."
   ]
  },
  {
   "cell_type": "code",
   "execution_count": 168,
   "id": "c793ffb9-eec0-46fe-9a39-4d654b7b7b07",
   "metadata": {},
   "outputs": [
    {
     "data": {
      "text/html": [
       "<div>\n",
       "<style scoped>\n",
       "    .dataframe tbody tr th:only-of-type {\n",
       "        vertical-align: middle;\n",
       "    }\n",
       "\n",
       "    .dataframe tbody tr th {\n",
       "        vertical-align: top;\n",
       "    }\n",
       "\n",
       "    .dataframe thead th {\n",
       "        text-align: right;\n",
       "    }\n",
       "</style>\n",
       "<table border=\"1\" class=\"dataframe\">\n",
       "  <thead>\n",
       "    <tr style=\"text-align: right;\">\n",
       "      <th></th>\n",
       "      <th>Rank</th>\n",
       "      <th>Player</th>\n",
       "      <th>Age</th>\n",
       "      <th>Tm</th>\n",
       "      <th>First</th>\n",
       "      <th>Pts Won</th>\n",
       "      <th>Pts Max</th>\n",
       "      <th>Share</th>\n",
       "      <th>G</th>\n",
       "      <th>MP</th>\n",
       "      <th>...</th>\n",
       "      <th>FT%</th>\n",
       "      <th>WS</th>\n",
       "      <th>WS/48</th>\n",
       "      <th>PTS/M</th>\n",
       "      <th>TRB/M</th>\n",
       "      <th>AST/M</th>\n",
       "      <th>STL/M</th>\n",
       "      <th>BLK/M</th>\n",
       "      <th>Stats/M</th>\n",
       "      <th>Year</th>\n",
       "    </tr>\n",
       "  </thead>\n",
       "  <tbody>\n",
       "    <tr>\n",
       "      <th>0</th>\n",
       "      <td>1</td>\n",
       "      <td>LeBron James</td>\n",
       "      <td>28</td>\n",
       "      <td>MIA</td>\n",
       "      <td>120.0</td>\n",
       "      <td>1207.0</td>\n",
       "      <td>1210</td>\n",
       "      <td>0.998</td>\n",
       "      <td>76</td>\n",
       "      <td>37.9</td>\n",
       "      <td>...</td>\n",
       "      <td>0.753</td>\n",
       "      <td>19.3</td>\n",
       "      <td>0.322</td>\n",
       "      <td>0.707124</td>\n",
       "      <td>0.211082</td>\n",
       "      <td>0.192612</td>\n",
       "      <td>0.044855</td>\n",
       "      <td>0.023747</td>\n",
       "      <td>1.179420</td>\n",
       "      <td>2013</td>\n",
       "    </tr>\n",
       "    <tr>\n",
       "      <th>1</th>\n",
       "      <td>2</td>\n",
       "      <td>Kevin Durant</td>\n",
       "      <td>24</td>\n",
       "      <td>OKC</td>\n",
       "      <td>0.0</td>\n",
       "      <td>765.0</td>\n",
       "      <td>1210</td>\n",
       "      <td>0.632</td>\n",
       "      <td>81</td>\n",
       "      <td>38.5</td>\n",
       "      <td>...</td>\n",
       "      <td>0.905</td>\n",
       "      <td>18.9</td>\n",
       "      <td>0.291</td>\n",
       "      <td>0.729870</td>\n",
       "      <td>0.205195</td>\n",
       "      <td>0.119481</td>\n",
       "      <td>0.036364</td>\n",
       "      <td>0.033766</td>\n",
       "      <td>1.124675</td>\n",
       "      <td>2013</td>\n",
       "    </tr>\n",
       "    <tr>\n",
       "      <th>2</th>\n",
       "      <td>3</td>\n",
       "      <td>Carmelo Anthony</td>\n",
       "      <td>28</td>\n",
       "      <td>NYK</td>\n",
       "      <td>1.0</td>\n",
       "      <td>475.0</td>\n",
       "      <td>1210</td>\n",
       "      <td>0.393</td>\n",
       "      <td>67</td>\n",
       "      <td>37.0</td>\n",
       "      <td>...</td>\n",
       "      <td>0.830</td>\n",
       "      <td>9.5</td>\n",
       "      <td>0.184</td>\n",
       "      <td>0.775676</td>\n",
       "      <td>0.186486</td>\n",
       "      <td>0.070270</td>\n",
       "      <td>0.021622</td>\n",
       "      <td>0.013514</td>\n",
       "      <td>1.067568</td>\n",
       "      <td>2013</td>\n",
       "    </tr>\n",
       "    <tr>\n",
       "      <th>3</th>\n",
       "      <td>4</td>\n",
       "      <td>Chris Paul</td>\n",
       "      <td>27</td>\n",
       "      <td>LAC</td>\n",
       "      <td>0.0</td>\n",
       "      <td>289.0</td>\n",
       "      <td>1210</td>\n",
       "      <td>0.239</td>\n",
       "      <td>70</td>\n",
       "      <td>33.4</td>\n",
       "      <td>...</td>\n",
       "      <td>0.885</td>\n",
       "      <td>13.9</td>\n",
       "      <td>0.287</td>\n",
       "      <td>0.505988</td>\n",
       "      <td>0.110778</td>\n",
       "      <td>0.290419</td>\n",
       "      <td>0.071856</td>\n",
       "      <td>0.002994</td>\n",
       "      <td>0.982036</td>\n",
       "      <td>2013</td>\n",
       "    </tr>\n",
       "    <tr>\n",
       "      <th>4</th>\n",
       "      <td>5</td>\n",
       "      <td>Kobe Bryant</td>\n",
       "      <td>34</td>\n",
       "      <td>LAL</td>\n",
       "      <td>0.0</td>\n",
       "      <td>184.0</td>\n",
       "      <td>1210</td>\n",
       "      <td>0.152</td>\n",
       "      <td>78</td>\n",
       "      <td>38.6</td>\n",
       "      <td>...</td>\n",
       "      <td>0.839</td>\n",
       "      <td>10.9</td>\n",
       "      <td>0.174</td>\n",
       "      <td>0.707254</td>\n",
       "      <td>0.145078</td>\n",
       "      <td>0.155440</td>\n",
       "      <td>0.036269</td>\n",
       "      <td>0.007772</td>\n",
       "      <td>1.051813</td>\n",
       "      <td>2013</td>\n",
       "    </tr>\n",
       "  </tbody>\n",
       "</table>\n",
       "<p>5 rows × 27 columns</p>\n",
       "</div>"
      ],
      "text/plain": [
       "  Rank           Player  Age   Tm  First  Pts Won  Pts Max  Share   G    MP  \\\n",
       "0    1     LeBron James   28  MIA  120.0   1207.0     1210  0.998  76  37.9   \n",
       "1    2     Kevin Durant   24  OKC    0.0    765.0     1210  0.632  81  38.5   \n",
       "2    3  Carmelo Anthony   28  NYK    1.0    475.0     1210  0.393  67  37.0   \n",
       "3    4       Chris Paul   27  LAC    0.0    289.0     1210  0.239  70  33.4   \n",
       "4    5      Kobe Bryant   34  LAL    0.0    184.0     1210  0.152  78  38.6   \n",
       "\n",
       "   ...    FT%    WS  WS/48     PTS/M     TRB/M     AST/M     STL/M     BLK/M  \\\n",
       "0  ...  0.753  19.3  0.322  0.707124  0.211082  0.192612  0.044855  0.023747   \n",
       "1  ...  0.905  18.9  0.291  0.729870  0.205195  0.119481  0.036364  0.033766   \n",
       "2  ...  0.830   9.5  0.184  0.775676  0.186486  0.070270  0.021622  0.013514   \n",
       "3  ...  0.885  13.9  0.287  0.505988  0.110778  0.290419  0.071856  0.002994   \n",
       "4  ...  0.839  10.9  0.174  0.707254  0.145078  0.155440  0.036269  0.007772   \n",
       "\n",
       "    Stats/M  Year  \n",
       "0  1.179420  2013  \n",
       "1  1.124675  2013  \n",
       "2  1.067568  2013  \n",
       "3  0.982036  2013  \n",
       "4  1.051813  2013  \n",
       "\n",
       "[5 rows x 27 columns]"
      ]
     },
     "execution_count": 168,
     "metadata": {},
     "output_type": "execute_result"
    }
   ],
   "source": [
    "data = pd.concat(mvps.values(), ignore_index = True)\n",
    "data.shape"
   ]
  },
  {
   "cell_type": "markdown",
   "id": "bc13913f-8538-476e-ac50-8f93b4ba17bf",
   "metadata": {},
   "source": [
    "Fill in some missing values."
   ]
  },
  {
   "cell_type": "code",
   "execution_count": 202,
   "id": "9f83c5be-2706-44d8-82db-026de394952d",
   "metadata": {},
   "outputs": [
    {
     "data": {
      "text/plain": [
       "Rank       0\n",
       "Player     0\n",
       "Age        0\n",
       "Tm         0\n",
       "First      0\n",
       "Pts Won    0\n",
       "Pts Max    0\n",
       "Share      0\n",
       "G          0\n",
       "MP         0\n",
       "PTS        0\n",
       "TRB        0\n",
       "AST        0\n",
       "STL        0\n",
       "BLK        0\n",
       "FG%        0\n",
       "3P%        1\n",
       "FT%        0\n",
       "WS         0\n",
       "WS/48      0\n",
       "PTS/M      0\n",
       "TRB/M      0\n",
       "AST/M      0\n",
       "STL/M      0\n",
       "BLK/M      0\n",
       "Stats/M    0\n",
       "Year       0\n",
       "dtype: int64"
      ]
     },
     "execution_count": 202,
     "metadata": {},
     "output_type": "execute_result"
    }
   ],
   "source": [
    "data.isna().sum()"
   ]
  },
  {
   "cell_type": "code",
   "execution_count": 204,
   "id": "3524405b-a645-4577-b1ae-88fb929b3ae6",
   "metadata": {},
   "outputs": [
    {
     "data": {
      "text/plain": [
       "Rank       0\n",
       "Player     0\n",
       "Age        0\n",
       "Tm         0\n",
       "First      0\n",
       "Pts Won    0\n",
       "Pts Max    0\n",
       "Share      0\n",
       "G          0\n",
       "MP         0\n",
       "PTS        0\n",
       "TRB        0\n",
       "AST        0\n",
       "STL        0\n",
       "BLK        0\n",
       "FG%        0\n",
       "3P%        0\n",
       "FT%        0\n",
       "WS         0\n",
       "WS/48      0\n",
       "PTS/M      0\n",
       "TRB/M      0\n",
       "AST/M      0\n",
       "STL/M      0\n",
       "BLK/M      0\n",
       "Stats/M    0\n",
       "Year       0\n",
       "dtype: int64"
      ]
     },
     "execution_count": 204,
     "metadata": {},
     "output_type": "execute_result"
    }
   ],
   "source": [
    "data = data.fillna(0)\n",
    "data.isna().sum()"
   ]
  },
  {
   "cell_type": "markdown",
   "id": "52cccc60-9830-433a-b839-25e90a487ea0",
   "metadata": {},
   "source": [
    "Clean some values from the Rank column."
   ]
  },
  {
   "cell_type": "code",
   "execution_count": 170,
   "id": "6422963d-6beb-4451-8919-eb4a48868926",
   "metadata": {},
   "outputs": [
    {
     "data": {
      "text/plain": [
       "1      8\n",
       "10T    8\n",
       "3      8\n",
       "4      8\n",
       "5      8\n",
       "6      8\n",
       "2      8\n",
       "7      7\n",
       "12T    7\n",
       "8      6\n",
       "9      6\n",
       "10     4\n",
       "11     4\n",
       "13T    3\n",
       "8      2\n",
       "6      2\n",
       "11T    2\n",
       "12     2\n",
       "9T     2\n",
       "7T     2\n",
       "10     2\n",
       "9      2\n",
       "7      2\n",
       "1      2\n",
       "5      2\n",
       "4      2\n",
       "3      2\n",
       "2      2\n",
       "8T     2\n",
       "17     1\n",
       "14     1\n",
       "15     1\n",
       "13     1\n",
       "11     1\n",
       "12     1\n",
       "16     1\n",
       "Name: Rank, dtype: int64"
      ]
     },
     "execution_count": 170,
     "metadata": {},
     "output_type": "execute_result"
    }
   ],
   "source": [
    "data[\"Rank\"].value_counts()"
   ]
  },
  {
   "cell_type": "code",
   "execution_count": 171,
   "id": "c4df9c77-fa11-475c-9aaa-88358e163f46",
   "metadata": {},
   "outputs": [],
   "source": [
    "data[\"Rank\"] = data[\"Rank\"].replace(\"T\",'',regex=True).astype(int)"
   ]
  },
  {
   "cell_type": "code",
   "execution_count": 172,
   "id": "f865de06-7d1c-4ba3-b215-d514a5a6c174",
   "metadata": {},
   "outputs": [
    {
     "data": {
      "text/plain": [
       "10    14\n",
       "7     11\n",
       "1     10\n",
       "12    10\n",
       "2     10\n",
       "8     10\n",
       "9     10\n",
       "6     10\n",
       "5     10\n",
       "4     10\n",
       "3     10\n",
       "11     7\n",
       "13     4\n",
       "14     1\n",
       "15     1\n",
       "16     1\n",
       "17     1\n",
       "Name: Rank, dtype: int64"
      ]
     },
     "execution_count": 172,
     "metadata": {},
     "output_type": "execute_result"
    }
   ],
   "source": [
    "data[\"Rank\"].value_counts()"
   ]
  },
  {
   "cell_type": "markdown",
   "id": "eb5c0b83-9c3f-4f46-8a59-58d37185aff8",
   "metadata": {},
   "source": [
    "And save the dataset."
   ]
  },
  {
   "cell_type": "code",
   "execution_count": 9,
   "id": "635db720-6126-40f4-9c3c-65a6dce30758",
   "metadata": {},
   "outputs": [],
   "source": [
    "# data.to_csv(\"../Data/Cleaned/CleanMVPs.csv\")"
   ]
  },
  {
   "cell_type": "code",
   "execution_count": 18,
   "id": "4ec1441b-c888-4643-87f9-4af379840afa",
   "metadata": {},
   "outputs": [],
   "source": []
  },
  {
   "cell_type": "code",
   "execution_count": 173,
   "id": "685506aa-ddb4-469b-8035-8698357693d5",
   "metadata": {},
   "outputs": [
    {
     "data": {
      "text/html": [
       "<div>\n",
       "<style scoped>\n",
       "    .dataframe tbody tr th:only-of-type {\n",
       "        vertical-align: middle;\n",
       "    }\n",
       "\n",
       "    .dataframe tbody tr th {\n",
       "        vertical-align: top;\n",
       "    }\n",
       "\n",
       "    .dataframe thead th {\n",
       "        text-align: right;\n",
       "    }\n",
       "</style>\n",
       "<table border=\"1\" class=\"dataframe\">\n",
       "  <thead>\n",
       "    <tr style=\"text-align: right;\">\n",
       "      <th></th>\n",
       "      <th>Rank</th>\n",
       "      <th>Player</th>\n",
       "      <th>Age</th>\n",
       "      <th>Tm</th>\n",
       "      <th>First</th>\n",
       "      <th>Pts Won</th>\n",
       "      <th>Pts Max</th>\n",
       "      <th>Share</th>\n",
       "      <th>G</th>\n",
       "      <th>MP</th>\n",
       "      <th>...</th>\n",
       "      <th>FT%</th>\n",
       "      <th>WS</th>\n",
       "      <th>WS/48</th>\n",
       "      <th>PTS/M</th>\n",
       "      <th>TRB/M</th>\n",
       "      <th>AST/M</th>\n",
       "      <th>STL/M</th>\n",
       "      <th>BLK/M</th>\n",
       "      <th>Stats/M</th>\n",
       "      <th>Year</th>\n",
       "    </tr>\n",
       "  </thead>\n",
       "  <tbody>\n",
       "    <tr>\n",
       "      <th>0</th>\n",
       "      <td>1</td>\n",
       "      <td>LeBron James</td>\n",
       "      <td>28</td>\n",
       "      <td>MIA</td>\n",
       "      <td>120.0</td>\n",
       "      <td>1207.0</td>\n",
       "      <td>1210</td>\n",
       "      <td>0.998</td>\n",
       "      <td>76</td>\n",
       "      <td>37.9</td>\n",
       "      <td>...</td>\n",
       "      <td>0.753</td>\n",
       "      <td>19.3</td>\n",
       "      <td>0.322</td>\n",
       "      <td>0.707124</td>\n",
       "      <td>0.211082</td>\n",
       "      <td>0.192612</td>\n",
       "      <td>0.044855</td>\n",
       "      <td>0.023747</td>\n",
       "      <td>1.179420</td>\n",
       "      <td>2013</td>\n",
       "    </tr>\n",
       "    <tr>\n",
       "      <th>1</th>\n",
       "      <td>2</td>\n",
       "      <td>Kevin Durant</td>\n",
       "      <td>24</td>\n",
       "      <td>OKC</td>\n",
       "      <td>0.0</td>\n",
       "      <td>765.0</td>\n",
       "      <td>1210</td>\n",
       "      <td>0.632</td>\n",
       "      <td>81</td>\n",
       "      <td>38.5</td>\n",
       "      <td>...</td>\n",
       "      <td>0.905</td>\n",
       "      <td>18.9</td>\n",
       "      <td>0.291</td>\n",
       "      <td>0.729870</td>\n",
       "      <td>0.205195</td>\n",
       "      <td>0.119481</td>\n",
       "      <td>0.036364</td>\n",
       "      <td>0.033766</td>\n",
       "      <td>1.124675</td>\n",
       "      <td>2013</td>\n",
       "    </tr>\n",
       "    <tr>\n",
       "      <th>2</th>\n",
       "      <td>3</td>\n",
       "      <td>Carmelo Anthony</td>\n",
       "      <td>28</td>\n",
       "      <td>NYK</td>\n",
       "      <td>1.0</td>\n",
       "      <td>475.0</td>\n",
       "      <td>1210</td>\n",
       "      <td>0.393</td>\n",
       "      <td>67</td>\n",
       "      <td>37.0</td>\n",
       "      <td>...</td>\n",
       "      <td>0.830</td>\n",
       "      <td>9.5</td>\n",
       "      <td>0.184</td>\n",
       "      <td>0.775676</td>\n",
       "      <td>0.186486</td>\n",
       "      <td>0.070270</td>\n",
       "      <td>0.021622</td>\n",
       "      <td>0.013514</td>\n",
       "      <td>1.067568</td>\n",
       "      <td>2013</td>\n",
       "    </tr>\n",
       "    <tr>\n",
       "      <th>3</th>\n",
       "      <td>4</td>\n",
       "      <td>Chris Paul</td>\n",
       "      <td>27</td>\n",
       "      <td>LAC</td>\n",
       "      <td>0.0</td>\n",
       "      <td>289.0</td>\n",
       "      <td>1210</td>\n",
       "      <td>0.239</td>\n",
       "      <td>70</td>\n",
       "      <td>33.4</td>\n",
       "      <td>...</td>\n",
       "      <td>0.885</td>\n",
       "      <td>13.9</td>\n",
       "      <td>0.287</td>\n",
       "      <td>0.505988</td>\n",
       "      <td>0.110778</td>\n",
       "      <td>0.290419</td>\n",
       "      <td>0.071856</td>\n",
       "      <td>0.002994</td>\n",
       "      <td>0.982036</td>\n",
       "      <td>2013</td>\n",
       "    </tr>\n",
       "    <tr>\n",
       "      <th>4</th>\n",
       "      <td>5</td>\n",
       "      <td>Kobe Bryant</td>\n",
       "      <td>34</td>\n",
       "      <td>LAL</td>\n",
       "      <td>0.0</td>\n",
       "      <td>184.0</td>\n",
       "      <td>1210</td>\n",
       "      <td>0.152</td>\n",
       "      <td>78</td>\n",
       "      <td>38.6</td>\n",
       "      <td>...</td>\n",
       "      <td>0.839</td>\n",
       "      <td>10.9</td>\n",
       "      <td>0.174</td>\n",
       "      <td>0.707254</td>\n",
       "      <td>0.145078</td>\n",
       "      <td>0.155440</td>\n",
       "      <td>0.036269</td>\n",
       "      <td>0.007772</td>\n",
       "      <td>1.051813</td>\n",
       "      <td>2013</td>\n",
       "    </tr>\n",
       "  </tbody>\n",
       "</table>\n",
       "<p>5 rows × 27 columns</p>\n",
       "</div>"
      ],
      "text/plain": [
       "   Rank           Player  Age   Tm  First  Pts Won  Pts Max  Share   G    MP  \\\n",
       "0     1     LeBron James   28  MIA  120.0   1207.0     1210  0.998  76  37.9   \n",
       "1     2     Kevin Durant   24  OKC    0.0    765.0     1210  0.632  81  38.5   \n",
       "2     3  Carmelo Anthony   28  NYK    1.0    475.0     1210  0.393  67  37.0   \n",
       "3     4       Chris Paul   27  LAC    0.0    289.0     1210  0.239  70  33.4   \n",
       "4     5      Kobe Bryant   34  LAL    0.0    184.0     1210  0.152  78  38.6   \n",
       "\n",
       "   ...    FT%    WS  WS/48     PTS/M     TRB/M     AST/M     STL/M     BLK/M  \\\n",
       "0  ...  0.753  19.3  0.322  0.707124  0.211082  0.192612  0.044855  0.023747   \n",
       "1  ...  0.905  18.9  0.291  0.729870  0.205195  0.119481  0.036364  0.033766   \n",
       "2  ...  0.830   9.5  0.184  0.775676  0.186486  0.070270  0.021622  0.013514   \n",
       "3  ...  0.885  13.9  0.287  0.505988  0.110778  0.290419  0.071856  0.002994   \n",
       "4  ...  0.839  10.9  0.174  0.707254  0.145078  0.155440  0.036269  0.007772   \n",
       "\n",
       "    Stats/M  Year  \n",
       "0  1.179420  2013  \n",
       "1  1.124675  2013  \n",
       "2  1.067568  2013  \n",
       "3  0.982036  2013  \n",
       "4  1.051813  2013  \n",
       "\n",
       "[5 rows x 27 columns]"
      ]
     },
     "execution_count": 173,
     "metadata": {},
     "output_type": "execute_result"
    }
   ],
   "source": [
    "data.head()"
   ]
  },
  {
   "cell_type": "markdown",
   "id": "4462229d-7ab0-418f-845a-d0a0775edbb7",
   "metadata": {},
   "source": [
    "Now we are going to split the dataset into two, one to predict Rank and another to predict Share, we are going to also drop Player, Tm, First, Pts Won, Pts Max and Year, as this are columns that are either not useful or directly correlated to the MVP."
   ]
  },
  {
   "cell_type": "code",
   "execution_count": 216,
   "id": "f93219b8-c4a3-4217-ae60-d693896d2b19",
   "metadata": {},
   "outputs": [],
   "source": [
    "data_rank = data.drop(columns = [\"Player\", \"Tm\", \"Share\", \"First\", \"Pts Won\", \"Pts Max\", \"Year\"])\n",
    "data_share = data.drop(columns = [\"Player\", \"Tm\", \"Rank\", \"First\", \"Pts Won\", \"Pts Max\", \"Year\"])"
   ]
  },
  {
   "cell_type": "markdown",
   "id": "0598e5c2-a885-46df-9718-85bd60f82e97",
   "metadata": {},
   "source": [
    "Now we define a function to get rid of all the columns that don't reach a threshold of correlation with our target column."
   ]
  },
  {
   "cell_type": "code",
   "execution_count": 196,
   "id": "23073631-82cf-4cc1-8cb8-66fbcbe53cb6",
   "metadata": {},
   "outputs": [],
   "source": [
    "def correlation(df, target = -1, threshold=0.75):\n",
    "    df2 = df.copy()\n",
    "    corr_matrix = df2.corr().abs()\n",
    "    for i in range(len(corr_matrix.columns)):\n",
    "        if (corr_matrix.iloc[i,target] < threshold):\n",
    "            df2 = df2.drop(columns = corr_matrix.columns[i])\n",
    "    display(sns.heatmap(df2.corr(), annot=True))\n",
    "    return df2"
   ]
  },
  {
   "cell_type": "code",
   "execution_count": 217,
   "id": "02690fb8-618d-41a9-bae2-e32d451cbb7e",
   "metadata": {},
   "outputs": [
    {
     "data": {
      "text/plain": [
       "<AxesSubplot:>"
      ]
     },
     "metadata": {},
     "output_type": "display_data"
    },
    {
     "data": {
      "image/png": "[encoded data removed]",
      "text/plain": [
       "<Figure size 432x288 with 2 Axes>"
      ]
     },
     "metadata": {
      "needs_background": "light"
     },
     "output_type": "display_data"
    }
   ],
   "source": [
    "data_rank = correlation(data_rank,0,0.5)"
   ]
  },
  {
   "cell_type": "code",
   "execution_count": 218,
   "id": "0e663c75-93a9-478e-9845-ab5868b5e1cd",
   "metadata": {},
   "outputs": [
    {
     "data": {
      "text/plain": [
       "<AxesSubplot:>"
      ]
     },
     "metadata": {},
     "output_type": "display_data"
    },
    {
     "data": {
      "image/png": "[encoded data removed]",
      "text/plain": [
       "<Figure size 432x288 with 2 Axes>"
      ]
     },
     "metadata": {
      "needs_background": "light"
     },
     "output_type": "display_data"
    }
   ],
   "source": [
    "data_share = correlation(data_share,1,0.5)"
   ]
  },
  {
   "cell_type": "markdown",
   "id": "a97b4eff-339e-4fc9-b118-34e74b45fed9",
   "metadata": {},
   "source": [
    "Well, we are left with very few columns, and the ones we have are highly related to each other in some cases: WS with WS/48, PTS and PTS/M, and PTS/M with Stats/M, which was expected.\n",
    "\n",
    "We are going to drop WS/48 in both datasets, as well as PTS and PTS/M for the Rank dataset based on multicollinearity."
   ]
  },
  {
   "cell_type": "code",
   "execution_count": 220,
   "id": "465e6637-70b4-425a-b75d-8fef594e177d",
   "metadata": {
    "tags": []
   },
   "outputs": [],
   "source": [
    "data_rank = data_rank.drop(columns = [\"WS/48\", \"PTS\", \"PTS/M\"])\n",
    "data_share = data_share.drop(columns = \"WS/48\")"
   ]
  },
  {
   "cell_type": "markdown",
   "id": "e5757f0b-f578-4ef1-8119-53b0f0191b16",
   "metadata": {},
   "source": [
    "Now we can do our X/y splits"
   ]
  },
  {
   "cell_type": "code",
   "execution_count": 221,
   "id": "d219f500-2bae-4480-92ad-6a91f588b775",
   "metadata": {},
   "outputs": [],
   "source": [
    "rank_X = data_rank.drop(columns = \"Rank\")\n",
    "rank_y = data_rank[\"Rank\"]\n",
    "share_X = data_share.drop(columns = \"Share\")\n",
    "share_y = data_share[\"Share\"]"
   ]
  },
  {
   "cell_type": "markdown",
   "id": "b2fa1dc1-fd28-4602-b46a-fe98ac51e113",
   "metadata": {},
   "source": [
    "And the Train/Test splits"
   ]
  },
  {
   "cell_type": "code",
   "execution_count": 224,
   "id": "4907b3f3-8510-4755-a0cb-761cd0e0a846",
   "metadata": {},
   "outputs": [],
   "source": [
    "rank_X_train, rank_X_test, rank_y_train, rank_y_test = train_test_split(rank_X, rank_y, test_size = 0.22, random_state = 22)\n",
    "share_X_train, share_X_test, share_y_train, share_y_test = train_test_split(share_X, share_y, test_size = 0.22, random_state = 22)"
   ]
  }
 ],
 "metadata": {
  "kernelspec": {
   "display_name": "Python 3 (ipykernel)",
   "language": "python",
   "name": "python3"
  },
  "language_info": {
   "codemirror_mode": {
    "name": "ipython",
    "version": 3
   },
   "file_extension": ".py",
   "mimetype": "text/x-python",
   "name": "python",
   "nbconvert_exporter": "python",
   "pygments_lexer": "ipython3",
   "version": "3.9.12"
  }
 },
 "nbformat": 4,
 "nbformat_minor": 5
}
