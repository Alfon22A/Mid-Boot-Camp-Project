{
 "cells": [
  {
   "cell_type": "markdown",
   "id": "f5ca50fd-f253-4d15-ad01-e5a75950d6a3",
   "metadata": {},
   "source": [
    "# Libraries"
   ]
  },
  {
   "cell_type": "code",
   "execution_count": 10,
   "id": "6495458e-04ce-4620-ae8d-4056eb10527b",
   "metadata": {},
   "outputs": [],
   "source": [
    "import pandas as pd\n",
    "import numpy as np\n",
    "import sys\n",
    "\n",
    "import pickle\n",
    "\n",
    "import seaborn as sns\n",
    "import matplotlib.pyplot as plt\n",
    "%matplotlib inline\n",
    "\n",
    "from sklearn.model_selection import train_test_split\n",
    "from sklearn.preprocessing import MinMaxScaler, PowerTransformer\n",
    "from sklearn.linear_model import LinearRegression, LogisticRegression\n",
    "from sklearn.metrics import r2_score, confusion_matrix, ConfusionMatrixDisplay, cohen_kappa_score"
   ]
  },
  {
   "cell_type": "code",
   "execution_count": 14,
   "id": "02727ff4-b7d8-4110-b259-aac5aed933a0",
   "metadata": {},
   "outputs": [],
   "source": [
    "sys.path.append(\"../Src/Lib\")\n",
    "\n",
    "import functions"
   ]
  },
  {
   "cell_type": "markdown",
   "id": "9dccfdb9-f6ac-4e80-a8bf-c5d4188af1c1",
   "metadata": {},
   "source": [
    "# Data Preprocessing"
   ]
  },
  {
   "cell_type": "markdown",
   "id": "3b1164bd-04f4-4de2-99bb-f732c9289139",
   "metadata": {
    "jp-MarkdownHeadingCollapsed": true,
    "tags": []
   },
   "source": [
    "## Importing\n",
    "\n",
    "We have data spread across several CSV files, so we create a For Loop to iterate through each Dataset and import it to the Notebook.\n",
    "\n",
    "To do this, we create two empty Lists: one where we will append the names for the Datasets, and another with the data.\n",
    "\n",
    "Finally, we combine these names and data together in a Dictionary of Dataframes."
   ]
  },
  {
   "cell_type": "code",
   "execution_count": null,
   "id": "638a2c52-9f63-4dbd-836e-bd864f1dd561",
   "metadata": {},
   "outputs": [],
   "source": [
    "mvps_names = []\n",
    "mvps_data = []\n",
    "\n",
    "for x in range(23):\n",
    "    mvps_names.append(\"mvp_\"+str(2000+x))\n",
    "    mvps_data.append(pd.read_csv(\"../Data/Raw/MVP{}.csv\".format(2000+x), header = 1))\n",
    "    \n",
    "mvp_dfs = dict(zip(mvps_names, mvps_data))"
   ]
  },
  {
   "cell_type": "markdown",
   "id": "ee74119f-6758-4d8b-aa12-6cc4408cefdc",
   "metadata": {},
   "source": [
    "## Cleaning\n",
    "\n",
    "Now that we have the data loaded, it is time to clean it. Thankfully, our data comes already quite clean, we only need to:\n",
    "\n",
    "- Drop a useless column\n",
    "- Create columns with PTS, AST, TRB, STL and BLK per minute, in order to not give the edge to players with higher minutes per game.\n",
    "- A column with all stats combined per minute.\n",
    "- Create another column with the year of the MVP to differentiate it with the others once we concatenate them all.\n",
    "- Clean some values from the Rank column.\n",
    "- Fill in some missing values.\n",
    "\n",
    "This is done with another For Loop, we could pospone some of the cleaning and do it once we concatenate all the Datasets together, but since we need to add a ```Year``` column, may as well do the rest of the cleaning at the same time.\n",
    "\n",
    "We will also save the cleaned Datasets, both the individual years and the concatenated one for later use in Tableau and modeling."
   ]
  },
  {
   "cell_type": "code",
   "execution_count": null,
   "id": "299d726b-e2a4-4134-afdb-b0080c023fa4",
   "metadata": {},
   "outputs": [],
   "source": [
    "for key, x in zip(mvps, range(23)):\n",
    "    mvp_dfs[key] = mvp_dfs[key].drop(columns = mvp_dfs[key].columns[-1])\n",
    "    mvp_dfs[key][\"PTS/M\"] = mvp_dfs[key][\"PTS\"]/mvp_dfs[key][\"MP\"]\n",
    "    mvp_dfs[key][\"TRB/M\"] = mvp_dfs[key][\"TRB\"]/mvp_dfs[key][\"MP\"]\n",
    "    mvp_dfs[key][\"AST/M\"] = mvp_dfs[key][\"AST\"]/mvp_dfs[key][\"MP\"]\n",
    "    mvp_dfs[key][\"STL/M\"] = mvp_dfs[key][\"STL\"]/mvp_dfs[key][\"MP\"]\n",
    "    mvp_dfs[key][\"BLK/M\"] = mvp_dfs[key][\"BLK\"]/mvp_dfs[key][\"MP\"]\n",
    "    mvp_dfs[key][\"Stats/M\"] = mvp_dfs[key][\"PTS/M\"]+mvp_dfs[key][\"TRB/M\"]+mvp_dfs[key][\"AST/M\"]+mvp_dfs[key][\"STL/M\"]+mvp_dfs[key][\"BLK/M\"]\n",
    "    mvp_dfs[key][\"Year\"] = (2000+x)\n",
    "    mvp_dfs[key] = mvp_dfs[key].fillna(0)\n",
    "    mvp_dfs[key][\"Rank\"] = mvp_dfs[key][\"Rank\"].replace(\"T\",'',regex=True).astype(int)\n",
    "    mvp_dfs[key].to_csv(\"../Data/Cleaned/CleanMVP{}.csv\".format(2000+x), index = False)"
   ]
  },
  {
   "cell_type": "code",
   "execution_count": null,
   "id": "38316bb0-787d-49a6-96a3-bd6c06eb1c2a",
   "metadata": {},
   "outputs": [],
   "source": [
    "mvps = pd.concat(mvp_dfs.values(), ignore_index = True)\n",
    "mvps.shape"
   ]
  },
  {
   "cell_type": "code",
   "execution_count": null,
   "id": "ace9b02e-af1d-4d22-8b4d-394acabd4650",
   "metadata": {},
   "outputs": [],
   "source": [
    "mvps.to_csv(\"../Data/Cleaned/CleanMVPs.csv\", index = False)"
   ]
  },
  {
   "cell_type": "markdown",
   "id": "87ad15ed-39d4-4bb3-95d5-0be9fc3c2426",
   "metadata": {},
   "source": [
    "# Data Processing\n",
    "\n",
    "For the rest of the Notebook, we are going to drop ```Player```, ```Tm```, ```First```, ```Pts Won```, ```Pts Max``` and ```Year```, as this are columns that are either not useful or directly correlated to the MVP."
   ]
  },
  {
   "cell_type": "code",
   "execution_count": null,
   "id": "da470fb6-2d0b-4563-86a8-f57bba52edb1",
   "metadata": {},
   "outputs": [],
   "source": [
    "mvps = mvps.drop(columns = [[\"Player\", \"Tm\", \"First\", \"Pts Won\", \"Pts Max\", \"Year\"]])"
   ]
  },
  {
   "cell_type": "markdown",
   "id": "f8e8c687-4f9d-4993-b55a-468accaf41f5",
   "metadata": {
    "tags": []
   },
   "source": [
    "## First Model\n",
    "\n",
    "- Linear Regression\n",
    "- Target: Rank\n",
    "\n",
    "We drop the column ```Shares``` as this column is only available once the MVP is awarded."
   ]
  },
  {
   "cell_type": "code",
   "execution_count": null,
   "id": "373cc9dd-5fca-4a3c-9888-6242b8b4e441",
   "metadata": {},
   "outputs": [],
   "source": [
    "mvps_rank = mvps.drop(columns = \"Shares\")"
   ]
  },
  {
   "cell_type": "markdown",
   "id": "1a251d26-a19d-40cb-87a9-e5f6246b8c85",
   "metadata": {},
   "source": [
    "Now we call a custom function that drops columns based on the correlation towards our target column, in this case ```Rank```."
   ]
  },
  {
   "cell_type": "code",
   "execution_count": null,
   "id": "d35354b4-2a73-4c1b-ad5a-cd2ca914595a",
   "metadata": {},
   "outputs": [],
   "source": [
    "functions.correlation(mvps_rank)"
   ]
  },
  {
   "cell_type": "markdown",
   "id": "102fcaba-a112-4cff-852a-513973d9d39f",
   "metadata": {},
   "source": [
    "Well, we are left with very few columns, and the ones we have are highly related to each other in some cases: WS with WS/48, PTS and PTS/M, and PTS/M with Stats/M, which was expected.\n",
    "\n",
    "We are going to drop WS rather than WS/48, as this last one is more fair for players that played less games due to lockouts, as well as PTS and PTS/M based on multicollinearity."
   ]
  },
  {
   "cell_type": "code",
   "execution_count": null,
   "id": "f8ed6aa4-6808-4aab-8f5e-67ca9ed0063b",
   "metadata": {},
   "outputs": [],
   "source": [
    "mvps_rank = mvps_rank.drop(columns = [\"WS\", \"PTS\", \"PTS/M\"])"
   ]
  },
  {
   "cell_type": "markdown",
   "id": "7726475c-00eb-4960-b44e-17ce1528f195",
   "metadata": {},
   "source": [
    "### X/y Split"
   ]
  },
  {
   "cell_type": "code",
   "execution_count": null,
   "id": "af6b4f01-45a3-4a54-8ea3-90a529f7fd85",
   "metadata": {},
   "outputs": [],
   "source": [
    "rank_X = mvps_rank.drop(columns = \"Rank\")\n",
    "rank_y = mvps_rank[\"Rank\"]"
   ]
  },
  {
   "cell_type": "markdown",
   "id": "54e6f97b-982a-432a-8bfa-305d0a6655a8",
   "metadata": {},
   "source": [
    "### Train/Test Split"
   ]
  },
  {
   "cell_type": "code",
   "execution_count": null,
   "id": "8c03eff5-4553-4b3c-a57b-f80b14318dc2",
   "metadata": {},
   "outputs": [],
   "source": [
    "rank_X_train, rank_X_test, rank_y_train, rank_y_test = train_test_split(rank_X, rank_y, test_size = 0.22, random_state = 22)"
   ]
  },
  {
   "cell_type": "markdown",
   "id": "3b511ef8-c5c2-4b82-b156-8cc210de496b",
   "metadata": {},
   "source": [
    "### Transformer"
   ]
  },
  {
   "cell_type": "code",
   "execution_count": null,
   "id": "95b141c9-5929-4eeb-b38c-beac5813f6eb",
   "metadata": {},
   "outputs": [],
   "source": [
    "functions.plot_maker(rank_X_train)"
   ]
  },
  {
   "cell_type": "code",
   "execution_count": null,
   "id": "8f0fb523-0386-4380-93ba-aa9a69cb7b73",
   "metadata": {},
   "outputs": [],
   "source": [
    "rank_pt = PowerTransformer().fit(rank_X_train)\n",
    "\n",
    "with open(\"../Transformers/rank_pt.pkl\", \"wb\") as file:\n",
    "    pickle.dump(rank_pt, file)\n",
    "\n",
    "rank_X_train_pt = rank_pt.transform(rank_X_train)\n",
    "rank_X_train_pt = pd.DataFrame(rank_X_train_pt, columns = rank_X_train.columns, index = rank_X_train.index)\n",
    "\n",
    "rank_X_test_pt = rank_pt.transform(rank_X_test)\n",
    "rank_X_test_pt = pd.DataFrame(rank_X_test_pt, columns = rank_X_test.columns, index = rank_X_test.index)"
   ]
  },
  {
   "cell_type": "markdown",
   "id": "845a8d5e-6991-486c-8e74-4810c1e3ff88",
   "metadata": {},
   "source": [
    "### Scaler"
   ]
  },
  {
   "cell_type": "code",
   "execution_count": null,
   "id": "068ed2f9-e20c-47c2-bb73-4facee8617ff",
   "metadata": {},
   "outputs": [],
   "source": [
    "rank_scaler = MinMaxScaler().fit(rank_X_train_pt)\n",
    "\n",
    "with open(\"../Scalers/rank_scaler.pkl\", \"wb\") as file:\n",
    "    pickle.dump(rank_scaler, file)\n",
    "\n",
    "rank_X_train_pt_mm = rank_scaler.transform(rank_X_train_pt)\n",
    "rank_X_train_pt_mm = pd.DataFrame(rank_X_train_pt_mm, columns = rank_X_train_pt.columns, index = rank_X_train_pt.index)\n",
    "\n",
    "rank_X_test_pt_mm = rank_scaler.transform(rank_X_test_pt)\n",
    "rank_X_test_pt_mm = pd.DataFrame(rank_X_test_pt_mm, columns = rank_X_test_pt.columns, index = rank_X_test_pt.index)"
   ]
  },
  {
   "cell_type": "markdown",
   "id": "d0b9f16a-a09f-472d-a9bc-ebb96a29fb52",
   "metadata": {},
   "source": [
    "### Model"
   ]
  },
  {
   "cell_type": "code",
   "execution_count": null,
   "id": "d61d29b1-f3a3-49a9-9b43-a9deab48f53a",
   "metadata": {},
   "outputs": [],
   "source": [
    "rank_lr = LinearRegression().fit(rank_X_train_pt_mm, rank_y_train)\n",
    "\n",
    "with open(\"../Models/rank_lr.pkl\",\"wb\") as file:\n",
    "    pickle.dump(rank_lr, file)"
   ]
  },
  {
   "cell_type": "markdown",
   "id": "6b856542-eeab-4a08-9dcc-165b9d720c9f",
   "metadata": {},
   "source": [
    "### Validation"
   ]
  },
  {
   "cell_type": "code",
   "execution_count": null,
   "id": "23c59632-b449-4ff4-bce9-afb06c03aca6",
   "metadata": {},
   "outputs": [],
   "source": [
    "rank_train_y_pred = rank_lr.predict(rank_X_train_pt_mm)\n",
    "rank_test_y_pred = rank_lr.predict(rank_X_test_pt_mm)\n",
    "\n",
    "print(\"Train score is {.2f}\".format(r2_score(rank_y_train, rank_train_y_pred),2))\n",
    "print(\"Test score is {.2f}\".format(r2_score(rank_y_test, rank_test_y_pred),2))"
   ]
  },
  {
   "cell_type": "markdown",
   "id": "13d292d1-1924-4175-9bf2-c2603865036a",
   "metadata": {},
   "source": [
    "### Visualization"
   ]
  },
  {
   "cell_type": "code",
   "execution_count": null,
   "id": "9f26e394-78c1-4823-93a2-6ebb54c36f58",
   "metadata": {},
   "outputs": [],
   "source": [
    "sns.regplot(x = rank_y_train, y = rank_train_y_pred).set(title='Rank Train')\n",
    "plt.xlabel(\"Real Rank\")\n",
    "plt.ylabel(\"Predicted Rank\")\n",
    "plt.savefig(\"../Slides/Images/RankTrain.png\") "
   ]
  },
  {
   "cell_type": "code",
   "execution_count": null,
   "id": "d632fa46-e639-4c7c-b88a-cf7d25c2ffd4",
   "metadata": {},
   "outputs": [],
   "source": [
    "sns.regplot(x = rank_y_test, y = rank_test_y_pred).set(title='Rank Test')\n",
    "plt.xlabel(\"Real Rank\")\n",
    "plt.ylabel(\"Predicted Rank\")\n",
    "plt.savefig(\"../Slides/Images/RankTest.png\") "
   ]
  },
  {
   "cell_type": "markdown",
   "id": "1729bae1-e9c4-48a8-ac13-781be63f8449",
   "metadata": {},
   "source": [
    "## Second model:\n",
    "\n",
    "- Linear Regression\n",
    "- Target = Share\n",
    "\n",
    "In this case we drop the column ```Rank``` as, like before, it is only known when the MVP is awarded."
   ]
  },
  {
   "cell_type": "code",
   "execution_count": null,
   "id": "29423c49-61ff-4392-8bbc-284c86320ebb",
   "metadata": {},
   "outputs": [],
   "source": [
    "mvps_share = mvps.drop(columns = \"Rank\")"
   ]
  },
  {
   "cell_type": "code",
   "execution_count": null,
   "id": "7ae8f71a-7959-46eb-a927-54dd5f91cd53",
   "metadata": {
    "tags": []
   },
   "outputs": [],
   "source": [
    "functions.correlation(mvps_share)"
   ]
  },
  {
   "cell_type": "code",
   "execution_count": null,
   "id": "46074e15-e13d-4801-a913-ad6b2dde28f9",
   "metadata": {},
   "outputs": [],
   "source": [
    "mvps_share = mvps_share.drop(columns = [\"WS\", \"PTS\", \"PTS/M\"])"
   ]
  },
  {
   "cell_type": "markdown",
   "id": "3386f8f1-b056-49ef-96cf-b350a9e9e1d8",
   "metadata": {},
   "source": [
    "### X/y Split"
   ]
  },
  {
   "cell_type": "code",
   "execution_count": null,
   "id": "ef57bfab-525e-44a4-a0b9-766190ac8493",
   "metadata": {},
   "outputs": [],
   "source": [
    "share_X = mvps_share.drop(columns = \"Share\")\n",
    "share_y = mvps_share[\"Share\"]"
   ]
  },
  {
   "cell_type": "markdown",
   "id": "dc5fddc4-8bdb-48db-b29e-96afc4db6abb",
   "metadata": {},
   "source": [
    "### Train/Test Split"
   ]
  },
  {
   "cell_type": "code",
   "execution_count": null,
   "id": "aaa8224f-168b-40f6-9e60-fdc7e1034809",
   "metadata": {},
   "outputs": [],
   "source": [
    "share_X_train, share_X_test, share_y_train, share_y_test = train_test_split(share_X, share_y, test_size = 0.22, random_state = 22)"
   ]
  },
  {
   "cell_type": "markdown",
   "id": "0277b168-1723-4001-8c3b-479ceb8c91e7",
   "metadata": {},
   "source": [
    "### Transformer"
   ]
  },
  {
   "cell_type": "code",
   "execution_count": null,
   "id": "a2fd235e-e1fa-4834-aee1-3d81b955769b",
   "metadata": {},
   "outputs": [],
   "source": [
    "share_pt = PowerTransformer().fit(share_X_train)\n",
    "\n",
    "with open(\"../Transformers/share_pt.pkl\", \"wb\") as file:\n",
    "    pickle.dump(share_pt, file)\n",
    "\n",
    "share_X_train_pt = share_pt.transform(share_X_train)\n",
    "share_X_train_pt = pd.DataFrame(share_X_train_pt, columns = share_X_train.columns, index = share_X_train.index)\n",
    "\n",
    "share_X_test_pt = share_pt.transform(share_X_test)\n",
    "share_X_test_pt = pd.DataFrame(share_X_test_pt, columns = share_X_test.columns, index = share_X_test.index)"
   ]
  },
  {
   "cell_type": "markdown",
   "id": "cb894c7e-8c8e-4e4c-a8cf-b4dbc99f08e4",
   "metadata": {},
   "source": [
    "### Scaler"
   ]
  },
  {
   "cell_type": "code",
   "execution_count": null,
   "id": "50a736b1-f99a-4ea9-87de-201ec76e51c5",
   "metadata": {},
   "outputs": [],
   "source": [
    "share_scaler = MinMaxScaler().fit(share_X_train_pt)\n",
    "\n",
    "with open(\"../Scalers/share_scaler.pkl\", \"wb\") as file:\n",
    "    pickle.dump(share_scaler, file)\n",
    "\n",
    "share_X_train_pt_mm = share_scaler.transform(share_X_train_pt)\n",
    "share_X_train_pt_mm = pd.DataFrame(share_X_train_pt_mm, columns = share_X_train_pt.columns, index = share_X_train_pt.index)\n",
    "\n",
    "share_X_test_pt_mm = share_scaler.transform(share_X_test_pt)\n",
    "share_X_test_pt_mm = pd.DataFrame(share_X_test_pt_mm, columns = share_X_test_pt.columns, index = share_X_test_pt.index)"
   ]
  },
  {
   "cell_type": "markdown",
   "id": "704eea60-494f-49cc-868a-07a7987f8825",
   "metadata": {},
   "source": [
    "### Model"
   ]
  },
  {
   "cell_type": "code",
   "execution_count": null,
   "id": "1df6fac0-68d7-4cd5-9868-5ab6a2e7b4f6",
   "metadata": {},
   "outputs": [],
   "source": [
    "share_lr = LinearRegression().fit(share_X_train_pt_mm, share_y_train)\n",
    "\n",
    "with open(\"../Models/share_lr.pkl\", \"wb\") as file:\n",
    "    pickle.dump(share_lr, file)"
   ]
  },
  {
   "cell_type": "markdown",
   "id": "1b76997c-45db-4e12-aca9-fdd613d88731",
   "metadata": {},
   "source": [
    "### Validation"
   ]
  },
  {
   "cell_type": "code",
   "execution_count": null,
   "id": "8d3a9f39-95c1-4d05-8e5d-d3be1b54676c",
   "metadata": {},
   "outputs": [],
   "source": [
    "share_train_y_pred = share_lr.predict(share_X_train_pt_mm)\n",
    "share_test_y_pred = share_lr.predict(share_X_test_pt_mm)\n",
    "\n",
    "print(\"Train score is {.2f}\".format(r2_score(share_y_train, share_train_y_pred),2))\n",
    "print(\"Test score is {.2f}\".format(r2_score(share_y_test, share_test_y_pred),2))"
   ]
  },
  {
   "cell_type": "markdown",
   "id": "0621239e-a789-448e-a156-43dc17c1fd81",
   "metadata": {},
   "source": [
    "### Visualization"
   ]
  },
  {
   "cell_type": "code",
   "execution_count": null,
   "id": "96dbc88c-2b23-49df-a368-1634ff59435d",
   "metadata": {},
   "outputs": [],
   "source": [
    "sns.regplot(x = share_y_train, y = share_train_y_pred).set(title=\"Share Train\")\n",
    "plt.xlabel(\"Real Share\")\n",
    "plt.ylabel(\"Predicted Share\")\n",
    "plt.savefig(\"../Slides/Images/ShareTrain.png\") "
   ]
  },
  {
   "cell_type": "code",
   "execution_count": null,
   "id": "892caa4f-94ab-47c3-91c8-fcb7b1c4f710",
   "metadata": {},
   "outputs": [],
   "source": [
    "sns.regplot(x = share_y_test, y = share_test_y_pred).set(title=\"Share Test\")\n",
    "plt.xlabel(\"Real Share\")\n",
    "plt.ylabel(\"Predicted Share\")\n",
    "plt.savefig(\"../Slides/Images/ShareTest.png\") "
   ]
  }
 ],
 "metadata": {
  "kernelspec": {
   "display_name": "Python 3 (ipykernel)",
   "language": "python",
   "name": "python3"
  },
  "language_info": {
   "codemirror_mode": {
    "name": "ipython",
    "version": 3
   },
   "file_extension": ".py",
   "mimetype": "text/x-python",
   "name": "python",
   "nbconvert_exporter": "python",
   "pygments_lexer": "ipython3",
   "version": "3.9.12"
  }
 },
 "nbformat": 4,
 "nbformat_minor": 5
}
