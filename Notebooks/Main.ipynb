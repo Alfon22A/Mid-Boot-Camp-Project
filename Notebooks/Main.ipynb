{
 "cells": [
  {
   "cell_type": "markdown",
   "id": "f5ca50fd-f253-4d15-ad01-e5a75950d6a3",
   "metadata": {},
   "source": [
    "# Libraries"
   ]
  },
  {
   "cell_type": "code",
   "execution_count": 1,
   "id": "6495458e-04ce-4620-ae8d-4056eb10527b",
   "metadata": {},
   "outputs": [],
   "source": [
    "import pandas as pd\n",
    "import numpy as np\n",
    "import sys\n",
    "\n",
    "import pickle\n",
    "\n",
    "import seaborn as sns\n",
    "import matplotlib.pyplot as plt\n",
    "%matplotlib inline\n",
    "\n",
    "from sklearn.model_selection import train_test_split\n",
    "from sklearn.preprocessing import MinMaxScaler, PowerTransformer\n",
    "from sklearn.linear_model import LinearRegression, LogisticRegression\n",
    "from sklearn.metrics import r2_score, confusion_matrix, ConfusionMatrixDisplay, cohen_kappa_score"
   ]
  },
  {
   "cell_type": "code",
   "execution_count": 2,
   "id": "02727ff4-b7d8-4110-b259-aac5aed933a0",
   "metadata": {},
   "outputs": [],
   "source": [
    "sys.path.append(\"../Src/Lib\")\n",
    "\n",
    "import functions"
   ]
  },
  {
   "cell_type": "markdown",
   "id": "9dccfdb9-f6ac-4e80-a8bf-c5d4188af1c1",
   "metadata": {},
   "source": [
    "# Data Preprocessing"
   ]
  },
  {
   "cell_type": "markdown",
   "id": "3b1164bd-04f4-4de2-99bb-f732c9289139",
   "metadata": {
    "tags": []
   },
   "source": [
    "## Importing\n",
    "\n",
    "We have data spread across several CSV files, so we create a For Loop to iterate through each Dataset and import it to the Notebook.\n",
    "\n",
    "To do this, we create two empty Lists: one where we will append the names for the Datasets, and another with the data.\n",
    "\n",
    "Finally, we combine these names and data together in a Dictionary of Dataframes."
   ]
  },
  {
   "cell_type": "code",
   "execution_count": 3,
   "id": "638a2c52-9f63-4dbd-836e-bd864f1dd561",
   "metadata": {},
   "outputs": [],
   "source": [
    "mvps_names = []\n",
    "mvps_data = []\n",
    "\n",
    "for x in range(23):\n",
    "    mvps_names.append(\"mvp_\"+str(2000+x))\n",
    "    mvps_data.append(pd.read_csv(\"../Data/Raw/MVP{}.csv\".format(2000+x), header = 1))\n",
    "    \n",
    "mvp_dfs = dict(zip(mvps_names, mvps_data))"
   ]
  },
  {
   "cell_type": "markdown",
   "id": "ee74119f-6758-4d8b-aa12-6cc4408cefdc",
   "metadata": {},
   "source": [
    "## Cleaning\n",
    "\n",
    "Now that we have the data loaded, it is time to clean it. Thankfully, our data comes already quite clean, we only need to:\n",
    "\n",
    "- Drop a useless column\n",
    "- Create columns with PTS, AST, TRB, STL and BLK per minute, in order to not give the edge to players with higher minutes per game.\n",
    "- A column with all stats combined per minute.\n",
    "- Create another column with the year of the MVP to differentiate it with the others once we concatenate them all.\n",
    "- Clean some values from the Rank column.\n",
    "- Fill in some missing values.\n",
    "\n",
    "This is done with another For Loop, we could pospone some of the cleaning and do it once we concatenate all the Datasets together, but since we need to add a ```Year``` column, may as well do the rest of the cleaning at the same time.\n",
    "\n",
    "We will also save the cleaned Datasets, both the individual years and the concatenated one for later use in Tableau and modeling."
   ]
  },
  {
   "cell_type": "code",
   "execution_count": 4,
   "id": "299d726b-e2a4-4134-afdb-b0080c023fa4",
   "metadata": {},
   "outputs": [],
   "source": [
    "for key, x in zip(mvp_dfs, range(23)):\n",
    "    mvp_dfs[key] = mvp_dfs[key].drop(columns = mvp_dfs[key].columns[-1])\n",
    "    mvp_dfs[key][\"PTS/M\"] = mvp_dfs[key][\"PTS\"]/mvp_dfs[key][\"MP\"]\n",
    "    mvp_dfs[key][\"TRB/M\"] = mvp_dfs[key][\"TRB\"]/mvp_dfs[key][\"MP\"]\n",
    "    mvp_dfs[key][\"AST/M\"] = mvp_dfs[key][\"AST\"]/mvp_dfs[key][\"MP\"]\n",
    "    mvp_dfs[key][\"STL/M\"] = mvp_dfs[key][\"STL\"]/mvp_dfs[key][\"MP\"]\n",
    "    mvp_dfs[key][\"BLK/M\"] = mvp_dfs[key][\"BLK\"]/mvp_dfs[key][\"MP\"]\n",
    "    mvp_dfs[key][\"Stats/M\"] = mvp_dfs[key][\"PTS/M\"]+mvp_dfs[key][\"TRB/M\"]+mvp_dfs[key][\"AST/M\"]+mvp_dfs[key][\"STL/M\"]+mvp_dfs[key][\"BLK/M\"]\n",
    "    mvp_dfs[key][\"Year\"] = (2000+x)\n",
    "    mvp_dfs[key] = mvp_dfs[key].fillna(0)\n",
    "    mvp_dfs[key][\"Rank\"] = mvp_dfs[key][\"Rank\"].replace(\"T\",'',regex=True).astype(int)\n",
    "    mvp_dfs[key].to_csv(\"../Data/Cleaned/CleanMVP{}.csv\".format(2000+x), index = False)"
   ]
  },
  {
   "cell_type": "code",
   "execution_count": 5,
   "id": "38316bb0-787d-49a6-96a3-bd6c06eb1c2a",
   "metadata": {},
   "outputs": [
    {
     "data": {
      "text/plain": [
       "(326, 27)"
      ]
     },
     "execution_count": 5,
     "metadata": {},
     "output_type": "execute_result"
    }
   ],
   "source": [
    "mvps = pd.concat(mvp_dfs.values(), ignore_index = True)\n",
    "mvps.shape"
   ]
  },
  {
   "cell_type": "code",
   "execution_count": 6,
   "id": "8383c80a-273a-4f1c-87d5-d9c4c774a648",
   "metadata": {},
   "outputs": [
    {
     "data": {
      "text/html": [
       "<div>\n",
       "<style scoped>\n",
       "    .dataframe tbody tr th:only-of-type {\n",
       "        vertical-align: middle;\n",
       "    }\n",
       "\n",
       "    .dataframe tbody tr th {\n",
       "        vertical-align: top;\n",
       "    }\n",
       "\n",
       "    .dataframe thead th {\n",
       "        text-align: right;\n",
       "    }\n",
       "</style>\n",
       "<table border=\"1\" class=\"dataframe\">\n",
       "  <thead>\n",
       "    <tr style=\"text-align: right;\">\n",
       "      <th></th>\n",
       "      <th>Rank</th>\n",
       "      <th>Player</th>\n",
       "      <th>Age</th>\n",
       "      <th>Tm</th>\n",
       "      <th>First</th>\n",
       "      <th>Pts Won</th>\n",
       "      <th>Pts Max</th>\n",
       "      <th>Share</th>\n",
       "      <th>G</th>\n",
       "      <th>MP</th>\n",
       "      <th>...</th>\n",
       "      <th>FT%</th>\n",
       "      <th>WS</th>\n",
       "      <th>WS/48</th>\n",
       "      <th>PTS/M</th>\n",
       "      <th>TRB/M</th>\n",
       "      <th>AST/M</th>\n",
       "      <th>STL/M</th>\n",
       "      <th>BLK/M</th>\n",
       "      <th>Stats/M</th>\n",
       "      <th>Year</th>\n",
       "    </tr>\n",
       "  </thead>\n",
       "  <tbody>\n",
       "    <tr>\n",
       "      <th>0</th>\n",
       "      <td>1</td>\n",
       "      <td>Shaquille O'Neal</td>\n",
       "      <td>27</td>\n",
       "      <td>LAL</td>\n",
       "      <td>120.0</td>\n",
       "      <td>1207.0</td>\n",
       "      <td>1210</td>\n",
       "      <td>0.998</td>\n",
       "      <td>79</td>\n",
       "      <td>40.0</td>\n",
       "      <td>...</td>\n",
       "      <td>0.524</td>\n",
       "      <td>18.6</td>\n",
       "      <td>0.283</td>\n",
       "      <td>0.742500</td>\n",
       "      <td>0.340000</td>\n",
       "      <td>0.095000</td>\n",
       "      <td>0.012500</td>\n",
       "      <td>0.075000</td>\n",
       "      <td>1.265000</td>\n",
       "      <td>2000</td>\n",
       "    </tr>\n",
       "    <tr>\n",
       "      <th>1</th>\n",
       "      <td>2</td>\n",
       "      <td>Kevin Garnett</td>\n",
       "      <td>23</td>\n",
       "      <td>MIN</td>\n",
       "      <td>0.0</td>\n",
       "      <td>408.0</td>\n",
       "      <td>1210</td>\n",
       "      <td>0.337</td>\n",
       "      <td>81</td>\n",
       "      <td>40.0</td>\n",
       "      <td>...</td>\n",
       "      <td>0.765</td>\n",
       "      <td>11.6</td>\n",
       "      <td>0.172</td>\n",
       "      <td>0.572500</td>\n",
       "      <td>0.295000</td>\n",
       "      <td>0.125000</td>\n",
       "      <td>0.037500</td>\n",
       "      <td>0.040000</td>\n",
       "      <td>1.070000</td>\n",
       "      <td>2000</td>\n",
       "    </tr>\n",
       "    <tr>\n",
       "      <th>2</th>\n",
       "      <td>3</td>\n",
       "      <td>Alonzo Mourning</td>\n",
       "      <td>29</td>\n",
       "      <td>MIA</td>\n",
       "      <td>0.0</td>\n",
       "      <td>367.0</td>\n",
       "      <td>1210</td>\n",
       "      <td>0.303</td>\n",
       "      <td>79</td>\n",
       "      <td>34.8</td>\n",
       "      <td>...</td>\n",
       "      <td>0.711</td>\n",
       "      <td>12.9</td>\n",
       "      <td>0.226</td>\n",
       "      <td>0.623563</td>\n",
       "      <td>0.272989</td>\n",
       "      <td>0.045977</td>\n",
       "      <td>0.014368</td>\n",
       "      <td>0.106322</td>\n",
       "      <td>1.063218</td>\n",
       "      <td>2000</td>\n",
       "    </tr>\n",
       "    <tr>\n",
       "      <th>3</th>\n",
       "      <td>4</td>\n",
       "      <td>Karl Malone</td>\n",
       "      <td>36</td>\n",
       "      <td>UTA</td>\n",
       "      <td>0.0</td>\n",
       "      <td>312.0</td>\n",
       "      <td>1210</td>\n",
       "      <td>0.258</td>\n",
       "      <td>82</td>\n",
       "      <td>35.9</td>\n",
       "      <td>...</td>\n",
       "      <td>0.797</td>\n",
       "      <td>15.3</td>\n",
       "      <td>0.249</td>\n",
       "      <td>0.710306</td>\n",
       "      <td>0.264624</td>\n",
       "      <td>0.103064</td>\n",
       "      <td>0.027855</td>\n",
       "      <td>0.025070</td>\n",
       "      <td>1.130919</td>\n",
       "      <td>2000</td>\n",
       "    </tr>\n",
       "    <tr>\n",
       "      <th>4</th>\n",
       "      <td>5</td>\n",
       "      <td>Tim Duncan</td>\n",
       "      <td>23</td>\n",
       "      <td>SAS</td>\n",
       "      <td>0.0</td>\n",
       "      <td>248.0</td>\n",
       "      <td>1210</td>\n",
       "      <td>0.205</td>\n",
       "      <td>74</td>\n",
       "      <td>38.9</td>\n",
       "      <td>...</td>\n",
       "      <td>0.761</td>\n",
       "      <td>13.0</td>\n",
       "      <td>0.218</td>\n",
       "      <td>0.596401</td>\n",
       "      <td>0.318766</td>\n",
       "      <td>0.082262</td>\n",
       "      <td>0.023136</td>\n",
       "      <td>0.056555</td>\n",
       "      <td>1.077121</td>\n",
       "      <td>2000</td>\n",
       "    </tr>\n",
       "  </tbody>\n",
       "</table>\n",
       "<p>5 rows × 27 columns</p>\n",
       "</div>"
      ],
      "text/plain": [
       "   Rank            Player  Age   Tm  First  Pts Won  Pts Max  Share   G    MP  \\\n",
       "0     1  Shaquille O'Neal   27  LAL  120.0   1207.0     1210  0.998  79  40.0   \n",
       "1     2     Kevin Garnett   23  MIN    0.0    408.0     1210  0.337  81  40.0   \n",
       "2     3   Alonzo Mourning   29  MIA    0.0    367.0     1210  0.303  79  34.8   \n",
       "3     4       Karl Malone   36  UTA    0.0    312.0     1210  0.258  82  35.9   \n",
       "4     5        Tim Duncan   23  SAS    0.0    248.0     1210  0.205  74  38.9   \n",
       "\n",
       "   ...    FT%    WS  WS/48     PTS/M     TRB/M     AST/M     STL/M     BLK/M  \\\n",
       "0  ...  0.524  18.6  0.283  0.742500  0.340000  0.095000  0.012500  0.075000   \n",
       "1  ...  0.765  11.6  0.172  0.572500  0.295000  0.125000  0.037500  0.040000   \n",
       "2  ...  0.711  12.9  0.226  0.623563  0.272989  0.045977  0.014368  0.106322   \n",
       "3  ...  0.797  15.3  0.249  0.710306  0.264624  0.103064  0.027855  0.025070   \n",
       "4  ...  0.761  13.0  0.218  0.596401  0.318766  0.082262  0.023136  0.056555   \n",
       "\n",
       "    Stats/M  Year  \n",
       "0  1.265000  2000  \n",
       "1  1.070000  2000  \n",
       "2  1.063218  2000  \n",
       "3  1.130919  2000  \n",
       "4  1.077121  2000  \n",
       "\n",
       "[5 rows x 27 columns]"
      ]
     },
     "execution_count": 6,
     "metadata": {},
     "output_type": "execute_result"
    }
   ],
   "source": [
    "mvps.head()"
   ]
  },
  {
   "cell_type": "code",
   "execution_count": 7,
   "id": "ace9b02e-af1d-4d22-8b4d-394acabd4650",
   "metadata": {},
   "outputs": [],
   "source": [
    "mvps.to_csv(\"../Data/Cleaned/CleanMVPs.csv\", index = False)"
   ]
  },
  {
   "cell_type": "markdown",
   "id": "87ad15ed-39d4-4bb3-95d5-0be9fc3c2426",
   "metadata": {},
   "source": [
    "# Data Processing\n",
    "\n",
    "For the rest of the Notebook, we are going to drop ```Player```, ```Tm```, ```First```, ```Pts Won```, ```Pts Max``` and ```Year```, as this are columns that are either not useful or directly correlated to the MVP."
   ]
  },
  {
   "cell_type": "code",
   "execution_count": 8,
   "id": "da470fb6-2d0b-4563-86a8-f57bba52edb1",
   "metadata": {},
   "outputs": [],
   "source": [
    "mvps = mvps.drop(columns = [\"Player\", \"Tm\", \"First\", \"Pts Won\", \"Pts Max\", \"Year\"])"
   ]
  },
  {
   "cell_type": "markdown",
   "id": "f8e8c687-4f9d-4993-b55a-468accaf41f5",
   "metadata": {
    "tags": []
   },
   "source": [
    "## First Model\n",
    "\n",
    "- Linear Regression\n",
    "- Target: Rank\n",
    "\n",
    "We drop the column ```Shares``` as this column is only available once the MVP is awarded."
   ]
  },
  {
   "cell_type": "code",
   "execution_count": 9,
   "id": "373cc9dd-5fca-4a3c-9888-6242b8b4e441",
   "metadata": {},
   "outputs": [],
   "source": [
    "mvps_rank = mvps.drop(columns = \"Share\")"
   ]
  },
  {
   "cell_type": "markdown",
   "id": "1a251d26-a19d-40cb-87a9-e5f6246b8c85",
   "metadata": {},
   "source": [
    "Now we call a custom function that drops columns based on the correlation towards our target column, in this case ```Rank```."
   ]
  },
  {
   "cell_type": "code",
   "execution_count": 10,
   "id": "d35354b4-2a73-4c1b-ad5a-cd2ca914595a",
   "metadata": {},
   "outputs": [
    {
     "data": {
      "image/png": "[encoded data removed]",
      "text/plain": [
       "<Figure size 432x288 with 2 Axes>"
      ]
     },
     "metadata": {
      "needs_background": "light"
     },
     "output_type": "display_data"
    }
   ],
   "source": [
    "mvps_rank = functions.correlation(mvps_rank, 0, 0.5)"
   ]
  },
  {
   "cell_type": "markdown",
   "id": "102fcaba-a112-4cff-852a-513973d9d39f",
   "metadata": {},
   "source": [
    "Well, we are left with very few columns.\n",
    "\n",
    "We are going to drop WS rather than WS/48, as this last one is more fair for players that played less games due to lockouts."
   ]
  },
  {
   "cell_type": "code",
   "execution_count": 11,
   "id": "f8ed6aa4-6808-4aab-8f5e-67ca9ed0063b",
   "metadata": {},
   "outputs": [],
   "source": [
    "mvps_rank = mvps_rank.drop(columns = \"WS\")"
   ]
  },
  {
   "cell_type": "markdown",
   "id": "7726475c-00eb-4960-b44e-17ce1528f195",
   "metadata": {},
   "source": [
    "### X/y Split"
   ]
  },
  {
   "cell_type": "code",
   "execution_count": 12,
   "id": "af6b4f01-45a3-4a54-8ea3-90a529f7fd85",
   "metadata": {},
   "outputs": [],
   "source": [
    "rank_X = mvps_rank.drop(columns = \"Rank\")\n",
    "rank_y = mvps_rank[\"Rank\"]"
   ]
  },
  {
   "cell_type": "markdown",
   "id": "54e6f97b-982a-432a-8bfa-305d0a6655a8",
   "metadata": {},
   "source": [
    "### Train/Test Split"
   ]
  },
  {
   "cell_type": "code",
   "execution_count": 13,
   "id": "8c03eff5-4553-4b3c-a57b-f80b14318dc2",
   "metadata": {},
   "outputs": [],
   "source": [
    "rank_X_train, rank_X_test, rank_y_train, rank_y_test = train_test_split(rank_X, rank_y, test_size = 0.22, random_state = 22)"
   ]
  },
  {
   "cell_type": "markdown",
   "id": "3b511ef8-c5c2-4b82-b156-8cc210de496b",
   "metadata": {},
   "source": [
    "### Transformer"
   ]
  },
  {
   "cell_type": "code",
   "execution_count": 14,
   "id": "95b141c9-5929-4eeb-b38c-beac5813f6eb",
   "metadata": {},
   "outputs": [
    {
     "data": {
      "image/png": "[encoded data removed]",
      "text/plain": [
       "<Figure size 1440x720 with 2 Axes>"
      ]
     },
     "metadata": {
      "needs_background": "light"
     },
     "output_type": "display_data"
    }
   ],
   "source": [
    "functions.plot_maker(rank_X_train)"
   ]
  },
  {
   "cell_type": "code",
   "execution_count": 15,
   "id": "8f0fb523-0386-4380-93ba-aa9a69cb7b73",
   "metadata": {},
   "outputs": [],
   "source": [
    "rank_pt = PowerTransformer().fit(rank_X_train)\n",
    "\n",
    "with open(\"../Transformers/rank_pt.pkl\", \"wb\") as file:\n",
    "    pickle.dump(rank_pt, file)\n",
    "\n",
    "rank_X_train_pt = rank_pt.transform(rank_X_train)\n",
    "rank_X_train_pt = pd.DataFrame(rank_X_train_pt, columns = rank_X_train.columns, index = rank_X_train.index)\n",
    "\n",
    "rank_X_test_pt = rank_pt.transform(rank_X_test)\n",
    "rank_X_test_pt = pd.DataFrame(rank_X_test_pt, columns = rank_X_test.columns, index = rank_X_test.index)"
   ]
  },
  {
   "cell_type": "code",
   "execution_count": 16,
   "id": "c9d747e0-90c3-42ed-b43c-9c5e677a9023",
   "metadata": {},
   "outputs": [
    {
     "data": {
      "image/png": "[encoded data removed]",
      "text/plain": [
       "<Figure size 1440x720 with 2 Axes>"
      ]
     },
     "metadata": {
      "needs_background": "light"
     },
     "output_type": "display_data"
    }
   ],
   "source": [
    "functions.plot_maker(rank_X_train_pt)"
   ]
  },
  {
   "cell_type": "markdown",
   "id": "845a8d5e-6991-486c-8e74-4810c1e3ff88",
   "metadata": {},
   "source": [
    "### Scaler"
   ]
  },
  {
   "cell_type": "code",
   "execution_count": 17,
   "id": "068ed2f9-e20c-47c2-bb73-4facee8617ff",
   "metadata": {},
   "outputs": [],
   "source": [
    "rank_scaler = MinMaxScaler().fit(rank_X_train_pt)\n",
    "\n",
    "with open(\"../Scalers/rank_scaler.pkl\", \"wb\") as file:\n",
    "    pickle.dump(rank_scaler, file)\n",
    "\n",
    "rank_X_train_pt_mm = rank_scaler.transform(rank_X_train_pt)\n",
    "rank_X_train_pt_mm = pd.DataFrame(rank_X_train_pt_mm, columns = rank_X_train_pt.columns, index = rank_X_train_pt.index)\n",
    "\n",
    "rank_X_test_pt_mm = rank_scaler.transform(rank_X_test_pt)\n",
    "rank_X_test_pt_mm = pd.DataFrame(rank_X_test_pt_mm, columns = rank_X_test_pt.columns, index = rank_X_test_pt.index)"
   ]
  },
  {
   "cell_type": "markdown",
   "id": "d0b9f16a-a09f-472d-a9bc-ebb96a29fb52",
   "metadata": {},
   "source": [
    "### Model"
   ]
  },
  {
   "cell_type": "code",
   "execution_count": 18,
   "id": "d61d29b1-f3a3-49a9-9b43-a9deab48f53a",
   "metadata": {},
   "outputs": [],
   "source": [
    "rank_lr = LinearRegression().fit(rank_X_train_pt_mm, rank_y_train)\n",
    "\n",
    "with open(\"../Models/rank_lr.pkl\",\"wb\") as file:\n",
    "    pickle.dump(rank_lr, file)"
   ]
  },
  {
   "cell_type": "markdown",
   "id": "6b856542-eeab-4a08-9dcc-165b9d720c9f",
   "metadata": {},
   "source": [
    "### Validation"
   ]
  },
  {
   "cell_type": "code",
   "execution_count": 19,
   "id": "23c59632-b449-4ff4-bce9-afb06c03aca6",
   "metadata": {},
   "outputs": [
    {
     "name": "stdout",
     "output_type": "stream",
     "text": [
      "First Model Train Score: 0.46\n",
      "First Model Test Score: 0.33\n"
     ]
    }
   ],
   "source": [
    "rank_train_y_pred = rank_lr.predict(rank_X_train_pt_mm)\n",
    "rank_test_y_pred = rank_lr.predict(rank_X_test_pt_mm)\n",
    "\n",
    "print(\"First Model Train Score: {:.2f}\".format(r2_score(rank_y_train, rank_train_y_pred),2))\n",
    "print(\"First Model Test Score: {:.2f}\".format(r2_score(rank_y_test, rank_test_y_pred),2))"
   ]
  },
  {
   "cell_type": "markdown",
   "id": "13d292d1-1924-4175-9bf2-c2603865036a",
   "metadata": {},
   "source": [
    "### Visualization"
   ]
  },
  {
   "cell_type": "code",
   "execution_count": 20,
   "id": "9f26e394-78c1-4823-93a2-6ebb54c36f58",
   "metadata": {},
   "outputs": [
    {
     "data": {
      "image/png": "[encoded data removed]",
      "text/plain": [
       "<Figure size 432x288 with 1 Axes>"
      ]
     },
     "metadata": {
      "needs_background": "light"
     },
     "output_type": "display_data"
    }
   ],
   "source": [
    "sns.regplot(x = rank_y_train, y = rank_train_y_pred).set(title='Rank Train')\n",
    "plt.xlabel(\"Real Rank\")\n",
    "plt.ylabel(\"Predicted Rank\")\n",
    "plt.savefig(\"../Slides/Images/RankTrain.png\") "
   ]
  },
  {
   "cell_type": "code",
   "execution_count": 21,
   "id": "d632fa46-e639-4c7c-b88a-cf7d25c2ffd4",
   "metadata": {},
   "outputs": [
    {
     "data": {
      "image/png": "[encoded data removed]",
      "text/plain": [
       "<Figure size 432x288 with 1 Axes>"
      ]
     },
     "metadata": {
      "needs_background": "light"
     },
     "output_type": "display_data"
    }
   ],
   "source": [
    "sns.regplot(x = rank_y_test, y = rank_test_y_pred).set(title='Rank Test')\n",
    "plt.xlabel(\"Real Rank\")\n",
    "plt.ylabel(\"Predicted Rank\")\n",
    "plt.savefig(\"../Slides/Images/RankTest.png\") "
   ]
  },
  {
   "cell_type": "markdown",
   "id": "1729bae1-e9c4-48a8-ac13-781be63f8449",
   "metadata": {},
   "source": [
    "## Second model:\n",
    "\n",
    "- Linear Regression\n",
    "- Target = Share\n",
    "\n",
    "In this case we drop the column ```Rank``` as, like before, it is only known when the MVP is awarded."
   ]
  },
  {
   "cell_type": "code",
   "execution_count": 22,
   "id": "29423c49-61ff-4392-8bbc-284c86320ebb",
   "metadata": {},
   "outputs": [],
   "source": [
    "mvps_share = mvps.drop(columns = \"Rank\")"
   ]
  },
  {
   "cell_type": "code",
   "execution_count": 23,
   "id": "7ae8f71a-7959-46eb-a927-54dd5f91cd53",
   "metadata": {
    "tags": []
   },
   "outputs": [
    {
     "data": {
      "image/png": "[encoded data removed]",
      "text/plain": [
       "<Figure size 432x288 with 2 Axes>"
      ]
     },
     "metadata": {
      "needs_background": "light"
     },
     "output_type": "display_data"
    }
   ],
   "source": [
    "mvps_share = functions.correlation(mvps_share, 1, 0.4)"
   ]
  },
  {
   "cell_type": "code",
   "execution_count": 24,
   "id": "46074e15-e13d-4801-a913-ad6b2dde28f9",
   "metadata": {},
   "outputs": [],
   "source": [
    "mvps_share = mvps_share.drop(columns = \"WS\")"
   ]
  },
  {
   "cell_type": "markdown",
   "id": "3386f8f1-b056-49ef-96cf-b350a9e9e1d8",
   "metadata": {},
   "source": [
    "### X/y Split"
   ]
  },
  {
   "cell_type": "code",
   "execution_count": 25,
   "id": "ef57bfab-525e-44a4-a0b9-766190ac8493",
   "metadata": {},
   "outputs": [],
   "source": [
    "share_X = mvps_share.drop(columns = \"Share\")\n",
    "share_y = mvps_share[\"Share\"]"
   ]
  },
  {
   "cell_type": "markdown",
   "id": "dc5fddc4-8bdb-48db-b29e-96afc4db6abb",
   "metadata": {},
   "source": [
    "### Train/Test Split"
   ]
  },
  {
   "cell_type": "code",
   "execution_count": 26,
   "id": "aaa8224f-168b-40f6-9e60-fdc7e1034809",
   "metadata": {},
   "outputs": [],
   "source": [
    "share_X_train, share_X_test, share_y_train, share_y_test = train_test_split(share_X, share_y, test_size = 0.22, random_state = 22)"
   ]
  },
  {
   "cell_type": "markdown",
   "id": "0277b168-1723-4001-8c3b-479ceb8c91e7",
   "metadata": {},
   "source": [
    "### Transformer"
   ]
  },
  {
   "cell_type": "code",
   "execution_count": 27,
   "id": "a2fd235e-e1fa-4834-aee1-3d81b955769b",
   "metadata": {},
   "outputs": [],
   "source": [
    "share_pt = PowerTransformer().fit(share_X_train)\n",
    "\n",
    "with open(\"../Transformers/share_pt.pkl\", \"wb\") as file:\n",
    "    pickle.dump(share_pt, file)\n",
    "\n",
    "share_X_train_pt = share_pt.transform(share_X_train)\n",
    "share_X_train_pt = pd.DataFrame(share_X_train_pt, columns = share_X_train.columns, index = share_X_train.index)\n",
    "\n",
    "share_X_test_pt = share_pt.transform(share_X_test)\n",
    "share_X_test_pt = pd.DataFrame(share_X_test_pt, columns = share_X_test.columns, index = share_X_test.index)"
   ]
  },
  {
   "cell_type": "markdown",
   "id": "cb894c7e-8c8e-4e4c-a8cf-b4dbc99f08e4",
   "metadata": {},
   "source": [
    "### Scaler"
   ]
  },
  {
   "cell_type": "code",
   "execution_count": 28,
   "id": "50a736b1-f99a-4ea9-87de-201ec76e51c5",
   "metadata": {},
   "outputs": [],
   "source": [
    "share_scaler = MinMaxScaler().fit(share_X_train_pt)\n",
    "\n",
    "with open(\"../Scalers/share_scaler.pkl\", \"wb\") as file:\n",
    "    pickle.dump(share_scaler, file)\n",
    "\n",
    "share_X_train_pt_mm = share_scaler.transform(share_X_train_pt)\n",
    "share_X_train_pt_mm = pd.DataFrame(share_X_train_pt_mm, columns = share_X_train_pt.columns, index = share_X_train_pt.index)\n",
    "\n",
    "share_X_test_pt_mm = share_scaler.transform(share_X_test_pt)\n",
    "share_X_test_pt_mm = pd.DataFrame(share_X_test_pt_mm, columns = share_X_test_pt.columns, index = share_X_test_pt.index)"
   ]
  },
  {
   "cell_type": "markdown",
   "id": "704eea60-494f-49cc-868a-07a7987f8825",
   "metadata": {},
   "source": [
    "### Model"
   ]
  },
  {
   "cell_type": "code",
   "execution_count": 29,
   "id": "1df6fac0-68d7-4cd5-9868-5ab6a2e7b4f6",
   "metadata": {},
   "outputs": [],
   "source": [
    "share_lr = LinearRegression().fit(share_X_train_pt_mm, share_y_train)\n",
    "\n",
    "with open(\"../Models/share_lr.pkl\", \"wb\") as file:\n",
    "    pickle.dump(share_lr, file)"
   ]
  },
  {
   "cell_type": "markdown",
   "id": "1b76997c-45db-4e12-aca9-fdd613d88731",
   "metadata": {},
   "source": [
    "### Validation"
   ]
  },
  {
   "cell_type": "code",
   "execution_count": 30,
   "id": "8d3a9f39-95c1-4d05-8e5d-d3be1b54676c",
   "metadata": {},
   "outputs": [
    {
     "name": "stdout",
     "output_type": "stream",
     "text": [
      "Second Model Train Score: 0.38\n",
      "Second Model Test Score: 0.34\n"
     ]
    }
   ],
   "source": [
    "share_train_y_pred = share_lr.predict(share_X_train_pt_mm)\n",
    "share_test_y_pred = share_lr.predict(share_X_test_pt_mm)\n",
    "\n",
    "print(\"Second Model Train Score: {:.2f}\".format(r2_score(share_y_train, share_train_y_pred),2))\n",
    "print(\"Second Model Test Score: {:.2f}\".format(r2_score(share_y_test, share_test_y_pred),2))"
   ]
  },
  {
   "cell_type": "markdown",
   "id": "0621239e-a789-448e-a156-43dc17c1fd81",
   "metadata": {},
   "source": [
    "### Visualization"
   ]
  },
  {
   "cell_type": "code",
   "execution_count": 31,
   "id": "96dbc88c-2b23-49df-a368-1634ff59435d",
   "metadata": {},
   "outputs": [
    {
     "data": {
      "image/png": "[encoded data removed]",
      "text/plain": [
       "<Figure size 432x288 with 1 Axes>"
      ]
     },
     "metadata": {
      "needs_background": "light"
     },
     "output_type": "display_data"
    }
   ],
   "source": [
    "sns.regplot(x = share_y_train, y = share_train_y_pred).set(title=\"Share Train\")\n",
    "plt.xlabel(\"Real Share\")\n",
    "plt.ylabel(\"Predicted Share\")\n",
    "plt.savefig(\"../Slides/Images/ShareTrain.png\") "
   ]
  },
  {
   "cell_type": "code",
   "execution_count": 32,
   "id": "892caa4f-94ab-47c3-91c8-fcb7b1c4f710",
   "metadata": {},
   "outputs": [
    {
     "data": {
      "image/png": "[encoded data removed]",
      "text/plain": [
       "<Figure size 432x288 with 1 Axes>"
      ]
     },
     "metadata": {
      "needs_background": "light"
     },
     "output_type": "display_data"
    }
   ],
   "source": [
    "sns.regplot(x = share_y_test, y = share_test_y_pred).set(title=\"Share Test\")\n",
    "plt.xlabel(\"Real Share\")\n",
    "plt.ylabel(\"Predicted Share\")\n",
    "plt.savefig(\"../Slides/Images/ShareTest.png\") "
   ]
  },
  {
   "cell_type": "markdown",
   "id": "5aa41b4f-f5d0-481f-955b-58f02546f058",
   "metadata": {},
   "source": [
    "## Third model:\n",
    "\n",
    "- Logistic Regression\n",
    "- Target = Top3"
   ]
  },
  {
   "cell_type": "code",
   "execution_count": 33,
   "id": "d2f5deb1-3b96-4bf2-be12-4e4738f8ab2a",
   "metadata": {},
   "outputs": [
    {
     "data": {
      "text/html": [
       "<div>\n",
       "<style scoped>\n",
       "    .dataframe tbody tr th:only-of-type {\n",
       "        vertical-align: middle;\n",
       "    }\n",
       "\n",
       "    .dataframe tbody tr th {\n",
       "        vertical-align: top;\n",
       "    }\n",
       "\n",
       "    .dataframe thead th {\n",
       "        text-align: right;\n",
       "    }\n",
       "</style>\n",
       "<table border=\"1\" class=\"dataframe\">\n",
       "  <thead>\n",
       "    <tr style=\"text-align: right;\">\n",
       "      <th></th>\n",
       "      <th>Rank</th>\n",
       "      <th>Age</th>\n",
       "      <th>Share</th>\n",
       "      <th>G</th>\n",
       "      <th>MP</th>\n",
       "      <th>PTS</th>\n",
       "      <th>TRB</th>\n",
       "      <th>AST</th>\n",
       "      <th>STL</th>\n",
       "      <th>BLK</th>\n",
       "      <th>...</th>\n",
       "      <th>FT%</th>\n",
       "      <th>WS</th>\n",
       "      <th>WS/48</th>\n",
       "      <th>PTS/M</th>\n",
       "      <th>TRB/M</th>\n",
       "      <th>AST/M</th>\n",
       "      <th>STL/M</th>\n",
       "      <th>BLK/M</th>\n",
       "      <th>Stats/M</th>\n",
       "      <th>Top3</th>\n",
       "    </tr>\n",
       "  </thead>\n",
       "  <tbody>\n",
       "    <tr>\n",
       "      <th>0</th>\n",
       "      <td>1</td>\n",
       "      <td>27</td>\n",
       "      <td>0.998</td>\n",
       "      <td>79</td>\n",
       "      <td>40.0</td>\n",
       "      <td>29.7</td>\n",
       "      <td>13.6</td>\n",
       "      <td>3.8</td>\n",
       "      <td>0.5</td>\n",
       "      <td>3.0</td>\n",
       "      <td>...</td>\n",
       "      <td>0.524</td>\n",
       "      <td>18.6</td>\n",
       "      <td>0.283</td>\n",
       "      <td>0.742500</td>\n",
       "      <td>0.340000</td>\n",
       "      <td>0.095000</td>\n",
       "      <td>0.012500</td>\n",
       "      <td>0.075000</td>\n",
       "      <td>1.265000</td>\n",
       "      <td>True</td>\n",
       "    </tr>\n",
       "    <tr>\n",
       "      <th>1</th>\n",
       "      <td>2</td>\n",
       "      <td>23</td>\n",
       "      <td>0.337</td>\n",
       "      <td>81</td>\n",
       "      <td>40.0</td>\n",
       "      <td>22.9</td>\n",
       "      <td>11.8</td>\n",
       "      <td>5.0</td>\n",
       "      <td>1.5</td>\n",
       "      <td>1.6</td>\n",
       "      <td>...</td>\n",
       "      <td>0.765</td>\n",
       "      <td>11.6</td>\n",
       "      <td>0.172</td>\n",
       "      <td>0.572500</td>\n",
       "      <td>0.295000</td>\n",
       "      <td>0.125000</td>\n",
       "      <td>0.037500</td>\n",
       "      <td>0.040000</td>\n",
       "      <td>1.070000</td>\n",
       "      <td>True</td>\n",
       "    </tr>\n",
       "    <tr>\n",
       "      <th>2</th>\n",
       "      <td>3</td>\n",
       "      <td>29</td>\n",
       "      <td>0.303</td>\n",
       "      <td>79</td>\n",
       "      <td>34.8</td>\n",
       "      <td>21.7</td>\n",
       "      <td>9.5</td>\n",
       "      <td>1.6</td>\n",
       "      <td>0.5</td>\n",
       "      <td>3.7</td>\n",
       "      <td>...</td>\n",
       "      <td>0.711</td>\n",
       "      <td>12.9</td>\n",
       "      <td>0.226</td>\n",
       "      <td>0.623563</td>\n",
       "      <td>0.272989</td>\n",
       "      <td>0.045977</td>\n",
       "      <td>0.014368</td>\n",
       "      <td>0.106322</td>\n",
       "      <td>1.063218</td>\n",
       "      <td>True</td>\n",
       "    </tr>\n",
       "    <tr>\n",
       "      <th>3</th>\n",
       "      <td>4</td>\n",
       "      <td>36</td>\n",
       "      <td>0.258</td>\n",
       "      <td>82</td>\n",
       "      <td>35.9</td>\n",
       "      <td>25.5</td>\n",
       "      <td>9.5</td>\n",
       "      <td>3.7</td>\n",
       "      <td>1.0</td>\n",
       "      <td>0.9</td>\n",
       "      <td>...</td>\n",
       "      <td>0.797</td>\n",
       "      <td>15.3</td>\n",
       "      <td>0.249</td>\n",
       "      <td>0.710306</td>\n",
       "      <td>0.264624</td>\n",
       "      <td>0.103064</td>\n",
       "      <td>0.027855</td>\n",
       "      <td>0.025070</td>\n",
       "      <td>1.130919</td>\n",
       "      <td>False</td>\n",
       "    </tr>\n",
       "    <tr>\n",
       "      <th>4</th>\n",
       "      <td>5</td>\n",
       "      <td>23</td>\n",
       "      <td>0.205</td>\n",
       "      <td>74</td>\n",
       "      <td>38.9</td>\n",
       "      <td>23.2</td>\n",
       "      <td>12.4</td>\n",
       "      <td>3.2</td>\n",
       "      <td>0.9</td>\n",
       "      <td>2.2</td>\n",
       "      <td>...</td>\n",
       "      <td>0.761</td>\n",
       "      <td>13.0</td>\n",
       "      <td>0.218</td>\n",
       "      <td>0.596401</td>\n",
       "      <td>0.318766</td>\n",
       "      <td>0.082262</td>\n",
       "      <td>0.023136</td>\n",
       "      <td>0.056555</td>\n",
       "      <td>1.077121</td>\n",
       "      <td>False</td>\n",
       "    </tr>\n",
       "  </tbody>\n",
       "</table>\n",
       "<p>5 rows × 22 columns</p>\n",
       "</div>"
      ],
      "text/plain": [
       "   Rank  Age  Share   G    MP   PTS   TRB  AST  STL  BLK  ...    FT%    WS  \\\n",
       "0     1   27  0.998  79  40.0  29.7  13.6  3.8  0.5  3.0  ...  0.524  18.6   \n",
       "1     2   23  0.337  81  40.0  22.9  11.8  5.0  1.5  1.6  ...  0.765  11.6   \n",
       "2     3   29  0.303  79  34.8  21.7   9.5  1.6  0.5  3.7  ...  0.711  12.9   \n",
       "3     4   36  0.258  82  35.9  25.5   9.5  3.7  1.0  0.9  ...  0.797  15.3   \n",
       "4     5   23  0.205  74  38.9  23.2  12.4  3.2  0.9  2.2  ...  0.761  13.0   \n",
       "\n",
       "   WS/48     PTS/M     TRB/M     AST/M     STL/M     BLK/M   Stats/M   Top3  \n",
       "0  0.283  0.742500  0.340000  0.095000  0.012500  0.075000  1.265000   True  \n",
       "1  0.172  0.572500  0.295000  0.125000  0.037500  0.040000  1.070000   True  \n",
       "2  0.226  0.623563  0.272989  0.045977  0.014368  0.106322  1.063218   True  \n",
       "3  0.249  0.710306  0.264624  0.103064  0.027855  0.025070  1.130919  False  \n",
       "4  0.218  0.596401  0.318766  0.082262  0.023136  0.056555  1.077121  False  \n",
       "\n",
       "[5 rows x 22 columns]"
      ]
     },
     "execution_count": 33,
     "metadata": {},
     "output_type": "execute_result"
    }
   ],
   "source": [
    "mvps[\"Top3\"] = mvps[\"Rank\"] <= 3\n",
    "mvps.head()"
   ]
  },
  {
   "cell_type": "markdown",
   "id": "56bc8b7d-5cf0-4cf5-9527-40331ea3c48c",
   "metadata": {
    "tags": []
   },
   "source": [
    "### X/y Split"
   ]
  },
  {
   "cell_type": "code",
   "execution_count": 34,
   "id": "acfde899-8dad-444d-b9e9-6928d1d1a0d0",
   "metadata": {},
   "outputs": [],
   "source": [
    "top3_X = mvps[[\"WS/48\", \"Stats/M\"]]\n",
    "top3_y = mvps[\"Top3\"]"
   ]
  },
  {
   "cell_type": "markdown",
   "id": "04513b8d-dbe4-4994-a6d6-348242c67f34",
   "metadata": {},
   "source": [
    "### Train/Test Split"
   ]
  },
  {
   "cell_type": "code",
   "execution_count": 35,
   "id": "efc6b64d-8177-4a39-8fd8-8ec86820fdec",
   "metadata": {},
   "outputs": [],
   "source": [
    "top3_X_train, top3_X_test, top3_y_train, top3_y_test = train_test_split(top3_X, top3_y, test_size = 0.22, random_state = 22)"
   ]
  },
  {
   "cell_type": "markdown",
   "id": "76b23612-8a18-4d5e-9818-187bd0c5da71",
   "metadata": {},
   "source": [
    "### Transformer"
   ]
  },
  {
   "cell_type": "code",
   "execution_count": 36,
   "id": "0d80dedb-734e-4ae6-8166-72eacbdcb0ed",
   "metadata": {},
   "outputs": [],
   "source": [
    "top3_pt = PowerTransformer().fit(top3_X_train)\n",
    "\n",
    "with open(\"../Transformers/top3_pt.pkl\",\"wb\") as file:\n",
    "    pickle.dump(top3_pt, file)\n",
    "\n",
    "top3_X_train_pt = top3_pt.transform(top3_X_train)\n",
    "top3_X_train_pt = pd.DataFrame(top3_X_train_pt, columns = top3_X_train.columns, index = top3_X_train.index)\n",
    "\n",
    "top3_X_test_pt = top3_pt.transform(top3_X_test)\n",
    "top3_X_test_pt = pd.DataFrame(top3_X_test_pt, columns = top3_X_test.columns, index = top3_X_test.index)"
   ]
  },
  {
   "cell_type": "markdown",
   "id": "b3defd70-1d66-420e-85df-270a9b56800c",
   "metadata": {},
   "source": [
    "### Scaler"
   ]
  },
  {
   "cell_type": "code",
   "execution_count": 37,
   "id": "b9efbad6-bc14-4285-b1c0-0d0b7e530264",
   "metadata": {},
   "outputs": [],
   "source": [
    "top3_scaler = MinMaxScaler().fit(top3_X_train_pt)\n",
    "\n",
    "with open(\"../Scalers/top3_scaler.pkl\",\"wb\") as file:\n",
    "    pickle.dump(top3_scaler, file)\n",
    "\n",
    "top3_X_train_pt_mm = top3_scaler.transform(top3_X_train_pt)\n",
    "top3_X_train_pt_mm = pd.DataFrame(top3_X_train_pt_mm, columns = top3_X_train_pt.columns, index = top3_X_train_pt.index)\n",
    "\n",
    "top3_X_test_pt_mm = top3_scaler.transform(top3_X_test_pt)\n",
    "top3_X_test_pt_mm = pd.DataFrame(top3_X_test_pt_mm, columns = top3_X_test_pt.columns, index = top3_X_test_pt.index)"
   ]
  },
  {
   "cell_type": "markdown",
   "id": "4eb0e8d3-0539-42c2-b999-1736299b91ab",
   "metadata": {},
   "source": [
    "### Model"
   ]
  },
  {
   "cell_type": "code",
   "execution_count": 38,
   "id": "5a01ac68-559c-4355-b167-c053a6a6780d",
   "metadata": {},
   "outputs": [],
   "source": [
    "top3_lr = LogisticRegression(random_state = 22, solver = \"lbfgs\").fit(top3_X_train_pt_mm, top3_y_train)\n",
    "\n",
    "with open(\"../Models/top3_lr.pkl\",\"wb\") as file:\n",
    "    pickle.dump(top3_lr, file)"
   ]
  },
  {
   "cell_type": "markdown",
   "id": "b54346cd-e6e9-4709-98ee-d148bc92d627",
   "metadata": {},
   "source": [
    "### Validation"
   ]
  },
  {
   "cell_type": "code",
   "execution_count": 39,
   "id": "a098f853-57ed-40d5-9d70-62a725345648",
   "metadata": {},
   "outputs": [
    {
     "name": "stdout",
     "output_type": "stream",
     "text": [
      "Third Model Train Kappa Score: 0.40\n",
      "Third Model Test Kappa Score: 0.24\n"
     ]
    }
   ],
   "source": [
    "top3_lr_y_train_pred = top3_lr.predict(top3_X_train_pt_mm)\n",
    "top3_lr_y_test_pred = top3_lr.predict(top3_X_test_pt_mm)\n",
    "\n",
    "print(\"Third Model Train Kappa Score: {:.2f}\".format((cohen_kappa_score(top3_y_train, top3_lr_y_train_pred))))\n",
    "print(\"Third Model Test Kappa Score: {:.2f}\".format(cohen_kappa_score(top3_y_test, top3_lr_y_test_pred)))"
   ]
  },
  {
   "cell_type": "markdown",
   "id": "db149b6c-b456-4023-bee6-1e5e846a5c7e",
   "metadata": {},
   "source": [
    "### Visualization"
   ]
  },
  {
   "cell_type": "code",
   "execution_count": 40,
   "id": "307267c5-7395-418f-a2fc-9993339980b5",
   "metadata": {},
   "outputs": [
    {
     "data": {
      "image/png": "[encoded data removed]",
      "text/plain": [
       "<Figure size 432x288 with 2 Axes>"
      ]
     },
     "metadata": {
      "needs_background": "light"
     },
     "output_type": "display_data"
    }
   ],
   "source": [
    "top3_cm_train = confusion_matrix(top3_y_train, top3_lr_y_train_pred)\n",
    "disp = ConfusionMatrixDisplay(top3_cm_train,display_labels=top3_lr.classes_);\n",
    "disp.plot()\n",
    "plt.title(\"Top3 Train\")\n",
    "plt.savefig(\"../Slides/Images/Top3Train.png\")"
   ]
  },
  {
   "cell_type": "code",
   "execution_count": 41,
   "id": "590ee697-7acd-43f7-9b6b-5a35dfdae698",
   "metadata": {},
   "outputs": [
    {
     "data": {
      "image/png": "[encoded data removed]",
      "text/plain": [
       "<Figure size 432x288 with 2 Axes>"
      ]
     },
     "metadata": {
      "needs_background": "light"
     },
     "output_type": "display_data"
    }
   ],
   "source": [
    "top3_cm_test = confusion_matrix(top3_y_test, top3_lr_y_test_pred)\n",
    "disp = ConfusionMatrixDisplay(top3_cm_test,display_labels=top3_lr.classes_);\n",
    "disp.plot()\n",
    "plt.title(\"Top3 Test\")\n",
    "plt.savefig(\"../Slides/Images/Top3Test.png\")"
   ]
  },
  {
   "cell_type": "markdown",
   "id": "fee16407-d556-4263-a6eb-12a16b85c7d0",
   "metadata": {},
   "source": [
    "## Fourth model:\n",
    "\n",
    "- Logistic Regression\n",
    "- Target = Top5"
   ]
  },
  {
   "cell_type": "code",
   "execution_count": 42,
   "id": "742dabe5-658f-496f-9e3b-d33cf8044281",
   "metadata": {},
   "outputs": [
    {
     "data": {
      "text/html": [
       "<div>\n",
       "<style scoped>\n",
       "    .dataframe tbody tr th:only-of-type {\n",
       "        vertical-align: middle;\n",
       "    }\n",
       "\n",
       "    .dataframe tbody tr th {\n",
       "        vertical-align: top;\n",
       "    }\n",
       "\n",
       "    .dataframe thead th {\n",
       "        text-align: right;\n",
       "    }\n",
       "</style>\n",
       "<table border=\"1\" class=\"dataframe\">\n",
       "  <thead>\n",
       "    <tr style=\"text-align: right;\">\n",
       "      <th></th>\n",
       "      <th>Rank</th>\n",
       "      <th>Age</th>\n",
       "      <th>Share</th>\n",
       "      <th>G</th>\n",
       "      <th>MP</th>\n",
       "      <th>PTS</th>\n",
       "      <th>TRB</th>\n",
       "      <th>AST</th>\n",
       "      <th>STL</th>\n",
       "      <th>BLK</th>\n",
       "      <th>...</th>\n",
       "      <th>WS</th>\n",
       "      <th>WS/48</th>\n",
       "      <th>PTS/M</th>\n",
       "      <th>TRB/M</th>\n",
       "      <th>AST/M</th>\n",
       "      <th>STL/M</th>\n",
       "      <th>BLK/M</th>\n",
       "      <th>Stats/M</th>\n",
       "      <th>Top3</th>\n",
       "      <th>Top5</th>\n",
       "    </tr>\n",
       "  </thead>\n",
       "  <tbody>\n",
       "    <tr>\n",
       "      <th>0</th>\n",
       "      <td>1</td>\n",
       "      <td>27</td>\n",
       "      <td>0.998</td>\n",
       "      <td>79</td>\n",
       "      <td>40.0</td>\n",
       "      <td>29.7</td>\n",
       "      <td>13.6</td>\n",
       "      <td>3.8</td>\n",
       "      <td>0.5</td>\n",
       "      <td>3.0</td>\n",
       "      <td>...</td>\n",
       "      <td>18.6</td>\n",
       "      <td>0.283</td>\n",
       "      <td>0.742500</td>\n",
       "      <td>0.340000</td>\n",
       "      <td>0.095000</td>\n",
       "      <td>0.012500</td>\n",
       "      <td>0.075000</td>\n",
       "      <td>1.265000</td>\n",
       "      <td>True</td>\n",
       "      <td>True</td>\n",
       "    </tr>\n",
       "    <tr>\n",
       "      <th>1</th>\n",
       "      <td>2</td>\n",
       "      <td>23</td>\n",
       "      <td>0.337</td>\n",
       "      <td>81</td>\n",
       "      <td>40.0</td>\n",
       "      <td>22.9</td>\n",
       "      <td>11.8</td>\n",
       "      <td>5.0</td>\n",
       "      <td>1.5</td>\n",
       "      <td>1.6</td>\n",
       "      <td>...</td>\n",
       "      <td>11.6</td>\n",
       "      <td>0.172</td>\n",
       "      <td>0.572500</td>\n",
       "      <td>0.295000</td>\n",
       "      <td>0.125000</td>\n",
       "      <td>0.037500</td>\n",
       "      <td>0.040000</td>\n",
       "      <td>1.070000</td>\n",
       "      <td>True</td>\n",
       "      <td>True</td>\n",
       "    </tr>\n",
       "    <tr>\n",
       "      <th>2</th>\n",
       "      <td>3</td>\n",
       "      <td>29</td>\n",
       "      <td>0.303</td>\n",
       "      <td>79</td>\n",
       "      <td>34.8</td>\n",
       "      <td>21.7</td>\n",
       "      <td>9.5</td>\n",
       "      <td>1.6</td>\n",
       "      <td>0.5</td>\n",
       "      <td>3.7</td>\n",
       "      <td>...</td>\n",
       "      <td>12.9</td>\n",
       "      <td>0.226</td>\n",
       "      <td>0.623563</td>\n",
       "      <td>0.272989</td>\n",
       "      <td>0.045977</td>\n",
       "      <td>0.014368</td>\n",
       "      <td>0.106322</td>\n",
       "      <td>1.063218</td>\n",
       "      <td>True</td>\n",
       "      <td>True</td>\n",
       "    </tr>\n",
       "    <tr>\n",
       "      <th>3</th>\n",
       "      <td>4</td>\n",
       "      <td>36</td>\n",
       "      <td>0.258</td>\n",
       "      <td>82</td>\n",
       "      <td>35.9</td>\n",
       "      <td>25.5</td>\n",
       "      <td>9.5</td>\n",
       "      <td>3.7</td>\n",
       "      <td>1.0</td>\n",
       "      <td>0.9</td>\n",
       "      <td>...</td>\n",
       "      <td>15.3</td>\n",
       "      <td>0.249</td>\n",
       "      <td>0.710306</td>\n",
       "      <td>0.264624</td>\n",
       "      <td>0.103064</td>\n",
       "      <td>0.027855</td>\n",
       "      <td>0.025070</td>\n",
       "      <td>1.130919</td>\n",
       "      <td>False</td>\n",
       "      <td>True</td>\n",
       "    </tr>\n",
       "    <tr>\n",
       "      <th>4</th>\n",
       "      <td>5</td>\n",
       "      <td>23</td>\n",
       "      <td>0.205</td>\n",
       "      <td>74</td>\n",
       "      <td>38.9</td>\n",
       "      <td>23.2</td>\n",
       "      <td>12.4</td>\n",
       "      <td>3.2</td>\n",
       "      <td>0.9</td>\n",
       "      <td>2.2</td>\n",
       "      <td>...</td>\n",
       "      <td>13.0</td>\n",
       "      <td>0.218</td>\n",
       "      <td>0.596401</td>\n",
       "      <td>0.318766</td>\n",
       "      <td>0.082262</td>\n",
       "      <td>0.023136</td>\n",
       "      <td>0.056555</td>\n",
       "      <td>1.077121</td>\n",
       "      <td>False</td>\n",
       "      <td>True</td>\n",
       "    </tr>\n",
       "  </tbody>\n",
       "</table>\n",
       "<p>5 rows × 23 columns</p>\n",
       "</div>"
      ],
      "text/plain": [
       "   Rank  Age  Share   G    MP   PTS   TRB  AST  STL  BLK  ...    WS  WS/48  \\\n",
       "0     1   27  0.998  79  40.0  29.7  13.6  3.8  0.5  3.0  ...  18.6  0.283   \n",
       "1     2   23  0.337  81  40.0  22.9  11.8  5.0  1.5  1.6  ...  11.6  0.172   \n",
       "2     3   29  0.303  79  34.8  21.7   9.5  1.6  0.5  3.7  ...  12.9  0.226   \n",
       "3     4   36  0.258  82  35.9  25.5   9.5  3.7  1.0  0.9  ...  15.3  0.249   \n",
       "4     5   23  0.205  74  38.9  23.2  12.4  3.2  0.9  2.2  ...  13.0  0.218   \n",
       "\n",
       "      PTS/M     TRB/M     AST/M     STL/M     BLK/M   Stats/M   Top3  Top5  \n",
       "0  0.742500  0.340000  0.095000  0.012500  0.075000  1.265000   True  True  \n",
       "1  0.572500  0.295000  0.125000  0.037500  0.040000  1.070000   True  True  \n",
       "2  0.623563  0.272989  0.045977  0.014368  0.106322  1.063218   True  True  \n",
       "3  0.710306  0.264624  0.103064  0.027855  0.025070  1.130919  False  True  \n",
       "4  0.596401  0.318766  0.082262  0.023136  0.056555  1.077121  False  True  \n",
       "\n",
       "[5 rows x 23 columns]"
      ]
     },
     "execution_count": 42,
     "metadata": {},
     "output_type": "execute_result"
    }
   ],
   "source": [
    "mvps[\"Top5\"] = mvps[\"Rank\"] <= 5\n",
    "mvps.head()"
   ]
  },
  {
   "cell_type": "markdown",
   "id": "0d7f79ba-f7ce-4075-94cc-1741b4c68b95",
   "metadata": {},
   "source": [
    "### X/y Split"
   ]
  },
  {
   "cell_type": "code",
   "execution_count": 43,
   "id": "bbd3ca4d-a4ee-4444-b92b-67cb65727a54",
   "metadata": {},
   "outputs": [],
   "source": [
    "top5_X = mvps[[\"WS/48\", \"Stats/M\"]]\n",
    "top5_y = mvps[\"Top5\"]"
   ]
  },
  {
   "cell_type": "markdown",
   "id": "fa6d56b7-31f0-4ad0-8246-a37b4b76082f",
   "metadata": {},
   "source": [
    "### Train/Test Split"
   ]
  },
  {
   "cell_type": "code",
   "execution_count": 44,
   "id": "eb1c67e8-4686-454a-86db-0b709ce689aa",
   "metadata": {},
   "outputs": [],
   "source": [
    "top5_X_train, top5_X_test, top5_y_train, top5_y_test = train_test_split(top5_X, top5_y, test_size = 0.22, random_state = 22)"
   ]
  },
  {
   "cell_type": "markdown",
   "id": "67ef82ca-2529-48dc-9b4a-d83f60f5d051",
   "metadata": {},
   "source": [
    "### Transformer"
   ]
  },
  {
   "cell_type": "code",
   "execution_count": 45,
   "id": "965acf27-270f-41f2-8ab2-59d1e68f6655",
   "metadata": {},
   "outputs": [],
   "source": [
    "top5_pt = PowerTransformer().fit(top5_X_train)\n",
    "\n",
    "with open(\"../Transformers/top5_pt.pkl\",\"wb\") as file:\n",
    "    pickle.dump(top5_pt, file)\n",
    "\n",
    "top5_X_train_pt = top5_pt.transform(top5_X_train)\n",
    "top5_X_train_pt = pd.DataFrame(top5_X_train_pt, columns = top5_X_train.columns, index = top5_X_train.index)\n",
    "\n",
    "top5_X_test_pt = top5_pt.transform(top5_X_test)\n",
    "top5_X_test_pt = pd.DataFrame(top5_X_test_pt, columns = top5_X_test.columns, index = top5_X_test.index)"
   ]
  },
  {
   "cell_type": "markdown",
   "id": "8c4ad390-aa52-4fbf-98b6-a47093d56e30",
   "metadata": {},
   "source": [
    "### Scaler"
   ]
  },
  {
   "cell_type": "code",
   "execution_count": 46,
   "id": "f451be3c-e1cb-4da5-8e2e-5d7819220d33",
   "metadata": {},
   "outputs": [],
   "source": [
    "top5_scaler = MinMaxScaler().fit(top5_X_train_pt)\n",
    "\n",
    "with open(\"../Scalers/top5_scaler.pkl\",\"wb\") as file:\n",
    "    pickle.dump(top5_scaler, file)\n",
    "\n",
    "top5_X_train_pt_mm = top5_scaler.transform(top5_X_train_pt)\n",
    "top5_X_train_pt_mm = pd.DataFrame(top5_X_train_pt_mm, columns = top5_X_train_pt.columns, index = top5_X_train_pt.index)\n",
    "\n",
    "top5_X_test_pt_mm = top5_scaler.transform(top5_X_test_pt)\n",
    "top5_X_test_pt_mm = pd.DataFrame(top5_X_test_pt_mm, columns = top5_X_test_pt.columns, index = top5_X_test_pt.index)"
   ]
  },
  {
   "cell_type": "markdown",
   "id": "4946abfd-45bb-4cc4-ba4c-2ac70665f4ce",
   "metadata": {},
   "source": [
    "### Model"
   ]
  },
  {
   "cell_type": "code",
   "execution_count": 47,
   "id": "d797be93-cf98-41d5-8157-3d26ad417397",
   "metadata": {},
   "outputs": [],
   "source": [
    "top5_lr = LogisticRegression(random_state = 22, solver = \"lbfgs\").fit(top5_X_train_pt_mm, top5_y_train)\n",
    "\n",
    "with open(\"../Models/top5_lr.pkl\",\"wb\") as file:\n",
    "    pickle.dump(top5_lr, file)"
   ]
  },
  {
   "cell_type": "markdown",
   "id": "cb7f0503-63a5-42ec-ace4-d29af23a6db4",
   "metadata": {},
   "source": [
    "### Validation"
   ]
  },
  {
   "cell_type": "code",
   "execution_count": 48,
   "id": "ef36c49e-0289-44a2-9563-425aa7b89523",
   "metadata": {},
   "outputs": [
    {
     "name": "stdout",
     "output_type": "stream",
     "text": [
      "Fourth Model Train Kappa Score: 0.54\n",
      "Fourth Model Test Kappa Score: 0.36\n"
     ]
    }
   ],
   "source": [
    "top5_lr_y_train_pred = top5_lr.predict(top5_X_train_pt_mm)\n",
    "top5_lr_y_test_pred = top5_lr.predict(top5_X_test_pt_mm)\n",
    "\n",
    "print(\"Fourth Model Train Kappa Score: {:.2f}\".format(cohen_kappa_score(top5_y_train, top5_lr_y_train_pred)))\n",
    "print(\"Fourth Model Test Kappa Score: {:.2f}\".format(cohen_kappa_score(top5_y_test, top5_lr_y_test_pred)))"
   ]
  },
  {
   "cell_type": "markdown",
   "id": "9b13c9b4-1af3-4455-996e-1d1172874904",
   "metadata": {},
   "source": [
    "### Visualization"
   ]
  },
  {
   "cell_type": "code",
   "execution_count": 49,
   "id": "bda5eda8-9015-45cf-98f8-2c9b1b829f72",
   "metadata": {
    "tags": []
   },
   "outputs": [
    {
     "data": {
      "image/png": "[encoded data removed]",
      "text/plain": [
       "<Figure size 432x288 with 2 Axes>"
      ]
     },
     "metadata": {
      "needs_background": "light"
     },
     "output_type": "display_data"
    }
   ],
   "source": [
    "top5_cm_train = confusion_matrix(top5_y_train, top5_lr_y_train_pred)\n",
    "disp = ConfusionMatrixDisplay(top5_cm_train,display_labels=top5_lr.classes_);\n",
    "disp.plot()\n",
    "plt.title(\"Top5 Train\")\n",
    "plt.savefig(\"../Slides/Images/Top5Train.png\")"
   ]
  },
  {
   "cell_type": "code",
   "execution_count": 50,
   "id": "ad2cf7d6-7647-4054-829e-e7be6f836cb6",
   "metadata": {},
   "outputs": [
    {
     "data": {
      "image/png": "[encoded data removed]",
      "text/plain": [
       "<Figure size 432x288 with 2 Axes>"
      ]
     },
     "metadata": {
      "needs_background": "light"
     },
     "output_type": "display_data"
    }
   ],
   "source": [
    "top5_cm_test = confusion_matrix(top5_y_test, top5_lr_y_test_pred)\n",
    "disp = ConfusionMatrixDisplay(top5_cm_test,display_labels=top5_lr.classes_);\n",
    "disp.plot()\n",
    "plt.title(\"Top5 Test\")\n",
    "plt.savefig(\"../Slides/Images/Top5Test.png\")"
   ]
  },
  {
   "cell_type": "markdown",
   "id": "d48c6e81-aa4f-4f1b-aa98-754bb42da626",
   "metadata": {
    "tags": []
   },
   "source": [
    "## Fifth model:\n",
    "\n",
    "- MinMax before concat\n",
    "- Linear Regression\n",
    "- Target: Rank\n",
    "\n",
    "For this model we are going to try something different: instead of comparing all the players throughout the years, we are going to rank them only against players of the same year.\n",
    "\n",
    "This means that the player with the best stats for each year will have a 1 in the Stat/M column and the worst will have a 0, the same will happen to the WS/48 column.\n",
    "\n",
    "This is done applying a MinMaxScaler BEFORE concatenating all the Datasets together.\n",
    "\n",
    "With this we want to reduce the impact of the steadily increase of Stats/M that the league has been experiencing this past years."
   ]
  },
  {
   "cell_type": "code",
   "execution_count": 51,
   "id": "92d3664a-a6c1-4c94-8658-1dab581f7375",
   "metadata": {},
   "outputs": [],
   "source": [
    "mvps_names_X = []\n",
    "mvps_names_y = []\n",
    "mvps_data_X = []\n",
    "mvps_data_y = []\n",
    "\n",
    "for x in range(23):\n",
    "    mvps_names_X.append(\"mvp\"+str(2000+x)+\"_X\")\n",
    "    mvps_names_y.append(\"mvp\"+str(2000+x)+\"_y\")\n",
    "\n",
    "for x in range(23):\n",
    "    y = pd.read_csv(\"../Data/Cleaned/CleanMVP{}.csv\".format(2000+x))\n",
    "    mvps_data_X.append(y[[\"WS/48\", \"Stats/M\"]])\n",
    "    mvps_data_y.append(y[\"Rank\"])"
   ]
  },
  {
   "cell_type": "code",
   "execution_count": 52,
   "id": "339209f5-8eb4-4ee8-ba08-b5c471846b2c",
   "metadata": {},
   "outputs": [],
   "source": [
    "mvps_X_dfs = dict(zip(mvps_names_X, mvps_data_X))\n",
    "mvps_y_dfs = dict(zip(mvps_names_y, mvps_data_y))\n",
    "\n",
    "for value in mvps_X_dfs:\n",
    "    mvps_scaler = MinMaxScaler().fit(mvps_X_dfs[value])\n",
    "    mvps_X_dfs[value] = pd.DataFrame(mvps_scaler.transform(mvps_X_dfs[value]), columns = mvps_X_dfs[value].columns, index = mvps_X_dfs[value].index)"
   ]
  },
  {
   "cell_type": "code",
   "execution_count": 53,
   "id": "c55a9d30-0c8f-41d8-8c20-84e0e94e6be9",
   "metadata": {},
   "outputs": [],
   "source": [
    "mvps_X = pd.concat(mvps_X_dfs.values(), ignore_index = True)\n",
    "mvps_y = pd.concat(mvps_y_dfs.values(), ignore_index = True)"
   ]
  },
  {
   "cell_type": "code",
   "execution_count": 54,
   "id": "1a61d974-aac0-4e30-b674-cd286d97e58c",
   "metadata": {},
   "outputs": [],
   "source": [
    "mvps_X.to_csv(\"../Data/Cleaned/MVPs_X.csv\", index = False)\n",
    "mvps_y.to_csv(\"../Data/Cleaned/MVPs_y.csv\", index = False)"
   ]
  },
  {
   "cell_type": "code",
   "execution_count": 55,
   "id": "0f2b90ac-bb55-4178-89ea-436685910f25",
   "metadata": {},
   "outputs": [
    {
     "data": {
      "text/html": [
       "<div>\n",
       "<style scoped>\n",
       "    .dataframe tbody tr th:only-of-type {\n",
       "        vertical-align: middle;\n",
       "    }\n",
       "\n",
       "    .dataframe tbody tr th {\n",
       "        vertical-align: top;\n",
       "    }\n",
       "\n",
       "    .dataframe thead th {\n",
       "        text-align: right;\n",
       "    }\n",
       "</style>\n",
       "<table border=\"1\" class=\"dataframe\">\n",
       "  <thead>\n",
       "    <tr style=\"text-align: right;\">\n",
       "      <th></th>\n",
       "      <th>WS/48</th>\n",
       "      <th>Stats/M</th>\n",
       "    </tr>\n",
       "  </thead>\n",
       "  <tbody>\n",
       "    <tr>\n",
       "      <th>0</th>\n",
       "      <td>1.000000</td>\n",
       "      <td>1.000000</td>\n",
       "    </tr>\n",
       "    <tr>\n",
       "      <th>1</th>\n",
       "      <td>0.343195</td>\n",
       "      <td>0.672612</td>\n",
       "    </tr>\n",
       "    <tr>\n",
       "      <th>2</th>\n",
       "      <td>0.662722</td>\n",
       "      <td>0.661226</td>\n",
       "    </tr>\n",
       "    <tr>\n",
       "      <th>3</th>\n",
       "      <td>0.798817</td>\n",
       "      <td>0.774890</td>\n",
       "    </tr>\n",
       "    <tr>\n",
       "      <th>4</th>\n",
       "      <td>0.615385</td>\n",
       "      <td>0.684567</td>\n",
       "    </tr>\n",
       "  </tbody>\n",
       "</table>\n",
       "</div>"
      ],
      "text/plain": [
       "      WS/48   Stats/M\n",
       "0  1.000000  1.000000\n",
       "1  0.343195  0.672612\n",
       "2  0.662722  0.661226\n",
       "3  0.798817  0.774890\n",
       "4  0.615385  0.684567"
      ]
     },
     "execution_count": 55,
     "metadata": {},
     "output_type": "execute_result"
    }
   ],
   "source": [
    "mvps_X.head()"
   ]
  },
  {
   "cell_type": "code",
   "execution_count": 56,
   "id": "d24dd921-64fa-4884-9c90-0c2fc5983e87",
   "metadata": {},
   "outputs": [
    {
     "data": {
      "text/plain": [
       "0    1\n",
       "1    2\n",
       "2    3\n",
       "3    4\n",
       "4    5\n",
       "Name: Rank, dtype: int64"
      ]
     },
     "execution_count": 56,
     "metadata": {},
     "output_type": "execute_result"
    }
   ],
   "source": [
    "mvps_y.head()"
   ]
  },
  {
   "cell_type": "markdown",
   "id": "084276f9-1ba9-4bee-aa19-6fe5aaab96f4",
   "metadata": {},
   "source": [
    "### Train/Test Split"
   ]
  },
  {
   "cell_type": "code",
   "execution_count": 57,
   "id": "6ad6510a-58ff-4827-ae51-216bee08b897",
   "metadata": {},
   "outputs": [],
   "source": [
    "mvps_X_train, mvps_X_test, mvps_y_train, mvps_y_test = train_test_split(mvps_X, mvps_y, test_size = 0.3, random_state = 22)"
   ]
  },
  {
   "cell_type": "markdown",
   "id": "51d94d45-9713-48a2-a7a4-2c63efb0bdeb",
   "metadata": {},
   "source": [
    "### Transformer"
   ]
  },
  {
   "cell_type": "code",
   "execution_count": 58,
   "id": "cfd17f2d-eb1f-452e-ae17-183576bef45a",
   "metadata": {},
   "outputs": [
    {
     "data": {
      "image/png": "[encoded data removed]",
      "text/plain": [
       "<Figure size 1440x720 with 2 Axes>"
      ]
     },
     "metadata": {
      "needs_background": "light"
     },
     "output_type": "display_data"
    }
   ],
   "source": [
    "functions.plot_maker(mvps_X_train)"
   ]
  },
  {
   "cell_type": "code",
   "execution_count": 59,
   "id": "5cfbbf29-3737-45de-be8a-24eb01804a92",
   "metadata": {},
   "outputs": [],
   "source": [
    "mvps_pt = PowerTransformer().fit(mvps_X_train)\n",
    "\n",
    "with open(\"../Transformers/mvps_pt.pkl\", \"wb\") as file:\n",
    "    pickle.dump(mvps_pt, file)\n",
    "    \n",
    "mvps_X_train_pt = mvps_pt.transform(mvps_X_train)\n",
    "mvps_X_train_pt = pd.DataFrame(mvps_X_train_pt, columns = mvps_X_train.columns, index = mvps_X_train.index)\n",
    "\n",
    "mvps_X_test_pt = mvps_pt.transform(mvps_X_test)\n",
    "mvps_X_test_pt = pd.DataFrame(mvps_X_test_pt, columns = mvps_X_test.columns, index = mvps_X_test.index)"
   ]
  },
  {
   "cell_type": "code",
   "execution_count": 60,
   "id": "0ce98d3c-949a-468c-a2e0-80ba72557afa",
   "metadata": {},
   "outputs": [
    {
     "data": {
      "image/png": "[encoded data removed]",
      "text/plain": [
       "<Figure size 1440x720 with 2 Axes>"
      ]
     },
     "metadata": {
      "needs_background": "light"
     },
     "output_type": "display_data"
    }
   ],
   "source": [
    "functions.plot_maker(mvps_X_train_pt)"
   ]
  },
  {
   "cell_type": "markdown",
   "id": "84a79c97-6925-4bce-8e5d-83dc0c63dc88",
   "metadata": {},
   "source": [
    "### Model"
   ]
  },
  {
   "cell_type": "code",
   "execution_count": 61,
   "id": "abf102a1-ac6e-49cc-bda0-cb35c1cc1fc5",
   "metadata": {},
   "outputs": [],
   "source": [
    "mvps_lr = LinearRegression().fit(mvps_X_train_pt, mvps_y_train)\n",
    "\n",
    "with open(\"../Models/mvps_lr.pkl\", \"wb\") as file:\n",
    "    pickle.dump(mvps_lr, file)"
   ]
  },
  {
   "cell_type": "markdown",
   "id": "a2e0e658-2ee3-401f-b388-74f12a286604",
   "metadata": {},
   "source": [
    "### Validation"
   ]
  },
  {
   "cell_type": "code",
   "execution_count": 62,
   "id": "3d373a57-39c9-4553-8378-d488af1220e6",
   "metadata": {},
   "outputs": [
    {
     "name": "stdout",
     "output_type": "stream",
     "text": [
      "Fifth Model Train Score: 0.38\n",
      "Fifth Model Train Score: 0.29\n"
     ]
    }
   ],
   "source": [
    "mvps_y_train_pred = mvps_lr.predict(mvps_X_train_pt)\n",
    "mvps_y_test_pred = mvps_lr.predict(mvps_X_test_pt)\n",
    "\n",
    "print(\"Fifth Model Train Score: {:.2f}\".format(r2_score(mvps_y_train, mvps_y_train_pred)))\n",
    "print(\"Fifth Model Train Score: {:.2f}\".format(r2_score(mvps_y_test, mvps_y_test_pred)))"
   ]
  },
  {
   "cell_type": "markdown",
   "id": "8f793609-46c6-48a5-9592-171cb4447d61",
   "metadata": {},
   "source": [
    "### Visualization"
   ]
  },
  {
   "cell_type": "code",
   "execution_count": 63,
   "id": "589cbd11-5af8-4902-9c83-a0bee32a6c8f",
   "metadata": {},
   "outputs": [
    {
     "data": {
      "image/png": "[encoded data removed]",
      "text/plain": [
       "<Figure size 432x288 with 1 Axes>"
      ]
     },
     "metadata": {
      "needs_background": "light"
     },
     "output_type": "display_data"
    }
   ],
   "source": [
    "sns.regplot(x = mvps_y_train, y = mvps_y_train_pred).set(title=\"MVPs Train\")\n",
    "plt.xlabel(\"Real Rank\")\n",
    "plt.ylabel(\"Predicted Rank\")\n",
    "plt.savefig(\"../Slides/Images/MVPsTrain.png\")"
   ]
  },
  {
   "cell_type": "code",
   "execution_count": 64,
   "id": "8768485f-a5f1-475d-b9cf-7a4293da3da3",
   "metadata": {},
   "outputs": [
    {
     "data": {
      "image/png": "[encoded data removed]",
      "text/plain": [
       "<Figure size 432x288 with 1 Axes>"
      ]
     },
     "metadata": {
      "needs_background": "light"
     },
     "output_type": "display_data"
    }
   ],
   "source": [
    "sns.regplot(x = mvps_y_test, y = mvps_y_test_pred).set(title=\"MVPs Test\")\n",
    "plt.xlabel(\"Real Rank\")\n",
    "plt.ylabel(\"Predicted Rank\")\n",
    "plt.savefig(\"../Slides/Images/MVPsTest.png\")"
   ]
  }
 ],
 "metadata": {
  "kernelspec": {
   "display_name": "Python 3 (ipykernel)",
   "language": "python",
   "name": "python3"
  },
  "language_info": {
   "codemirror_mode": {
    "name": "ipython",
    "version": 3
   },
   "file_extension": ".py",
   "mimetype": "text/x-python",
   "name": "python",
   "nbconvert_exporter": "python",
   "pygments_lexer": "ipython3",
   "version": "3.9.12"
  }
 },
 "nbformat": 4,
 "nbformat_minor": 5
}
