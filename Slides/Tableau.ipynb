{
 "cells": [
  {
   "cell_type": "markdown",
   "id": "e761af1a-b9a6-439e-b792-8bd8aa0d58eb",
   "metadata": {},
   "source": [
    "[Tableau Public Link](https://public.tableau.com/views/NBA-MVPs-Analysis/Intro?:language=en-US&publish=yes&:display_count=n&:origin=viz_share_link)"
   ]
  }
 ],
 "metadata": {
  "kernelspec": {
   "display_name": "Python 3 (ipykernel)",
   "language": "python",
   "name": "python3"
  },
  "language_info": {
   "codemirror_mode": {
    "name": "ipython",
    "version": 3
   },
   "file_extension": ".py",
   "mimetype": "text/x-python",
   "name": "python",
   "nbconvert_exporter": "python",
   "pygments_lexer": "ipython3",
   "version": "3.9.12"
  }
 },
 "nbformat": 4,
 "nbformat_minor": 5
}
